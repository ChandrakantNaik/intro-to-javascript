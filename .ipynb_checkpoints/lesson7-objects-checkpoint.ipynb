{
 "cells": [
  {
   "cell_type": "markdown",
   "id": "e3dc56db-5d06-4507-8c30-89875aa9ec13",
   "metadata": {},
   "source": [
    "# Objects\n",
    "## Objects - In Practice"
   ]
  },
  {
   "cell_type": "code",
   "execution_count": 1,
   "id": "f88fead0-2812-46c0-9df6-69a7786998b7",
   "metadata": {},
   "outputs": [
    {
     "name": "stdout",
     "output_type": "stream",
     "text": [
      "object\n"
     ]
    }
   ],
   "source": [
    "var umbrella = {\n",
    "    color: \"pink\",\n",
    "    isOpen: false,\n",
    "    open: function(){\n",
    "        if(umbrella.isOpen === true){\n",
    "            return \"The umbrella is already opened!\";\n",
    "        } else {\n",
    "            umbrella.isOpen = true;\n",
    "            return \"Julia opens the umbrella\"\n",
    "        }\n",
    "    }\n",
    "};\n",
    "console.log(typeof umbrella)"
   ]
  },
  {
   "cell_type": "code",
   "execution_count": 2,
   "id": "18c5733d-7619-425c-9c74-59a8e3cd3b21",
   "metadata": {},
   "outputs": [
    {
     "data": {
      "text/plain": [
       "false"
      ]
     },
     "execution_count": 2,
     "metadata": {},
     "output_type": "execute_result"
    }
   ],
   "source": [
    "umbrella.isOpen"
   ]
  },
  {
   "cell_type": "code",
   "execution_count": 3,
   "id": "a7f98a5a-bb09-4833-8569-ba6ad441661c",
   "metadata": {},
   "outputs": [
    {
     "data": {
      "text/plain": [
       "'Julia opens the umbrella'"
      ]
     },
     "execution_count": 3,
     "metadata": {},
     "output_type": "execute_result"
    }
   ],
   "source": [
    "umbrella.open()"
   ]
  },
  {
   "cell_type": "code",
   "execution_count": 4,
   "id": "26810c59-7425-4620-9fb5-7e40e78ff4ae",
   "metadata": {},
   "outputs": [
    {
     "data": {
      "text/plain": [
       "true"
      ]
     },
     "execution_count": 4,
     "metadata": {},
     "output_type": "execute_result"
    }
   ],
   "source": [
    "umbrella.isOpen"
   ]
  },
  {
   "cell_type": "markdown",
   "id": "1683e4aa-c992-4c56-bac2-9a285c6171d4",
   "metadata": {},
   "source": [
    "NOTE: `typeof` is an operator that returns the name of the data type that follows it:"
   ]
  },
  {
   "cell_type": "code",
   "execution_count": 5,
   "id": "d8b29fa5-1bfd-4678-a748-be3f44eb1e17",
   "metadata": {},
   "outputs": [
    {
     "data": {
      "text/plain": [
       "'function'"
      ]
     },
     "execution_count": 5,
     "metadata": {},
     "output_type": "execute_result"
    }
   ],
   "source": [
    "typeof \"hello\" // returns \"string\"\n",
    "typeof true // returns \"boolean\"\n",
    "typeof [1, 2, 3] // returns \"object\" (Arrays are a type of object)\n",
    "typeof function hello() { } // returns \"function\""
   ]
  },
  {
   "cell_type": "code",
   "execution_count": 16,
   "id": "a54cf78b-af34-4a79-8a4a-8b14189892d0",
   "metadata": {},
   "outputs": [],
   "source": [
    "var umbrella = {\n",
    "    color: \"pink\",\n",
    "    isOpen: false,\n",
    "    open: function(){\n",
    "        if(umbrella.isOpen === true){\n",
    "            return \"The umbrella is already opened!\";\n",
    "        } else {\n",
    "            umbrella.isOpen = true;\n",
    "            return \"Julia opens the umbrella\";\n",
    "        }\n",
    "    },\n",
    "    close: function(){\n",
    "        if(umbrella.isOpen === false){\n",
    "            return \"The umbrella is already closed!\";\n",
    "        } else {\n",
    "            umbrella.isOpen = false;\n",
    "            return \"Julia closes the umbrella\";\n",
    "        }\n",
    "    }\n",
    "};"
   ]
  },
  {
   "cell_type": "code",
   "execution_count": 17,
   "id": "ac3b2a7f-f5b0-4d52-abcf-0a99222c96c2",
   "metadata": {},
   "outputs": [
    {
     "data": {
      "text/plain": [
       "false"
      ]
     },
     "execution_count": 17,
     "metadata": {},
     "output_type": "execute_result"
    }
   ],
   "source": [
    "umbrella.isOpen"
   ]
  },
  {
   "cell_type": "code",
   "execution_count": 18,
   "id": "3728260a-9409-4069-97c7-9aa601839473",
   "metadata": {},
   "outputs": [
    {
     "data": {
      "text/plain": [
       "'Julia opens the umbrella'"
      ]
     },
     "execution_count": 18,
     "metadata": {},
     "output_type": "execute_result"
    }
   ],
   "source": [
    "umbrella.open()"
   ]
  },
  {
   "cell_type": "code",
   "execution_count": 19,
   "id": "4a2b0adf-4fac-4ef4-959e-88b4dfbef580",
   "metadata": {},
   "outputs": [
    {
     "data": {
      "text/plain": [
       "true"
      ]
     },
     "execution_count": 19,
     "metadata": {},
     "output_type": "execute_result"
    }
   ],
   "source": [
    "umbrella.isOpen"
   ]
  },
  {
   "cell_type": "code",
   "execution_count": 20,
   "id": "4c2a11c7-a3f6-41bc-8380-5094ae7b89cb",
   "metadata": {},
   "outputs": [
    {
     "data": {
      "text/plain": [
       "'Julia closes the umbrella'"
      ]
     },
     "execution_count": 20,
     "metadata": {},
     "output_type": "execute_result"
    }
   ],
   "source": [
    "umbrella.close()"
   ]
  },
  {
   "cell_type": "markdown",
   "id": "8530f21d-fa9d-4ff9-a9e1-64c569c432f3",
   "metadata": {},
   "source": [
    "## Objects - Theory\n",
    "What is an object ?\n",
    "\n",
    "Objects are a data structure in Javascript that lets you store data about a particular thing, and helps you keep track of that data by using a \"ey\""
   ]
  },
  {
   "cell_type": "markdown",
   "id": "e6fce2a2-6633-4ce6-aaf0-52bfb9902a0b",
   "metadata": {},
   "source": [
    "## Object Literals\n",
    "<code>\n",
    "var sister = {\n",
    "  name: \"Sarah\", \n",
    "  age: 23,\n",
    "  parents: [ \"alice\", \"andy\" ],\n",
    "  siblings: [\"julia\"],\n",
    "  favoriteColor: \"purple\",\n",
    "  pets: true\n",
    "};\n",
    "</code><br>\n",
    "\n",
    "The syntax you see above is called **object-literal notation**. There are some important things you need to remember when you're structuring an object literal:\n",
    "- The \"key\" (representing a **property** or **method** name) and its \"value\" are separated from each other by a **colon**\n",
    "- The `key: value` pairs are separated from each other by **commas**\n",
    "- The entire object is wrapped inside curly braces `{ }`.\n",
    "\n",
    "Here's are a couple examples of how you can retrieve information about my sister's parents using the object you created.<br/>\n",
    "<code>\n",
    "// two equivalent ways to use the key to return its value\n",
    "sister[\"parents\"] // returns [ \"alice\", \"andy\" ]\n",
    "sister.parents // also returns [\"alice\", \"andy\"]\n",
    "</code><br/>\n",
    "\n",
    "Using `sister[\"parents\"]` is called `bracket notation` (because of the brackets!) and using `sister.parents` is called `dot notation` (because of the dot!).\n"
   ]
  },
  {
   "cell_type": "markdown",
   "id": "3fff6332-3421-44c9-a718-c2cfd5bcfcc7",
   "metadata": {},
   "source": [
    "## What about methods ?\n",
    "The sister object above contains a bunch of properties about my sister, but doesn't really say what my sister does. For instance, let's say my sister likes to paint. You might have a `paintPicture()` method that returns `\"Sarah paints a picture!\"` whenever you call it. The syntax for this is pretty much exactly the same as how you defined the properties of the object. The only difference is, the value in the key:value pair will be a function."
   ]
  },
  {
   "cell_type": "code",
   "execution_count": 21,
   "id": "4fde5366-348d-417c-98f9-393bc7f6545e",
   "metadata": {},
   "outputs": [
    {
     "data": {
      "text/plain": [
       "'Sarah paints!'"
      ]
     },
     "execution_count": 21,
     "metadata": {},
     "output_type": "execute_result"
    }
   ],
   "source": [
    "var sister = {\n",
    "  name: \"Sarah\",\n",
    "  age: 23,\n",
    "  parents: [ \"alice\", \"andy\" ],\n",
    "  siblings: [\"julia\"],\n",
    "  favoriteColor: \"purple\",\n",
    "  pets: true,\n",
    "  paintPicture: function() { return \"Sarah paints!\"; }\n",
    "};\n",
    "\n",
    "sister.paintPicture();"
   ]
  },
  {
   "cell_type": "markdown",
   "id": "b99131de-c263-4860-850d-3944b55dce84",
   "metadata": {},
   "source": [
    "and you can access the name of my sister by accessing the `name` property:"
   ]
  },
  {
   "cell_type": "code",
   "execution_count": 22,
   "id": "ba7b9e1f-66d7-45ca-acbb-994ec87fda51",
   "metadata": {},
   "outputs": [
    {
     "data": {
      "text/plain": [
       "'Sarah'"
      ]
     },
     "execution_count": 22,
     "metadata": {},
     "output_type": "execute_result"
    }
   ],
   "source": [
    "sister.name"
   ]
  },
  {
   "cell_type": "markdown",
   "id": "7797e0a6-255c-4940-86a5-189a55f4de39",
   "metadata": {},
   "source": [
    "## Summary of Objects\n",
    "Objects are one of the most important data structures in JavaScript. Get ready to see them everywhere!\n",
    "\n",
    "They have properties (information about the object) and methods (functions or capabilities the object has). Objects are an incredibly powerful data type and you will see them all over the place when working with JavaScript, or any other object-oriented programming language.\n",
    "\n",
    "### Object literals, methods, and properties\n",
    "You can define objects using object-literal notation:<br/>\n",
    "<code>\n",
    "var myObj = { \n",
    "  color: \"orange\",\n",
    "  shape: \"sphere\",\n",
    "  type: \"food\",\n",
    "  eat: function() { return \"yummy\" }\n",
    "};\n",
    "myObj.eat(); \n",
    "myObj.color;\n",
    "</code> <br/>\n",
    "\n",
    "### Naming conventions\n",
    "Feel free to use upper and lowercase numbers and letters, but `don't start your property name with a number`. You `don't need to wrap the string in quotes!` If it's a `multi-word property, use camel case`. `Don't use hyphens` in your property names <br/>\n",
    "<code>\n",
    "var richard = {\n",
    "  \"1stSon\": true;\n",
    "  \"loves-snow\": true;\n",
    "};\n",
    "richard.1stSon // error\n",
    "richard.loves-snow // error\n",
    "</code>\n",
    "\n",
    "\n"
   ]
  },
  {
   "cell_type": "markdown",
   "id": "7d12b259-1642-4007-b8a1-ce5909134537",
   "metadata": {},
   "source": [
    "## Directions:\n",
    "Create a `breakfast` object to represent the following menu item:\n",
    "\n",
    "<code>\n",
    "The Lumberjack - $9.95\n",
    "eggs, sausage, toast, hashbrowns, pancakes\n",
    "</code><br/>\n",
    "The object should contain properties for the `name`, `price`, and `ingredients`."
   ]
  },
  {
   "cell_type": "code",
   "execution_count": 23,
   "id": "8bb69da1-bcc7-46ff-91b7-668803d27daf",
   "metadata": {},
   "outputs": [
    {
     "name": "stdout",
     "output_type": "stream",
     "text": [
      "{\n",
      "  name: 'The Lumberjack',\n",
      "  price: '$9.95',\n",
      "  ingredients: [ 'eggs', 'sausage', 'toast', 'hashbrwons', 'pancakes' ]\n",
      "}\n"
     ]
    }
   ],
   "source": [
    "/*\n",
    " * Programming Quiz: Menu Items (7-2)\n",
    " * Create an object named `breakfast`. \n",
    " * The object should contain properties for the `name`, `price`, and `ingredients`.\n",
    " * Print the entire object on the console\n",
    " */\n",
    "\n",
    "var breakfast = {\n",
    "    name: 'The Lumberjack',\n",
    "    price: '$9.95',\n",
    "    ingredients : ['eggs', 'sausage', 'toast', 'hashbrwons', 'pancakes']\n",
    "}\n",
    "console.log(breakfast)\n"
   ]
  },
  {
   "cell_type": "markdown",
   "id": "67931c2b-26ab-4f6b-8a06-f3c48bb1d22c",
   "metadata": {},
   "source": [
    "## Directions\n",
    "add a `printAccountSummary()` method that returns the following account message:\n",
    "<code>\n",
    "Welcome!\n",
    "Your balance is currently $1000 and your interest rate is 1%.\n",
    "</code>\n"
   ]
  },
  {
   "cell_type": "code",
   "execution_count": 47,
   "id": "3c1c6c30-dde2-4f7a-af18-6af4dd13e66a",
   "metadata": {},
   "outputs": [],
   "source": [
    "/*\n",
    " * Programming Quiz: Bank Accounts 1 (7-3)\n",
    "*/\n",
    "\n",
    "/*\n",
    " * QUIZ REQUIREMENTS\n",
    " * - Your code should have an object `savingsAccount` \n",
    " * - Your `savingsAccount` object should have the `balance` and `interestRatePercent` property\n",
    " * - Your `savingsAccount` object should have a `printAccountSummary()` method\n",
    " * - Your `printAccountSummary()` method should return the EXACT expected message\n",
    " * - BE CAREFUL ABOUT THE PUNCTUATION, SPACES, AND EXACT WORDS TO BE PRINTED.\n",
    "*/\n",
    "\n",
    "\n",
    "var savingsAccount = {\n",
    "    balance: 1000,\n",
    "    interestRatePercent: 1,\n",
    "    deposit: function addMoney(amount) {\n",
    "        if (amount > 0) {\n",
    "            savingsAccount.balance += amount;\n",
    "        }\n",
    "    },\n",
    "    withdraw: function removeMoney(amount) {\n",
    "        var verifyBalance = savingsAccount.balance - amount;\n",
    "        if (amount > 0 && verifyBalance >= 0) {\n",
    "            savingsAccount.balance -= amount;\n",
    "        }\n",
    "    },\n",
    "    printAccountSummary: function (){\n",
    "        //console.log(\"Welcome!\");\n",
    "        //console.log(\"Your balance is currently $\" + savingsAccount.balance + \" and your interest reate is \"+ savingsAccount.interestRatePercent + \"%\");\n",
    "        return \"Welcome!\\nYour balance is currently $\" + savingsAccount.balance + \" and your interest rate is \" + savingsAccount.interestRatePercent + \"%.\"\n",
    "    }\n",
    "};"
   ]
  },
  {
   "cell_type": "code",
   "execution_count": 48,
   "id": "60cfcde3-4972-4e0b-aff1-67038674119b",
   "metadata": {},
   "outputs": [
    {
     "data": {
      "text/plain": [
       "1000"
      ]
     },
     "execution_count": 48,
     "metadata": {},
     "output_type": "execute_result"
    }
   ],
   "source": [
    "savingsAccount.balance"
   ]
  },
  {
   "cell_type": "code",
   "execution_count": 49,
   "id": "8352bcac-1523-4a37-80d6-ef222c560d43",
   "metadata": {},
   "outputs": [],
   "source": [
    "savingsAccount.deposit(2000)"
   ]
  },
  {
   "cell_type": "code",
   "execution_count": 50,
   "id": "6ae250f4-c3d8-4c1e-abd3-43566ba9b2d9",
   "metadata": {},
   "outputs": [
    {
     "data": {
      "text/plain": [
       "3000"
      ]
     },
     "execution_count": 50,
     "metadata": {},
     "output_type": "execute_result"
    }
   ],
   "source": [
    "savingsAccount.balance"
   ]
  },
  {
   "cell_type": "code",
   "execution_count": 51,
   "id": "9d84a2b8-e900-4f66-8862-865cf3346d6f",
   "metadata": {},
   "outputs": [],
   "source": [
    "savingsAccount.withdraw(2000)"
   ]
  },
  {
   "cell_type": "code",
   "execution_count": 52,
   "id": "695b80e8-711b-4bc7-85ae-2d7c96f06396",
   "metadata": {},
   "outputs": [
    {
     "data": {
      "text/plain": [
       "1000"
      ]
     },
     "execution_count": 52,
     "metadata": {},
     "output_type": "execute_result"
    }
   ],
   "source": [
    "savingsAccount.balance"
   ]
  },
  {
   "cell_type": "code",
   "execution_count": 53,
   "id": "03f72dee-381e-4fb2-bbea-cc22026edbe0",
   "metadata": {},
   "outputs": [
    {
     "name": "stdout",
     "output_type": "stream",
     "text": [
      "Welcome!\n",
      "Your balance is currently $1000 and your interest rate is 1%.\n"
     ]
    }
   ],
   "source": [
    "console.log(savingsAccount.printAccountSummary());"
   ]
  },
  {
   "cell_type": "markdown",
   "id": "f2c86501-23bf-4891-b6d4-43773946320d",
   "metadata": {},
   "source": [
    "## Directions:\n",
    "Create an object called `facebookProfile`. The object should have 3 properties:\n",
    "- your `name`\n",
    "- the number of `friends` you have, and\n",
    "- an `array of messages` you've posted (as strings)\n",
    "\n",
    "The object should also have 4 methods:\n",
    "- `postMessage(message)` - adds a new message string to the array\n",
    "- `deleteMessage(index)` - removes the message corresponding to the index provided\n",
    "- `addFriend()` - increases the friend count by 1\n",
    "- `removeFriend()` - decreases the friend count by 1"
   ]
  },
  {
   "cell_type": "code",
   "execution_count": 84,
   "id": "d639fd50-b1d4-4465-9ab7-cbf7d9adcafb",
   "metadata": {},
   "outputs": [],
   "source": [
    "/*\n",
    " * Programming Quiz: Facebook Friends (7-5)\n",
    " */\n",
    "\n",
    "/*\n",
    " * QUIZ REQUIREMENTS\n",
    " * - Your code should have an object `facebookProfile`\n",
    " * - The `facebookProfile` object should have the `name` (string), `friends` (number), and `messages` (array of strings) property\n",
    " * - Your `facebookProfile` object should have the `postMessage()`, `deleteMessage()`, `addFriend()` and `removeFriend()` method\n",
    " * - Carefully implement the desired functionality of each method, as decribed above\n",
    " */\n",
    "\n",
    "\n",
    "// TIP - \n",
    "// In an array, \n",
    "// - addition at the end is done using push() method\n",
    "// - addition at a specific index is done using splice() method\n",
    "// - deletion from the beginning is done using pop() method\n",
    "// - deletion from a specific index is done using splice() method\n",
    "\n",
    "var facebookProfile = {\n",
    "    name: \"Chandrakant\",\n",
    "    friends: 0,\n",
    "    messages: [],\n",
    "    addFriend: function(num){\n",
    "        if (num > 0) {\n",
    "            facebookProfile.friends+=num;\n",
    "        }\n",
    "    },\n",
    "        \n",
    "    removeFriend: function(){\n",
    "        if(facebookProfile.friends>0)\n",
    "            facebookProfile.friends = facebookProfile.friends - 1;\n",
    "    },\n",
    "    \n",
    "    postMessage: function(msg){\n",
    "        if(msg.length>0){\n",
    "            facebookProfile.messages.push(msg);\n",
    "        }\n",
    "    },\n",
    "    \n",
    "    deleteMessage: function(index){\n",
    "        // In the following splice() method call,\n",
    "        // - argument 1 = index from where the element has to be deleted\n",
    "        // - argument 2 = count of elements to be deleted\n",
    "        facebookProfile.messages.splice(index, 1);\n",
    "    },\n",
    "};"
   ]
  },
  {
   "cell_type": "code",
   "execution_count": 85,
   "id": "4a20bd65-d701-4e20-b4db-d83bbcea3260",
   "metadata": {},
   "outputs": [
    {
     "data": {
      "text/plain": [
       "'Chandrakant'"
      ]
     },
     "execution_count": 85,
     "metadata": {},
     "output_type": "execute_result"
    }
   ],
   "source": [
    "facebookProfile.name"
   ]
  },
  {
   "cell_type": "code",
   "execution_count": 86,
   "id": "aaee373e-51db-442f-9bd7-ffaf02276621",
   "metadata": {},
   "outputs": [
    {
     "data": {
      "text/plain": [
       "0"
      ]
     },
     "execution_count": 86,
     "metadata": {},
     "output_type": "execute_result"
    }
   ],
   "source": [
    "facebookProfile.friends"
   ]
  },
  {
   "cell_type": "code",
   "execution_count": 87,
   "id": "83e82f51-a187-49e5-a50c-8485b9eaa477",
   "metadata": {},
   "outputs": [
    {
     "data": {
      "text/plain": [
       "[]"
      ]
     },
     "execution_count": 87,
     "metadata": {},
     "output_type": "execute_result"
    }
   ],
   "source": [
    "facebookProfile.messages"
   ]
  },
  {
   "cell_type": "code",
   "execution_count": 88,
   "id": "f079cb08-68a1-4124-a065-6fe7898a23e2",
   "metadata": {},
   "outputs": [],
   "source": [
    "facebookProfile.addFriend(1)"
   ]
  },
  {
   "cell_type": "code",
   "execution_count": 89,
   "id": "11ae9784-85eb-4053-b9f0-a77443877841",
   "metadata": {},
   "outputs": [
    {
     "data": {
      "text/plain": [
       "1"
      ]
     },
     "execution_count": 89,
     "metadata": {},
     "output_type": "execute_result"
    }
   ],
   "source": [
    "facebookProfile.friends"
   ]
  },
  {
   "cell_type": "code",
   "execution_count": 90,
   "id": "a320a07a-b35b-4273-8dfe-06c42274ad92",
   "metadata": {},
   "outputs": [
    {
     "data": {
      "text/plain": [
       "2"
      ]
     },
     "execution_count": 90,
     "metadata": {},
     "output_type": "execute_result"
    }
   ],
   "source": [
    "facebookProfile.addFriend(1)\n",
    "facebookProfile.friends"
   ]
  },
  {
   "cell_type": "code",
   "execution_count": 91,
   "id": "832f6505-a7b6-4a4d-85cc-c1b2943a060f",
   "metadata": {},
   "outputs": [
    {
     "data": {
      "text/plain": [
       "1"
      ]
     },
     "execution_count": 91,
     "metadata": {},
     "output_type": "execute_result"
    }
   ],
   "source": [
    "facebookProfile.removeFriend(1)\n",
    "facebookProfile.friends"
   ]
  },
  {
   "cell_type": "code",
   "execution_count": 92,
   "id": "c9bb4d00-d84b-484d-a35e-7479da74b22d",
   "metadata": {},
   "outputs": [
    {
     "data": {
      "text/plain": [
       "0"
      ]
     },
     "execution_count": 92,
     "metadata": {},
     "output_type": "execute_result"
    }
   ],
   "source": [
    "msg=\"\"\n",
    "msg.length"
   ]
  },
  {
   "cell_type": "code",
   "execution_count": 93,
   "id": "71259741-2c1f-4e91-84e8-809a82081ed8",
   "metadata": {},
   "outputs": [],
   "source": [
    "facebookProfile.postMessage(\"Hi!, My name is Chandrakant\");\n",
    "facebookProfile.postMessage(\"Wish you all a Very Happy New Year\");"
   ]
  },
  {
   "cell_type": "code",
   "execution_count": 94,
   "id": "bc699eac-f79b-4c87-8bff-fb1b5b209789",
   "metadata": {},
   "outputs": [
    {
     "data": {
      "text/plain": [
       "[ 'Hi!, My name is Chandrakant', 'Wish you all a Very Happy New Year' ]"
      ]
     },
     "execution_count": 94,
     "metadata": {},
     "output_type": "execute_result"
    }
   ],
   "source": [
    "facebookProfile.messages"
   ]
  },
  {
   "cell_type": "code",
   "execution_count": 96,
   "id": "16716808-19b2-428a-8cbb-4ed9781eb801",
   "metadata": {},
   "outputs": [],
   "source": [
    "facebookProfile.postMessage(\"Congratulations\");"
   ]
  },
  {
   "cell_type": "code",
   "execution_count": 97,
   "id": "2d3a1924-9762-42b4-8785-938e3a8206f9",
   "metadata": {},
   "outputs": [
    {
     "data": {
      "text/plain": [
       "[\n",
       "  'Hi!, My name is Chandrakant',\n",
       "  'Wish you all a Very Happy New Year',\n",
       "  'Congratulations'\n",
       "]"
      ]
     },
     "execution_count": 97,
     "metadata": {},
     "output_type": "execute_result"
    }
   ],
   "source": [
    "facebookProfile.messages"
   ]
  },
  {
   "cell_type": "code",
   "execution_count": 98,
   "id": "505134b3-6674-424b-baf2-e6ae34194542",
   "metadata": {},
   "outputs": [],
   "source": [
    "facebookProfile.deleteMessage(2)"
   ]
  },
  {
   "cell_type": "code",
   "execution_count": 99,
   "id": "67eda105-4852-4296-a655-e07a291964a9",
   "metadata": {},
   "outputs": [
    {
     "data": {
      "text/plain": [
       "[ 'Hi!, My name is Chandrakant', 'Wish you all a Very Happy New Year' ]"
      ]
     },
     "execution_count": 99,
     "metadata": {},
     "output_type": "execute_result"
    }
   ],
   "source": [
    "facebookProfile.messages"
   ]
  },
  {
   "cell_type": "markdown",
   "id": "78cb6630-e848-4f9d-94bf-29e536e600b4",
   "metadata": {},
   "source": [
    "## Quiz Directions\n",
    "Here is an array of donut objects.\n",
    "<code>\n",
    "var donuts = [\n",
    "  { type: \"Jelly\", cost: 1.22 },\n",
    "  { type: \"Chocolate\", cost: 2.45 },\n",
    "  { type: \"Cider\", cost: 1.59 },\n",
    "  { type: \"Boston Cream\", cost: 5.99 }\n",
    "];\n",
    "</code>\n",
    "\n",
    "### Directions:\n",
    "Use the `forEach()` method to loop over the array and print out the following donut summaries using `console.log`.\n",
    "<code>\n",
    "Jelly donuts cost $1.22 each\n",
    "Chocolate donuts cost $2.45 each\n",
    "Cider donuts cost $1.59 each\n",
    "Boston Cream donuts cost $5.99 each\n",
    "Your Code:\n",
    "</code>"
   ]
  },
  {
   "cell_type": "code",
   "execution_count": 2,
   "id": "0c668ea9-8e89-4590-942e-790a0c052ff1",
   "metadata": {},
   "outputs": [
    {
     "name": "stdout",
     "output_type": "stream",
     "text": [
      "Jelly donuts cost $1.22 each\n",
      "Chocolate donuts cost $2.45 each\n",
      "Cider donuts cost $1.59 each\n",
      "Boston Cream donuts cost $5.99 each\n"
     ]
    }
   ],
   "source": [
    "/*\n",
    " * Programming Quiz: Donuts Revisited (7-6)\n",
    " */\n",
    "\n",
    "/*\n",
    " * QUIZ REQUIREMENTS\n",
    " * - Your code sshould have an array named `donuts`\n",
    " * - Your `donuts` array should call the `forEach()` method\n",
    " * - Your `forEach()` loop should output the donut summaries\n",
    " * - BE CAREFUL ABOUT THE PUNCTUATION, SPACES, AND EXACT WORDS TO BE PRINTED.\n",
    " */\n",
    "\n",
    "// This is an array of objects. \n",
    "var donuts = [\n",
    "    { type: \"Jelly\", cost: 1.22 },\n",
    "    { type: \"Chocolate\", cost: 2.45 },\n",
    "    { type: \"Cider\", cost: 1.59 },\n",
    "    { type: \"Boston Cream\", cost: 5.99 }\n",
    "];\n",
    "\n",
    "donuts.forEach(function(donut){\n",
    "    console.log(donut.type+\" donuts cost $\"+donut.cost+\" each\")\n",
    "});\n"
   ]
  },
  {
   "cell_type": "code",
   "execution_count": null,
   "id": "2beb9509-6029-4125-a427-12d650567bc7",
   "metadata": {},
   "outputs": [],
   "source": []
  }
 ],
 "metadata": {
  "kernelspec": {
   "display_name": "JavaScript (Node.js)",
   "language": "javascript",
   "name": "javascript"
  },
  "language_info": {
   "file_extension": ".js",
   "mimetype": "application/javascript",
   "name": "javascript",
   "version": "16.15.0"
  }
 },
 "nbformat": 4,
 "nbformat_minor": 5
}
