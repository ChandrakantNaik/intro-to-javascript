{
 "cells": [
  {
   "cell_type": "markdown",
   "id": "4a4248ff-17d5-45c3-8731-5967b13325e0",
   "metadata": {},
   "source": [
    "# Loops"
   ]
  },
  {
   "cell_type": "markdown",
   "id": "3facf571-e00d-47ed-86fd-10e3dff6cfb9",
   "metadata": {},
   "source": [
    "## While Loop\n",
    "### Parts of a while loop\n",
    "There are many different kinds of loops, but they all essentially do the same thing: they repeat an action some number of times.\n",
    "\n",
    "Three main pieces of information that any loop should have are:\n",
    "- **When to start**: The code that sets up the loop — defining the starting value of a variable for instance.\n",
    "- **When to stop**: The logical condition to test whether the loop should continue.\n",
    "- **How to get to the next item**: The incrementing or decrementing step — for example, `x = x * 3` or `x = x - 1`"
   ]
  },
  {
   "cell_type": "code",
   "execution_count": 2,
   "id": "79643651-19ea-4419-b536-b5146b3f6d5c",
   "metadata": {},
   "outputs": [
    {
     "name": "stdout",
     "output_type": "stream",
     "text": [
      "0\n",
      "1\n",
      "2\n",
      "3\n",
      "4\n",
      "5\n",
      "6\n",
      "7\n",
      "8\n",
      "9\n"
     ]
    },
    {
     "data": {
      "text/plain": [
       "10"
      ]
     },
     "execution_count": 2,
     "metadata": {},
     "output_type": "execute_result"
    }
   ],
   "source": [
    "var start = 0;\n",
    "while (start < 10 ){ \n",
    "    console.log(start)\n",
    "    start = start+1\n",
    "}"
   ]
  },
  {
   "cell_type": "code",
   "execution_count": 3,
   "id": "0ba30b01-99ba-439f-895d-b7d6a6e91f8f",
   "metadata": {},
   "outputs": [
    {
     "name": "stdout",
     "output_type": "stream",
     "text": [
      "1\n",
      "2\n",
      "Julia\n",
      "4\n",
      "James\n",
      "Julia\n",
      "7\n",
      "8\n",
      "Julia\n",
      "James\n",
      "11\n",
      "Julia\n",
      "13\n",
      "14\n",
      "JuliaJames\n",
      "16\n",
      "17\n",
      "Julia\n",
      "19\n",
      "James\n"
     ]
    },
    {
     "data": {
      "text/plain": [
       "21"
      ]
     },
     "execution_count": 3,
     "metadata": {},
     "output_type": "execute_result"
    }
   ],
   "source": [
    "/*\n",
    " * Programming Quiz: JuliaJames (4-1)\n",
    " */\n",
    "/*\n",
    " * QUIZ REQUIREMENTS\n",
    " * - Your code should have a variable `x` with a starting value of `1`\n",
    " * - Your code should include a `while` loop\n",
    " * - Your `while` loop should have a stop condition\n",
    " * - Your code should use a conditional statement\n",
    " * - Your code should increment `x` by `1` each time the loop executes\n",
    " * - Your code should produce the expected output\n",
    " * - Your code should not be empty\n",
    " * - BE CAREFUL ABOUT THE PUNCTUATION AND THE EXACT WORDS TO BE PRINTED.\n",
    " */\n",
    " \n",
    "var x = 1;\n",
    "\n",
    "while (x <= 20) {\n",
    "    if (x % 3 === 0 && x % 5 === 0) {\n",
    "        console.log(\"JuliaJames\");\n",
    "    }else if (x % 5 === 0) {\n",
    "        console.log(\"James\");\n",
    "    }else if (x % 3 === 0) {\n",
    "        console.log(\"Julia\");\n",
    "    }\n",
    "    else {\n",
    "        console.log(x);\n",
    "    }\n",
    "    // increment x at the end of each loop\n",
    "    x = x + 1 ; \n",
    "}\n"
   ]
  },
  {
   "cell_type": "code",
   "execution_count": 4,
   "id": "b82e837f-1ad6-4e5d-a27b-740c3a4fddce",
   "metadata": {},
   "outputs": [
    {
     "name": "stdout",
     "output_type": "stream",
     "text": [
      "99 bottles of juice on the wall! 99 bottles of juice! Take one down, pass it around... 98 bottles of juice on the wall!\n",
      "98 bottles of juice on the wall! 98 bottles of juice! Take one down, pass it around... 97 bottles of juice on the wall!\n",
      "97 bottles of juice on the wall! 97 bottles of juice! Take one down, pass it around... 96 bottles of juice on the wall!\n",
      "96 bottles of juice on the wall! 96 bottles of juice! Take one down, pass it around... 95 bottles of juice on the wall!\n",
      "95 bottles of juice on the wall! 95 bottles of juice! Take one down, pass it around... 94 bottles of juice on the wall!\n",
      "94 bottles of juice on the wall! 94 bottles of juice! Take one down, pass it around... 93 bottles of juice on the wall!\n",
      "93 bottles of juice on the wall! 93 bottles of juice! Take one down, pass it around... 92 bottles of juice on the wall!\n",
      "92 bottles of juice on the wall! 92 bottles of juice! Take one down, pass it around... 91 bottles of juice on the wall!\n",
      "91 bottles of juice on the wall! 91 bottles of juice! Take one down, pass it around... 90 bottles of juice on the wall!\n",
      "90 bottles of juice on the wall! 90 bottles of juice! Take one down, pass it around... 89 bottles of juice on the wall!\n",
      "89 bottles of juice on the wall! 89 bottles of juice! Take one down, pass it around... 88 bottles of juice on the wall!\n",
      "88 bottles of juice on the wall! 88 bottles of juice! Take one down, pass it around... 87 bottles of juice on the wall!\n",
      "87 bottles of juice on the wall! 87 bottles of juice! Take one down, pass it around... 86 bottles of juice on the wall!\n",
      "86 bottles of juice on the wall! 86 bottles of juice! Take one down, pass it around... 85 bottles of juice on the wall!\n",
      "85 bottles of juice on the wall! 85 bottles of juice! Take one down, pass it around... 84 bottles of juice on the wall!\n",
      "84 bottles of juice on the wall! 84 bottles of juice! Take one down, pass it around... 83 bottles of juice on the wall!\n",
      "83 bottles of juice on the wall! 83 bottles of juice! Take one down, pass it around... 82 bottles of juice on the wall!\n",
      "82 bottles of juice on the wall! 82 bottles of juice! Take one down, pass it around... 81 bottles of juice on the wall!\n",
      "81 bottles of juice on the wall! 81 bottles of juice! Take one down, pass it around... 80 bottles of juice on the wall!\n",
      "80 bottles of juice on the wall! 80 bottles of juice! Take one down, pass it around... 79 bottles of juice on the wall!\n",
      "79 bottles of juice on the wall! 79 bottles of juice! Take one down, pass it around... 78 bottles of juice on the wall!\n",
      "78 bottles of juice on the wall! 78 bottles of juice! Take one down, pass it around... 77 bottles of juice on the wall!\n",
      "77 bottles of juice on the wall! 77 bottles of juice! Take one down, pass it around... 76 bottles of juice on the wall!\n",
      "76 bottles of juice on the wall! 76 bottles of juice! Take one down, pass it around... 75 bottles of juice on the wall!\n",
      "75 bottles of juice on the wall! 75 bottles of juice! Take one down, pass it around... 74 bottles of juice on the wall!\n",
      "74 bottles of juice on the wall! 74 bottles of juice! Take one down, pass it around... 73 bottles of juice on the wall!\n",
      "73 bottles of juice on the wall! 73 bottles of juice! Take one down, pass it around... 72 bottles of juice on the wall!\n",
      "72 bottles of juice on the wall! 72 bottles of juice! Take one down, pass it around... 71 bottles of juice on the wall!\n",
      "71 bottles of juice on the wall! 71 bottles of juice! Take one down, pass it around... 70 bottles of juice on the wall!\n",
      "70 bottles of juice on the wall! 70 bottles of juice! Take one down, pass it around... 69 bottles of juice on the wall!\n",
      "69 bottles of juice on the wall! 69 bottles of juice! Take one down, pass it around... 68 bottles of juice on the wall!\n",
      "68 bottles of juice on the wall! 68 bottles of juice! Take one down, pass it around... 67 bottles of juice on the wall!\n",
      "67 bottles of juice on the wall! 67 bottles of juice! Take one down, pass it around... 66 bottles of juice on the wall!\n",
      "66 bottles of juice on the wall! 66 bottles of juice! Take one down, pass it around... 65 bottles of juice on the wall!\n",
      "65 bottles of juice on the wall! 65 bottles of juice! Take one down, pass it around... 64 bottles of juice on the wall!\n",
      "64 bottles of juice on the wall! 64 bottles of juice! Take one down, pass it around... 63 bottles of juice on the wall!\n",
      "63 bottles of juice on the wall! 63 bottles of juice! Take one down, pass it around... 62 bottles of juice on the wall!\n",
      "62 bottles of juice on the wall! 62 bottles of juice! Take one down, pass it around... 61 bottles of juice on the wall!\n",
      "61 bottles of juice on the wall! 61 bottles of juice! Take one down, pass it around... 60 bottles of juice on the wall!\n",
      "60 bottles of juice on the wall! 60 bottles of juice! Take one down, pass it around... 59 bottles of juice on the wall!\n",
      "59 bottles of juice on the wall! 59 bottles of juice! Take one down, pass it around... 58 bottles of juice on the wall!\n",
      "58 bottles of juice on the wall! 58 bottles of juice! Take one down, pass it around... 57 bottles of juice on the wall!\n",
      "57 bottles of juice on the wall! 57 bottles of juice! Take one down, pass it around... 56 bottles of juice on the wall!\n",
      "56 bottles of juice on the wall! 56 bottles of juice! Take one down, pass it around... 55 bottles of juice on the wall!\n",
      "55 bottles of juice on the wall! 55 bottles of juice! Take one down, pass it around... 54 bottles of juice on the wall!\n",
      "54 bottles of juice on the wall! 54 bottles of juice! Take one down, pass it around... 53 bottles of juice on the wall!\n",
      "53 bottles of juice on the wall! 53 bottles of juice! Take one down, pass it around... 52 bottles of juice on the wall!\n",
      "52 bottles of juice on the wall! 52 bottles of juice! Take one down, pass it around... 51 bottles of juice on the wall!\n",
      "51 bottles of juice on the wall! 51 bottles of juice! Take one down, pass it around... 50 bottles of juice on the wall!\n",
      "50 bottles of juice on the wall! 50 bottles of juice! Take one down, pass it around... 49 bottles of juice on the wall!\n",
      "49 bottles of juice on the wall! 49 bottles of juice! Take one down, pass it around... 48 bottles of juice on the wall!\n",
      "48 bottles of juice on the wall! 48 bottles of juice! Take one down, pass it around... 47 bottles of juice on the wall!\n",
      "47 bottles of juice on the wall! 47 bottles of juice! Take one down, pass it around... 46 bottles of juice on the wall!\n",
      "46 bottles of juice on the wall! 46 bottles of juice! Take one down, pass it around... 45 bottles of juice on the wall!\n",
      "45 bottles of juice on the wall! 45 bottles of juice! Take one down, pass it around... 44 bottles of juice on the wall!\n",
      "44 bottles of juice on the wall! 44 bottles of juice! Take one down, pass it around... 43 bottles of juice on the wall!\n",
      "43 bottles of juice on the wall! 43 bottles of juice! Take one down, pass it around... 42 bottles of juice on the wall!\n",
      "42 bottles of juice on the wall! 42 bottles of juice! Take one down, pass it around... 41 bottles of juice on the wall!\n",
      "41 bottles of juice on the wall! 41 bottles of juice! Take one down, pass it around... 40 bottles of juice on the wall!\n",
      "40 bottles of juice on the wall! 40 bottles of juice! Take one down, pass it around... 39 bottles of juice on the wall!\n",
      "39 bottles of juice on the wall! 39 bottles of juice! Take one down, pass it around... 38 bottles of juice on the wall!\n",
      "38 bottles of juice on the wall! 38 bottles of juice! Take one down, pass it around... 37 bottles of juice on the wall!\n",
      "37 bottles of juice on the wall! 37 bottles of juice! Take one down, pass it around... 36 bottles of juice on the wall!\n",
      "36 bottles of juice on the wall! 36 bottles of juice! Take one down, pass it around... 35 bottles of juice on the wall!\n",
      "35 bottles of juice on the wall! 35 bottles of juice! Take one down, pass it around... 34 bottles of juice on the wall!\n",
      "34 bottles of juice on the wall! 34 bottles of juice! Take one down, pass it around... 33 bottles of juice on the wall!\n",
      "33 bottles of juice on the wall! 33 bottles of juice! Take one down, pass it around... 32 bottles of juice on the wall!\n",
      "32 bottles of juice on the wall! 32 bottles of juice! Take one down, pass it around... 31 bottles of juice on the wall!\n",
      "31 bottles of juice on the wall! 31 bottles of juice! Take one down, pass it around... 30 bottles of juice on the wall!\n",
      "30 bottles of juice on the wall! 30 bottles of juice! Take one down, pass it around... 29 bottles of juice on the wall!\n",
      "29 bottles of juice on the wall! 29 bottles of juice! Take one down, pass it around... 28 bottles of juice on the wall!\n",
      "28 bottles of juice on the wall! 28 bottles of juice! Take one down, pass it around... 27 bottles of juice on the wall!\n",
      "27 bottles of juice on the wall! 27 bottles of juice! Take one down, pass it around... 26 bottles of juice on the wall!\n",
      "26 bottles of juice on the wall! 26 bottles of juice! Take one down, pass it around... 25 bottles of juice on the wall!\n",
      "25 bottles of juice on the wall! 25 bottles of juice! Take one down, pass it around... 24 bottles of juice on the wall!\n",
      "24 bottles of juice on the wall! 24 bottles of juice! Take one down, pass it around... 23 bottles of juice on the wall!\n",
      "23 bottles of juice on the wall! 23 bottles of juice! Take one down, pass it around... 22 bottles of juice on the wall!\n",
      "22 bottles of juice on the wall! 22 bottles of juice! Take one down, pass it around... 21 bottles of juice on the wall!\n",
      "21 bottles of juice on the wall! 21 bottles of juice! Take one down, pass it around... 20 bottles of juice on the wall!\n",
      "20 bottles of juice on the wall! 20 bottles of juice! Take one down, pass it around... 19 bottles of juice on the wall!\n",
      "19 bottles of juice on the wall! 19 bottles of juice! Take one down, pass it around... 18 bottles of juice on the wall!\n",
      "18 bottles of juice on the wall! 18 bottles of juice! Take one down, pass it around... 17 bottles of juice on the wall!\n",
      "17 bottles of juice on the wall! 17 bottles of juice! Take one down, pass it around... 16 bottles of juice on the wall!\n",
      "16 bottles of juice on the wall! 16 bottles of juice! Take one down, pass it around... 15 bottles of juice on the wall!\n",
      "15 bottles of juice on the wall! 15 bottles of juice! Take one down, pass it around... 14 bottles of juice on the wall!\n",
      "14 bottles of juice on the wall! 14 bottles of juice! Take one down, pass it around... 13 bottles of juice on the wall!\n",
      "13 bottles of juice on the wall! 13 bottles of juice! Take one down, pass it around... 12 bottles of juice on the wall!\n",
      "12 bottles of juice on the wall! 12 bottles of juice! Take one down, pass it around... 11 bottles of juice on the wall!\n",
      "11 bottles of juice on the wall! 11 bottles of juice! Take one down, pass it around... 10 bottles of juice on the wall!\n",
      "10 bottles of juice on the wall! 10 bottles of juice! Take one down, pass it around... 9 bottles of juice on the wall!\n",
      "9 bottles of juice on the wall! 9 bottles of juice! Take one down, pass it around... 8 bottles of juice on the wall!\n",
      "8 bottles of juice on the wall! 8 bottles of juice! Take one down, pass it around... 7 bottles of juice on the wall!\n",
      "7 bottles of juice on the wall! 7 bottles of juice! Take one down, pass it around... 6 bottles of juice on the wall!\n",
      "6 bottles of juice on the wall! 6 bottles of juice! Take one down, pass it around... 5 bottles of juice on the wall!\n",
      "5 bottles of juice on the wall! 5 bottles of juice! Take one down, pass it around... 4 bottles of juice on the wall!\n",
      "4 bottles of juice on the wall! 4 bottles of juice! Take one down, pass it around... 3 bottles of juice on the wall!\n",
      "3 bottles of juice on the wall! 3 bottles of juice! Take one down, pass it around... 2 bottles of juice on the wall!\n",
      "2 bottles of juice on the wall! 2 bottles of juice! Take one down, pass it around... 1 bottle of juice on the wall!\n",
      "1 bottle of juice on the wall! 1 bottle of juice! Take one down, pass it around... 0 bottles of juice on the wall!\n"
     ]
    },
    {
     "data": {
      "text/plain": [
       "0"
      ]
     },
     "execution_count": 4,
     "metadata": {},
     "output_type": "execute_result"
    }
   ],
   "source": [
    "/*\n",
    " * Programming Quiz: 99 Bottles of Juice (4-2)\n",
    " *\n",
    " * Use the following `while` loop to write out the song \"99 bottles of juice\".\n",
    " * Log the your lyrics to the console.\n",
    " *\n",
    " * Note\n",
    " *   - Each line of the lyrics needs to be logged to the same line.\n",
    " *   - The pluralization of the word \"bottle\" changes from \"2 bottles\" to \"1 bottle\" to \"0 bottles\".\n",
    " */\n",
    "\n",
    "/*\n",
    " * QUIZ REQUIREMENTS\n",
    " * - Your code should have a variable `num` with a starting value of `99`\n",
    " * - Your code should include a `while` loop\n",
    " * - Your `while` loop should have a stop condition\n",
    " * - Your code should produce the expected output, as explained above\n",
    " * - Your code should not be empty\n",
    " * - BE CAREFUL ABOUT THE PUNCTUATION AND THE EXACT WORDS TO BE PRINTED.\n",
    " */\n",
    "\n",
    "\n",
    "var num = 99;\n",
    "\n",
    "while (num >=1) {\n",
    "    // Last iteration. Note occurances of bottle, bottle, bottleS\n",
    "    if (num === 1) {\n",
    "        console.log(num + \" bottle of juice on the wall! \"\n",
    "                    + num + \" bottle of juice! Take one down, pass it around... \"\n",
    "                    + (num-1) + \" bottles of juice on the wall!\");\n",
    "    }\n",
    "    // Second-last iteration. Note occurances of bottleS, bottleS, bottle\n",
    "    else if (num === 2){\n",
    "        console.log(num + \" bottles of juice on the wall! \"\n",
    "                    + num + \" bottles of juice! Take one down, pass it around... \"\n",
    "                    + (num-1) + \" bottle of juice on the wall!\");\n",
    "    }\n",
    "    // All other iterations. Note occurances of bottleS, bottleS, bottleS\n",
    "    else {\n",
    "        console.log(num + \" bottles of juice on the wall! \"\n",
    "                    + num + \" bottles of juice! Take one down, pass it around... \"\n",
    "                    + (num-1) + \" bottles of juice on the wall!\");\n",
    "    }\n",
    "    num = num - 1;\n",
    "}"
   ]
  },
  {
   "cell_type": "code",
   "execution_count": 5,
   "id": "ccff5351-a994-48f1-a14f-9489647012d0",
   "metadata": {},
   "outputs": [
    {
     "name": "stdout",
     "output_type": "stream",
     "text": [
      "T-60 seconds\n",
      "T-59 seconds\n",
      "T-58 seconds\n",
      "T-57 seconds\n",
      "T-56 seconds\n",
      "T-55 seconds\n",
      "T-54 seconds\n",
      "T-53 seconds\n",
      "T-52 seconds\n",
      "T-51 seconds\n",
      "Orbiter transfers from ground to internal power\n",
      "T-49 seconds\n",
      "T-48 seconds\n",
      "T-47 seconds\n",
      "T-46 seconds\n",
      "T-45 seconds\n",
      "T-44 seconds\n",
      "T-43 seconds\n",
      "T-42 seconds\n",
      "T-41 seconds\n",
      "T-40 seconds\n",
      "T-39 seconds\n",
      "T-38 seconds\n",
      "T-37 seconds\n",
      "T-36 seconds\n",
      "T-35 seconds\n",
      "T-34 seconds\n",
      "T-33 seconds\n",
      "T-32 seconds\n",
      "Ground launch sequencer is go for auto sequence start\n",
      "T-30 seconds\n",
      "T-29 seconds\n",
      "T-28 seconds\n",
      "T-27 seconds\n",
      "T-26 seconds\n",
      "T-25 seconds\n",
      "T-24 seconds\n",
      "T-23 seconds\n",
      "T-22 seconds\n",
      "T-21 seconds\n",
      "T-20 seconds\n",
      "T-19 seconds\n",
      "T-18 seconds\n",
      "T-17 seconds\n",
      "Activate launch pad sound suppression system\n",
      "T-15 seconds\n",
      "T-14 seconds\n",
      "T-13 seconds\n",
      "T-12 seconds\n",
      "T-11 seconds\n",
      "Activate main engine hydrogen burnoff system\n",
      "T-9 seconds\n",
      "T-8 seconds\n",
      "T-7 seconds\n",
      "Main engine start\n",
      "T-5 seconds\n",
      "T-4 seconds\n",
      "T-3 seconds\n",
      "T-2 seconds\n",
      "T-1 seconds\n",
      "Solid rocket booster ignition and liftoff!\n"
     ]
    },
    {
     "data": {
      "text/plain": [
       "-1"
      ]
     },
     "execution_count": 5,
     "metadata": {},
     "output_type": "execute_result"
    }
   ],
   "source": [
    "/*\n",
    " * Programming Quiz: Countdown, Liftoff! (4-3)\n",
    " * \n",
    " * Using a while loop, print out the countdown output above.\n",
    " */\n",
    "\n",
    "/*\n",
    " * QUIZ REQUIREMENTS\n",
    " * - Your code should include a `while` loop\n",
    " * - Your `while` loop should have a stop condition\n",
    " * - Your code should produce the expected output, as explained above\n",
    " * - Your code should not be empty\n",
    " * - BE CAREFUL ABOUT THE PUNCTUATION AND THE EXACT WORDS TO BE PRINTED.\n",
    " */\n",
    "\n",
    "\n",
    "// your code goes here\n",
    "\n",
    "var num = 60;\n",
    "\n",
    "while (num >= 0){\n",
    "    if(num === 50){\n",
    "        console.log(\"Orbiter transfers from ground to internal power\");\n",
    "        \n",
    "    }else if (num === 31){\n",
    "        console.log(\"Ground launch sequencer is go for auto sequence start\");\n",
    "    }\n",
    "    else if (num === 16){\n",
    "        console.log(\"Activate launch pad sound suppression system\");\n",
    "    }else if (num === 10){\n",
    "        console.log(\"Activate main engine hydrogen burnoff system\")\n",
    "    }else if (num === 6){\n",
    "        console.log(\"Main engine start\")\n",
    "    }else if (num === 0){\n",
    "        console.log(\"Solid rocket booster ignition and liftoff!\")\n",
    "    }else {\n",
    "        console.log(\"T-\"+num+\" seconds\");\n",
    "    }\n",
    "    num = num -1\n",
    "}\n",
    "    \n",
    "    "
   ]
  },
  {
   "cell_type": "markdown",
   "id": "9c1f72ec-7a21-45e3-b03f-4471f6fc4784",
   "metadata": {},
   "source": [
    "## For Loop\n",
    "### Parts of For Loop\n",
    "\n",
    "The `for loop` explicitly forces you to define the start point, stop point, and each step of the loop. In fact, you'll get an `Uncaught SyntaxError: Unexpected token )` if you leave out any of the three required pieces.\n",
    "\n",
    "<code>\n",
    "for ( start; stop; step ) {\n",
    "  // do this thing\n",
    "}\n",
    "</code>"
   ]
  },
  {
   "cell_type": "code",
   "execution_count": 6,
   "id": "09ef84e9-5709-4533-8df7-0a144c58a030",
   "metadata": {},
   "outputs": [
    {
     "name": "stdout",
     "output_type": "stream",
     "text": [
      "Printing out i = 0\n",
      "Printing out i = 1\n",
      "Printing out i = 2\n",
      "Printing out i = 3\n",
      "Printing out i = 4\n",
      "Printing out i = 5\n"
     ]
    }
   ],
   "source": [
    "for (var i = 0; i < 6; i = i + 1) {\n",
    "  console.log(\"Printing out i = \" + i);\n",
    "}"
   ]
  },
  {
   "cell_type": "code",
   "execution_count": 7,
   "id": "088681e4-8dc8-43ff-8617-093644e6ba09",
   "metadata": {},
   "outputs": [
    {
     "name": "stdout",
     "output_type": "stream",
     "text": [
      "0,0\n",
      "0,1\n",
      "0,2\n",
      "1,0\n",
      "1,1\n",
      "1,2\n",
      "2,0\n",
      "2,1\n",
      "2,2\n",
      "3,0\n",
      "3,1\n",
      "3,2\n",
      "4,0\n",
      "4,1\n",
      "4,2\n"
     ]
    }
   ],
   "source": [
    "for (var x = 0; x < 5; x = x + 1) {\n",
    "  for (var y = 0; y < 3; y = y + 1) {\n",
    "    console.log(x + \",\" + y);\n",
    "  }\n",
    "}"
   ]
  },
  {
   "cell_type": "markdown",
   "id": "1dc50ba9-7c3a-4d78-a01c-6b0a3c31ac69",
   "metadata": {},
   "source": [
    "### Increment and Decrement\n",
    "<code>\n",
    "    x++ or ++x // same as x = x + 1 \n",
    "    x-- or --x // same as x = x - 1\n",
    "    x += 3 // same as x = x + 3\n",
    "    x -= 6 // same as x = x - 6\n",
    "    x *= 2 // same as x = x * 2\n",
    "    x /= 5 // same as x = x / 5\n",
    "</code>"
   ]
  },
  {
   "cell_type": "code",
   "execution_count": null,
   "id": "b7d19be9-3bd6-457e-b2e2-7bd7cfaaa7e7",
   "metadata": {},
   "outputs": [],
   "source": []
  }
 ],
 "metadata": {
  "kernelspec": {
   "display_name": "JavaScript (Node.js)",
   "language": "javascript",
   "name": "javascript"
  },
  "language_info": {
   "file_extension": ".js",
   "mimetype": "application/javascript",
   "name": "javascript",
   "version": "16.15.0"
  }
 },
 "nbformat": 4,
 "nbformat_minor": 5
}
