{
 "cells": [
  {
   "cell_type": "markdown",
   "id": "ea1919df-415f-4233-9fc1-308cb016f0be",
   "metadata": {},
   "source": [
    "# Lesson 2 - Data Types & Variable"
   ]
  },
  {
   "cell_type": "markdown",
   "id": "1163b76b-db20-4169-a920-d29c5ce9ddbb",
   "metadata": {},
   "source": [
    "## Numbers\n",
    "- The Number data type includes any positive or negative integer, as well as decimals. Entering a number into the console will return it right back to you."
   ]
  },
  {
   "cell_type": "code",
   "execution_count": 1,
   "id": "b740b5fe-3222-4f68-a133-2901e5d6e365",
   "metadata": {},
   "outputs": [
    {
     "data": {
      "text/plain": [
       "3"
      ]
     },
     "execution_count": 1,
     "metadata": {},
     "output_type": "execute_result"
    }
   ],
   "source": [
    "3"
   ]
  },
  {
   "cell_type": "markdown",
   "id": "bf7a37b1-4482-4661-98ed-98322a4ad983",
   "metadata": {},
   "source": [
    "### Arithmetic Operators"
   ]
  },
  {
   "cell_type": "code",
   "execution_count": 2,
   "id": "26ab57b3-d02c-4d3a-82b0-d3c438a2bd4d",
   "metadata": {},
   "outputs": [
    {
     "data": {
      "text/plain": [
       "5.1"
      ]
     },
     "execution_count": 2,
     "metadata": {},
     "output_type": "execute_result"
    }
   ],
   "source": [
    "3 + 2.1"
   ]
  },
  {
   "cell_type": "code",
   "execution_count": 3,
   "id": "6dd1cf60-d6b2-444e-a95a-104d7a9dcb8a",
   "metadata": {},
   "outputs": [
    {
     "data": {
      "text/plain": [
       "-92"
      ]
     },
     "execution_count": 3,
     "metadata": {},
     "output_type": "execute_result"
    }
   ],
   "source": [
    "2 + 10 - 19 + 4 - 90 + 1"
   ]
  },
  {
   "cell_type": "code",
   "execution_count": 4,
   "id": "047e8362-82f7-4d64-ab0b-b78d2e4bfc66",
   "metadata": {},
   "outputs": [
    {
     "data": {
      "text/plain": [
       "-4"
      ]
     },
     "execution_count": 4,
     "metadata": {},
     "output_type": "execute_result"
    }
   ],
   "source": [
    "-20 + -19 - (-10) - (-1) + 24"
   ]
  },
  {
   "cell_type": "code",
   "execution_count": 5,
   "id": "1f3d9961-937f-45a9-84b5-3ba5b2df84ce",
   "metadata": {},
   "outputs": [
    {
     "data": {
      "text/plain": [
       "-12"
      ]
     },
     "execution_count": 5,
     "metadata": {},
     "output_type": "execute_result"
    }
   ],
   "source": [
    "(10/5) * 4 - 20"
   ]
  },
  {
   "cell_type": "code",
   "execution_count": 6,
   "id": "215e2791-341e-4dda-b8de-c91834bb8927",
   "metadata": {},
   "outputs": [
    {
     "data": {
      "text/plain": [
       "4"
      ]
     },
     "execution_count": 6,
     "metadata": {},
     "output_type": "execute_result"
    }
   ],
   "source": [
    "4096 % 12"
   ]
  },
  {
   "cell_type": "markdown",
   "id": "6d359c88-8870-4231-b9f8-002bcc10d2a8",
   "metadata": {},
   "source": [
    "### Comparing Numbers\n",
    "- Comparisons between numbers will either evaluate to true or false.\n",
    "- The values `true` and `false` have significant importance in JavaScript. These values are called Booleans and are another data type in JavaScript. Later in this lesson, you’ll learn more about why Booleans are so important in programming.\n",
    "| Operator | Meaning |\n",
    "| --- | --- |\n",
    "| < | Less than |\n",
    "| > | Greater than |\n",
    "| <= | Less than or Equal to |\n",
    "| >= | Greater than or Equal to |\n",
    "| == | Equal to |\n",
    "| != | Not Equal to |"
   ]
  },
  {
   "cell_type": "code",
   "execution_count": 7,
   "id": "3c265e94-36f7-4c39-a03e-690f1deb56b7",
   "metadata": {},
   "outputs": [
    {
     "data": {
      "text/plain": [
       "false"
      ]
     },
     "execution_count": 7,
     "metadata": {},
     "output_type": "execute_result"
    }
   ],
   "source": [
    "5 > 10"
   ]
  },
  {
   "cell_type": "code",
   "execution_count": 8,
   "id": "be227892-db6c-4317-8410-48ef29109530",
   "metadata": {},
   "outputs": [
    {
     "data": {
      "text/plain": [
       "true"
      ]
     },
     "execution_count": 8,
     "metadata": {},
     "output_type": "execute_result"
    }
   ],
   "source": [
    "5 < 10"
   ]
  },
  {
   "cell_type": "code",
   "execution_count": 9,
   "id": "1258e32f-1e4c-41b6-a4b2-1ab75a4188bd",
   "metadata": {},
   "outputs": [
    {
     "data": {
      "text/plain": [
       "false"
      ]
     },
     "execution_count": 9,
     "metadata": {},
     "output_type": "execute_result"
    }
   ],
   "source": [
    "5 == 10"
   ]
  },
  {
   "cell_type": "code",
   "execution_count": 11,
   "id": "8293d760-32d9-42ab-b163-e8280224e9c2",
   "metadata": {},
   "outputs": [
    {
     "data": {
      "text/plain": [
       "20"
      ]
     },
     "execution_count": 11,
     "metadata": {},
     "output_type": "execute_result"
    }
   ],
   "source": [
    "1 + 1 + 2 + 3 + 5 + 8"
   ]
  },
  {
   "cell_type": "code",
   "execution_count": 14,
   "id": "4bae1cf6-8604-4b78-a36b-d2ef150285dc",
   "metadata": {},
   "outputs": [
    {
     "data": {
      "text/plain": [
       "37"
      ]
     },
     "execution_count": 14,
     "metadata": {},
     "output_type": "execute_result"
    }
   ],
   "source": [
    "12 - (-5) * 5"
   ]
  },
  {
   "cell_type": "code",
   "execution_count": 18,
   "id": "36c48324-0b01-4d1a-b8bf-141ce97457aa",
   "metadata": {},
   "outputs": [
    {
     "data": {
      "text/plain": [
       "2"
      ]
     },
     "execution_count": 18,
     "metadata": {},
     "output_type": "execute_result"
    }
   ],
   "source": [
    "3 * 4 % 5"
   ]
  },
  {
   "cell_type": "markdown",
   "id": "c9a0a92b-0d1b-48e2-975b-3db80e763678",
   "metadata": {},
   "source": [
    "## Comments\n",
    "- You can use `comments` to help explain your code and make things clearer. In JavaScript, comments are marked with a double forward-slash `//`. Anything written on the same line after the `//` will not be executed or displayed. To have the comment span multiple lines, mark the start of your comment with a forward-slash and star, and then enclose your comment inside a star and forward-slash `/* … */`.\n",
    "\n",
    "<code>// this is a single-line comment\n",
    "/*\n",
    "this is\n",
    "a multi-line\n",
    "comment\n",
    "*/</code>"
   ]
  },
  {
   "cell_type": "code",
   "execution_count": 20,
   "id": "d294580a-e582-461d-afe3-c65f91fd2020",
   "metadata": {},
   "outputs": [
    {
     "name": "stdout",
     "output_type": "stream",
     "text": [
      "4\n",
      "42\n"
     ]
    }
   ],
   "source": [
    "/*\n",
    " * Programming Quiz: First Expression (2-1)\n",
    " * Write an expression that uses at least three, distinct, arithmetic operators\n",
    " * to log the number 42 to the console.\n",
    " */\n",
    " \n",
    "/*\n",
    " * QUIZ REQUIREMENTS\n",
    " * 1. Your code should print the value `42`\n",
    " * 2. You should use at least 3 distinct operators. (`+`, `-`, `*`, `/`, or `%`)\n",
    " * 3. Your code should not be empty\n",
    " */\n",
    "\n",
    "\n",
    "// this expression equals 4, change it to equal 42\n",
    "console.log(1 + 5 - 2);\n",
    "console.log(10 * 4 + 4 - 2);"
   ]
  },
  {
   "cell_type": "markdown",
   "id": "41500732-af20-4df1-86ed-c6494c8e73a8",
   "metadata": {},
   "source": [
    "## Strings\n",
    "-  It is correct to either use double `\"` or single `'` quotes with strings, as long as you're consistent. The JavaScript Udacity style guide for labs and projects suggests using single quotes to define string literals."
   ]
  },
  {
   "cell_type": "code",
   "execution_count": 21,
   "id": "9eb0a891-1251-4db9-86e7-759cb7863a6f",
   "metadata": {},
   "outputs": [
    {
     "name": "stdout",
     "output_type": "stream",
     "text": [
      "Hiya, Chandrakant\n"
     ]
    }
   ],
   "source": [
    "console.log('Hiya, Chandrakant')"
   ]
  },
  {
   "cell_type": "code",
   "execution_count": 22,
   "id": "d88d28ec-1c5f-400c-bc73-875f231b6582",
   "metadata": {},
   "outputs": [
    {
     "name": "stdout",
     "output_type": "stream",
     "text": [
      "Hiya, Chandrakant\n"
     ]
    }
   ],
   "source": [
    "console.log('Hiya, Chandrakant')"
   ]
  },
  {
   "cell_type": "code",
   "execution_count": 23,
   "id": "33d27f69-a7b3-4b8c-8284-eb409d95a9d6",
   "metadata": {},
   "outputs": [
    {
     "ename": "ReferenceError",
     "evalue": "hello is not defined",
     "execution_count": 23,
     "output_type": "error",
     "traceback": [
      "evalmachine.<anonymous>:1",
      "console.log(hello)",
      "            ^",
      "",
      "ReferenceError: hello is not defined",
      "    at evalmachine.<anonymous>:1:13",
      "    at Script.runInThisContext (node:vm:129:12)",
      "    at Object.runInThisContext (node:vm:305:38)",
      "    at run ([eval]:1020:15)",
      "    at onRunRequest ([eval]:864:18)",
      "    at onMessage ([eval]:828:13)",
      "    at process.emit (node:events:527:28)",
      "    at emit (node:internal/child_process:938:14)",
      "    at processTicksAndRejections (node:internal/process/task_queues:84:21)"
     ]
    }
   ],
   "source": [
    "console.log(hello)"
   ]
  },
  {
   "cell_type": "code",
   "execution_count": 24,
   "id": "81fdac95-331f-45db-8d64-d589c45e292d",
   "metadata": {},
   "outputs": [
    {
     "name": "stdout",
     "output_type": "stream",
     "text": [
      "hello\n"
     ]
    }
   ],
   "source": [
    "console.log(\"hello\")"
   ]
  },
  {
   "cell_type": "markdown",
   "id": "47d3823d-2a7c-49c9-b759-b1aa6bea4554",
   "metadata": {},
   "source": [
    "## String Concatenation\n",
    "- **Strings** are a collection of characters enclosed inside double or single quotes. You can use strings to represent data like sentences, names, addresses, and more. Did you know you can even add strings together? In JavaScript, this is called **concatenating**. Concatenating two strings together is actually pretty simple!"
   ]
  },
  {
   "cell_type": "code",
   "execution_count": 25,
   "id": "c62cec65-9230-43eb-962b-ad8debaaf94d",
   "metadata": {},
   "outputs": [
    {
     "data": {
      "text/plain": [
       "'Hello, New York City'"
      ]
     },
     "execution_count": 25,
     "metadata": {},
     "output_type": "execute_result"
    }
   ],
   "source": [
    "\"Hello,\" + \" New York City\""
   ]
  },
  {
   "cell_type": "code",
   "execution_count": 26,
   "id": "d3a254bd-cd72-4972-9ecd-e04a4dd52fd3",
   "metadata": {},
   "outputs": [
    {
     "data": {
      "text/plain": [
       "'helloworld'"
      ]
     },
     "execution_count": 26,
     "metadata": {},
     "output_type": "execute_result"
    }
   ],
   "source": [
    "\"hello\" + \"world\""
   ]
  },
  {
   "cell_type": "code",
   "execution_count": 27,
   "id": "4feaa757-8a5e-4b08-bfb1-9ab79e844a49",
   "metadata": {},
   "outputs": [
    {
     "data": {
      "text/plain": [
       "'Hello + 5*10'"
      ]
     },
     "execution_count": 27,
     "metadata": {},
     "output_type": "execute_result"
    }
   ],
   "source": [
    "\"Hello + 5*10\""
   ]
  },
  {
   "cell_type": "code",
   "execution_count": 30,
   "id": "dee1894d-daa3-4506-b666-b157dfcb1325",
   "metadata": {},
   "outputs": [
    {
     "data": {
      "text/plain": [
       "'Hello50'"
      ]
     },
     "execution_count": 30,
     "metadata": {},
     "output_type": "execute_result"
    }
   ],
   "source": [
    "\"Hello\" + 5*10"
   ]
  },
  {
   "cell_type": "markdown",
   "id": "1b8f5278-6e8c-4012-b21f-3641e8b90b7c",
   "metadata": {},
   "source": [
    "You've just discovered some peculiar behavior in JavaScript. It’s called `implicit type coercion` and it's a feature of JavaScript. JavaScript multiplies the `5*10` to become `50` and then changes the number `50` into the string `\"50\"`, so you're adding together the same data type. This then gets combined with the string `\"Hello\"`. You'll learn more about why this happens later in this lesson."
   ]
  },
  {
   "cell_type": "markdown",
   "id": "a9bc0440-8331-451d-ae63-5c23e305d862",
   "metadata": {},
   "source": [
    "## Variables"
   ]
  },
  {
   "cell_type": "code",
   "execution_count": 31,
   "id": "5d7b07f3-4db7-48eb-a559-987f6e00cd94",
   "metadata": {},
   "outputs": [
    {
     "data": {
      "text/plain": [
       "'Hello World!'"
      ]
     },
     "execution_count": 31,
     "metadata": {},
     "output_type": "execute_result"
    }
   ],
   "source": [
    "var greeting = \"Hello\";\n",
    "greeting + \" World!\";"
   ]
  },
  {
   "cell_type": "code",
   "execution_count": 32,
   "id": "2111f9d8-586b-4201-8faa-514397e6bb2f",
   "metadata": {},
   "outputs": [
    {
     "data": {
      "text/plain": [
       "'Hello Mike!'"
      ]
     },
     "execution_count": 32,
     "metadata": {},
     "output_type": "execute_result"
    }
   ],
   "source": [
    "greeting + \" Mike!\";"
   ]
  },
  {
   "cell_type": "code",
   "execution_count": 33,
   "id": "7eaf02ad-b257-466b-bceb-793e06db4838",
   "metadata": {},
   "outputs": [
    {
     "data": {
      "text/plain": [
       "'Hola World!'"
      ]
     },
     "execution_count": 33,
     "metadata": {},
     "output_type": "execute_result"
    }
   ],
   "source": [
    "greeting = \"Hola\";\n",
    "greeting + \" World!\";"
   ]
  },
  {
   "cell_type": "code",
   "execution_count": 34,
   "id": "9bb6bc2d-75ce-4c52-8648-bec10a8f5cb7",
   "metadata": {},
   "outputs": [
    {
     "data": {
      "text/plain": [
       "'Hola Mike!'"
      ]
     },
     "execution_count": 34,
     "metadata": {},
     "output_type": "execute_result"
    }
   ],
   "source": [
    "greeting + \" Mike!\";"
   ]
  },
  {
   "cell_type": "markdown",
   "id": "b701964b-2cf0-4676-95e4-6c7afbce3f03",
   "metadata": {},
   "source": [
    "### Naming Convention\n",
    "- When you create a variable, you write the name of the variable using `camelCase` (the first word is lowercase, and all following words are uppercase). Also try to use a variable name that accurately, but succinctly describes what the data is about."
   ]
  },
  {
   "cell_type": "code",
   "execution_count": 35,
   "id": "08873175-ec87-41c3-b754-d690be382c99",
   "metadata": {},
   "outputs": [],
   "source": [
    "var totalAfterTax = 53.03; // uses camelCase if the variable name is multiple words\n",
    "var tip = 8; // uses lowercase if the variable name is one word"
   ]
  },
  {
   "cell_type": "markdown",
   "id": "75d3c246-c16f-439e-9395-6139392c8f4a",
   "metadata": {},
   "source": [
    "- Not using camelCase for your variables names is not going to necessarily break anything in JavaScript. But there are recommended style guides used in all programming languages that help keep code consistent, clean, and easy-to-read. This is especially important when working on larger projects that will be accessed by multiple developers.\n",
    "- You can read more about Google's JavaScript StyleGuide [here](https://google.github.io/styleguide/jsguide.html)."
   ]
  },
  {
   "cell_type": "markdown",
   "id": "08879ef5-3b04-459c-986f-abd951ca2ffa",
   "metadata": {},
   "source": [
    "## Quiz Converting Temperature\n",
    "- To convert Celsius to Fahrenheit, you can use the following formula:\n",
    "\n",
    "    `F=C\\times1.8+32F=C×1.8+32`\n",
    "- Use this equation and the variables fahrenheit and celsius to print the Fahrenheit equivalent of 12°C."
   ]
  },
  {
   "cell_type": "code",
   "execution_count": 36,
   "id": "c45eee32-deee-41a9-a00b-d3e2d1821378",
   "metadata": {},
   "outputs": [
    {
     "name": "stdout",
     "output_type": "stream",
     "text": [
      "53.6\n"
     ]
    }
   ],
   "source": [
    "/*\n",
    " * Programming Quiz: Converting Tempatures (2-2)\n",
    " *\n",
    " * The Celsius-to-Fahrenheit formula:\n",
    " *\n",
    " *    F = C x 1.8 + 32\n",
    " *\n",
    " * 1. Set the fahrenheit variable to the correct value using the celsius variable and the forumla above\n",
    " * 2. Log the fahrenheit variable to the console\n",
    " *\n",
    " */\n",
    " \n",
    "/*\n",
    " * QUIZ REQUIREMENTS\n",
    " * 1. Your code should have a variable `celsius`\n",
    " * 2. You code should have a variable `fahrenheit`\n",
    " * 3. Your variable `celsius` should equal `12`\n",
    " * 4. Your variable `fahrenheit` should produce the output equal `53.6`\n",
    " * 5. Your variable `fahrenheit` declaration should use the `celsius` variable\n",
    " * 6. Your variable `fahrenheit` should have the correct formula\n",
    " * 7. Your code should log the `fahrenheit` variable\n",
    " * 8. Your code should not be empty\n",
    " */\n",
    " \n",
    "\n",
    "var celsius = 12;\n",
    "var fahrenheit = celsius * 1.8 + 32 /* convert celsius to fahrenheit here */\n",
    "\n",
    "console.log(fahrenheit);"
   ]
  },
  {
   "cell_type": "markdown",
   "id": "676d9235-a6d0-487e-b112-ad72defb9975",
   "metadata": {},
   "source": [
    "## String Indexing\n",
    "- Did you know that you can access individual characters in a string? To access an individual character, you can use the character's location in the string, called its `index`. Just put the index of the character inside square brackets (starting with `[0]` as the first character) immediately after the string. For example:"
   ]
  },
  {
   "cell_type": "code",
   "execution_count": 37,
   "id": "e1088aea-50f0-42f2-a913-896ae24aa705",
   "metadata": {},
   "outputs": [
    {
     "data": {
      "text/plain": [
       "'J'"
      ]
     },
     "execution_count": 37,
     "metadata": {},
     "output_type": "execute_result"
    }
   ],
   "source": [
    "\"James\"[0];"
   ]
  },
  {
   "cell_type": "code",
   "execution_count": 38,
   "id": "7b24fc16-bdf7-4b99-877f-e1c6de5c0240",
   "metadata": {},
   "outputs": [
    {
     "data": {
      "text/plain": [
       "'J'"
      ]
     },
     "execution_count": 38,
     "metadata": {},
     "output_type": "execute_result"
    }
   ],
   "source": [
    "var name = \"James\";\n",
    "name[0];"
   ]
  },
  {
   "cell_type": "code",
   "execution_count": 39,
   "id": "2ddb44bf-3be9-41ad-ad29-0a782759242a",
   "metadata": {},
   "outputs": [
    {
     "name": "stdout",
     "output_type": "stream",
     "text": [
      "w\n"
     ]
    }
   ],
   "source": [
    "var quote = \"Stay awhile and listen!\";\n",
    "console.log(quote[6]);"
   ]
  },
  {
   "cell_type": "markdown",
   "id": "1108cce9-6f26-4319-957d-b37d2fd2cd0b",
   "metadata": {},
   "source": [
    "Alternatively, you can use the String’s `charAt()` method to access individual characters. For example, `quote.charAt(6)` would also return `\"w\"`. You’ll learn more about methods later in this course"
   ]
  },
  {
   "cell_type": "markdown",
   "id": "8cc845c9-0e4a-48ad-ae55-fb3a4925f2c4",
   "metadata": {},
   "source": [
    "## Escaping Strings\n",
    "- If you want to use quotes inside a string, and have JavaScript not misunderstand your intentions, you’ll need a different way to write quotes. Thankfully, JavaScript has a way to do this using the backslash character `( \\ )`."
   ]
  },
  {
   "cell_type": "code",
   "execution_count": 40,
   "id": "a8a2b18e-b93b-4ed0-9530-1c88bf37e99d",
   "metadata": {},
   "outputs": [
    {
     "ename": "SyntaxError",
     "evalue": "missing ) after argument list",
     "execution_count": 40,
     "output_type": "error",
     "traceback": [
      "evalmachine.<anonymous>:1",
      "console.log(\"The man whispered, \"please speak to me.\"\")",
      "            ^^^^^^^^^^^^^^^^^^^^^",
      "",
      "SyntaxError: missing ) after argument list",
      "    at new Script (node:vm:100:7)",
      "    at createScript (node:vm:257:10)",
      "    at Object.runInThisContext (node:vm:305:10)",
      "    at run ([eval]:1020:15)",
      "    at onRunRequest ([eval]:864:18)",
      "    at onMessage ([eval]:828:13)",
      "    at process.emit (node:events:527:28)",
      "    at emit (node:internal/child_process:938:14)",
      "    at processTicksAndRejections (node:internal/process/task_queues:84:21)"
     ]
    }
   ],
   "source": [
    "console.log(\"The man whispered, \"please speak to me.\"\")"
   ]
  },
  {
   "cell_type": "markdown",
   "id": "ae0e0efb-6f85-45c2-b365-aa69a4d1a255",
   "metadata": {},
   "source": [
    "### Escaping Characters\n",
    "- In JavaScript, you use the backslash to escape other characters.\n",
    "\n",
    "- ***Escaping*** a character tells JavaScript to ignore the character's special meaning and just use the literal value of the character. This is helpful for characters that have special meanings like in our previous example with quotes `\"…\"`.\n",
    "\n",
    "- Because quotes are used to signify the beginning and end of a string, you can use the backslash character to escape the quotes in order to access the literal quote character."
   ]
  },
  {
   "cell_type": "code",
   "execution_count": 41,
   "id": "bfb0b3f7-0bd5-4c6e-bc3f-adb0029e67ea",
   "metadata": {},
   "outputs": [
    {
     "name": "stdout",
     "output_type": "stream",
     "text": [
      "The man whispered, \"please speak to me.\"\n"
     ]
    }
   ],
   "source": [
    "console.log(\"The man whispered, \\\"please speak to me.\\\"\")"
   ]
  },
  {
   "cell_type": "markdown",
   "id": "a70f0623-8f73-46ff-9654-d2527b320007",
   "metadata": {},
   "source": [
    "### Special Characters\n",
    "- Quotes aren’t the only special characters that need to be escaped, there’s actually [quite a few](https://developer.mozilla.org/en-US/docs/Web/JavaScript/Guide/Grammar_and_types#Using_special_characters_in_strings). However, to keep it simple, here’s a list of some common special characters in JavaScript.\n",
    "\n",
    "| Code | Character |\n",
    "| --- | --- |\n",
    "| \\\\ |\\(backslash) |\n",
    "| \\\" | \"(double quote) |\n",
    "| \\' | '(single quote) |\n",
    "| \\n | Newline |\n",
    "| \\t | tab |"
   ]
  },
  {
   "cell_type": "markdown",
   "id": "be6cb070-9f66-4377-89db-6a22e1ffeb31",
   "metadata": {},
   "source": [
    "## Comparing Strings"
   ]
  },
  {
   "cell_type": "code",
   "execution_count": 42,
   "id": "d50e22e6-aa33-47b0-853b-e260231ee377",
   "metadata": {},
   "outputs": [
    {
     "data": {
      "text/plain": [
       "false"
      ]
     },
     "execution_count": 42,
     "metadata": {},
     "output_type": "execute_result"
    }
   ],
   "source": [
    "\"Yes\" == \"yes\""
   ]
  },
  {
   "cell_type": "markdown",
   "id": "48b87ee1-ef34-4e8d-b0c1-48fb07bc3a56",
   "metadata": {},
   "source": [
    "### Case-Sensitive\n",
    "- When you compare strings, case matters. While both string use the same letters (and those letters appear in the same order), the first letter in the first string is a capital `Y` while the first letter in the second string is a lowercase `y`."
   ]
  },
  {
   "cell_type": "code",
   "execution_count": 43,
   "id": "2c4a5948-5b07-469f-8b5e-dcd29270c6df",
   "metadata": {},
   "outputs": [
    {
     "data": {
      "text/plain": [
       "true"
      ]
     },
     "execution_count": 43,
     "metadata": {},
     "output_type": "execute_result"
    }
   ],
   "source": [
    "'Y' != 'y'"
   ]
  },
  {
   "cell_type": "markdown",
   "id": "9dcb2c79-544e-4b2e-8654-2cf99c1ea870",
   "metadata": {},
   "source": [
    "### Internal Working\n",
    "- In Javascript, strings are compared character-by-character in alphabetical order. Each character has a specific **numeric** value, coming from ASCII value of Printable characters. For example, the character 'A' has a value 65, and 'a' has a value 97. You can notice that a lowercase letter has a higher ASCII value than the uppercase character. If you want to know the ASCII value of a particular character, you can try running the codes below\n",
    "- The ASCII values of `[A-Z]` fall in the range `[65-90]`, whereas, the ASCII values of `[a-z]` fall in the range `[97-122]`. **Therefore, when we compare strings, the comparison happens character-by-character for the ASCII values**."
   ]
  },
  {
   "cell_type": "code",
   "execution_count": 44,
   "id": "10081b8d-f0d3-4713-9e4e-52af44a0fde3",
   "metadata": {},
   "outputs": [
    {
     "name": "stdout",
     "output_type": "stream",
     "text": [
      "97\n"
     ]
    }
   ],
   "source": [
    "// Pick a string. Your string can have any number of characters.\n",
    "var my_string = \"a\";\n",
    "\n",
    "// Calculate the ASCII value of the first character, i.e. the character at the position 0. \n",
    "var ASCII_value = my_string.charCodeAt(0);\n",
    "\n",
    "// Let us print\n",
    "console.log(ASCII_value);"
   ]
  },
  {
   "cell_type": "code",
   "execution_count": 45,
   "id": "3b3aafe5-6606-49bf-8935-5fca99d2bd62",
   "metadata": {},
   "outputs": [
    {
     "name": "stdout",
     "output_type": "stream",
     "text": [
      "85\n",
      "100\n",
      "97\n",
      "99\n",
      "105\n",
      "116\n",
      "121\n"
     ]
    }
   ],
   "source": [
    "var my_string = \"Udacity\";\n",
    "\n",
    "// Iterate using a Loop\n",
    "for (var i = 0; i < my_string.length; i++) {\n",
    "  console.log(my_string.charCodeAt(i));\n",
    "}"
   ]
  },
  {
   "cell_type": "code",
   "execution_count": 50,
   "id": "d36d2375-dac5-4b32-935c-a7c5217aefa4",
   "metadata": {},
   "outputs": [
    {
     "data": {
      "text/plain": [
       "false"
      ]
     },
     "execution_count": 50,
     "metadata": {},
     "output_type": "execute_result"
    }
   ],
   "source": [
    "\"Green\" > \"green\""
   ]
  },
  {
   "cell_type": "code",
   "execution_count": null,
   "id": "38efda64-b801-43d3-98b0-2a954d6633e3",
   "metadata": {},
   "outputs": [],
   "source": []
  }
 ],
 "metadata": {
  "kernelspec": {
   "display_name": "JavaScript (Node.js)",
   "language": "javascript",
   "name": "javascript"
  },
  "language_info": {
   "file_extension": ".js",
   "mimetype": "application/javascript",
   "name": "javascript",
   "version": "16.15.0"
  }
 },
 "nbformat": 4,
 "nbformat_minor": 5
}
