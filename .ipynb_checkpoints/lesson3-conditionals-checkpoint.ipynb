{
 "cells": [
  {
   "cell_type": "markdown",
   "id": "37c58fb7-0486-4c3e-b175-9a680b5abdee",
   "metadata": {},
   "source": [
    "# Lesson 3 - Conditionals"
   ]
  },
  {
   "cell_type": "markdown",
   "id": "02ee3e19-f47f-4df6-8bbd-c8668f599ad0",
   "metadata": {},
   "source": [
    "## Flowcharts\n",
    "***DEFINITION***: *A ***flowchart*** is a visual diagram that outlines the solution to a problem through a series of logical statements. The order in which statements are evaluated and executed is called the control flow.*\n",
    "\n",
    "Supporting Materials\n",
    "- [Purchase-The-Item-Flowchart](https://video.udacity-data.com/topher/2017/January/586e9791_purchase-the-item-flowchart/purchase-the-item-flowchart.jpg)\n",
    "- [Approaching-The-Castle-Flowchart](https://video.udacity-data.com/topher/2017/January/586e979e_approaching-the-castle-flowchart/approaching-the-castle-flowchart.jpg)"
   ]
  },
  {
   "cell_type": "markdown",
   "id": "bf81700a-c878-492b-8fab-ac7c26aad71a",
   "metadata": {},
   "source": [
    "## If... Else Statements\n",
    "`If...else` statements allow you to execute certain pieces of code based on a condition, or set of conditions, being met\n",
    "\n",
    "<code>if (/* this expression is true */) {\n",
    "  // run this code\n",
    "} else {\n",
    "  // run this code\n",
    "}</code>"
   ]
  },
  {
   "cell_type": "code",
   "execution_count": 1,
   "id": "755c378f-3c4f-4950-9c11-9be09bc16727",
   "metadata": {},
   "outputs": [
    {
     "name": "stdout",
     "output_type": "stream",
     "text": [
      "a is less than or equal to b\n"
     ]
    }
   ],
   "source": [
    "var a = 1;\n",
    "var b = 2;\n",
    "\n",
    "if (a > b) {\n",
    "  console.log(\"a is greater than b\");\n",
    "} else {\n",
    "  console.log(\"a is less than or equal to b\");\n",
    "}"
   ]
  },
  {
   "cell_type": "markdown",
   "id": "85100e4c-5d12-464e-9814-1c38a27ccf70",
   "metadata": {},
   "source": [
    "A couple of important things to notice about `if...else` statements.\n",
    "\n",
    "The value inside the `if` statement is always converted to `true` or `false`. Depending on the value, the code inside the `if` statement is run or the code inside the `else` statement is run, but not both. The code inside the `if` and `else` statements are surrounded by ***curly braces*** `{...}` to separate the conditions and indicate which code should be run."
   ]
  },
  {
   "cell_type": "markdown",
   "id": "2ff7bc97-ba4c-43e7-a5d7-0dbee8ebec58",
   "metadata": {},
   "source": [
    "## Else If Statements\n",
    "In JavaScript, you can represent this secondary check by using an extra if statement called an **else if statement**."
   ]
  },
  {
   "cell_type": "code",
   "execution_count": 3,
   "id": "f111182b-6a0d-4640-aa46-1bd6389fcf33",
   "metadata": {},
   "outputs": [
    {
     "name": "stdout",
     "output_type": "stream",
     "text": [
      "Wear, what you have on!\n"
     ]
    }
   ],
   "source": [
    "var weather = 'sunny';\n",
    "if (weather === 'snow') { \n",
    "    console.log(\"Bring a coat!\")\n",
    "} else if (weather === 'rain') {\n",
    "    console.log(\"Bring a rain jacket!\")\n",
    "} else {\n",
    "    console.log(\"Wear, what you have on!\")\n",
    "}"
   ]
  },
  {
   "cell_type": "markdown",
   "id": "c1042156-d1cf-4eaa-9015-9847da91eada",
   "metadata": {},
   "source": [
    "## Quiz : Even or Odd\n",
    "Write an if...else statement that:\n",
    "- prints `\"even\"` if the number is an even number\n",
    "- prints `\"odd\"` if the number is an odd number"
   ]
  },
  {
   "cell_type": "code",
   "execution_count": 7,
   "id": "e2bf3049-f9d8-49da-aad6-388b6494fa14",
   "metadata": {},
   "outputs": [
    {
     "name": "stdout",
     "output_type": "stream",
     "text": [
      "even\n"
     ]
    }
   ],
   "source": [
    "/*\n",
    " * Programming Quiz: Even or Odd (3-2)\n",
    " *\n",
    " * Write an if...else statement that prints `even` if the \n",
    " * number is even and prints `odd` if the number is odd.\n",
    " *\n",
    " * Note - make sure to print only the string \"even\" or the string \"odd\"\n",
    " */\n",
    "\n",
    "/*\n",
    " * QUIZ REQUIREMENTS\n",
    " * 1. Your code should have a variable `number`, and include an `if...else` statement\n",
    " * 2. Your conditional should use a strict comparison (`===` or `!==`), and use the modulo ( `%` ) operator\n",
    " * 3. Your code should produce the expected output - \"even\" or \"odd\" using console.log() method\n",
    " */\n",
    " \n",
    " \n",
    "// change the value of `number` to test your if...else statement\n",
    "var number = 10;\n",
    "\n",
    "if (number % 2 === 0) {\n",
    "    console.log(\"even\")\n",
    "} else {\n",
    "    console.log(\"odd\")\n",
    "}"
   ]
  },
  {
   "cell_type": "markdown",
   "id": "379def40-63b5-4e63-a085-1364bb7eb7a6",
   "metadata": {},
   "source": [
    "## Quiz : Musical Groups\n",
    "Write an if...else statement that:\n",
    "- Musical groups have special names based on the number of people in the group.\n",
    "- For example, a \"quartet\" is a musical group with four musicians. Barbershop quartets were a popular type of quartet in the early 1900s and featured four singers made up of a lead, tenor, baritone, and bass.\n",
    "\n",
    "\n",
    "### Directions:\n",
    "Write a series of conditional statements that:\n",
    "\n",
    "- Prints `\"not a group\"` if `musicians` is less than or equal to `0`\n",
    "- Prints `\"solo\"` if `musicians` is equal to `1`\n",
    "- Prints `\"duet\"` if `musicians` is equal to `2`\n",
    "- Prints `\"trio\"` if `musicians` is equal to `3`\n",
    "- Prints `\"quartet\"` if `musicians` is equal to `4`\n",
    "- Prints `\"this is a large group\"` if `musicians` is greater than `4`"
   ]
  },
  {
   "cell_type": "code",
   "execution_count": 15,
   "id": "e029bf67-2ce2-4de1-b944-7bc70ed9edb7",
   "metadata": {},
   "outputs": [
    {
     "name": "stdout",
     "output_type": "stream",
     "text": [
      "this is a large group\n"
     ]
    }
   ],
   "source": [
    "/*\n",
    " * Programming Quiz: Musical Groups (3-3)\n",
    " */\n",
    "/*\n",
    " * QUIZ REQUIREMENTS\n",
    " * 1. Your code should have a variable `musicians`, and include `if...else if...else` conditional statement\n",
    " * 2. Your code should produce the expected output, as mentioned above. Read each condition carefully. \n",
    " */\n",
    " \n",
    "// change the value of `musicians` to test your conditional statements\n",
    "var musicians = 10;\n",
    "\n",
    "if (musicians <= 0 ){\n",
    "    console.log(\"not a group\")\n",
    "}else if(musicians === 1) {\n",
    "    console.log(\"solo\")\n",
    "}else if(musicians === 2) {\n",
    "    console.log(\"duet\")\n",
    "}else if(musicians === 3) {\n",
    "    console.log(\"trio\")\n",
    "}else if(musicians === 4) {\n",
    "    console.log(\"quartet\")\n",
    "}else {\n",
    "    console.log(\"this is a large group\")\n",
    "}\n",
    "\n",
    "// your code goes here"
   ]
  },
  {
   "cell_type": "markdown",
   "id": "4eb7c8d9-be17-4aa9-ba40-9aa77c2e8571",
   "metadata": {},
   "source": [
    "## Quiz : Murder Mystery\n",
    "Here's what we know! In this murder mystery there are:\n",
    "- **four rooms**: the ballroom, gallery, billiards room, and dining room,\n",
    "- **four weapons**: poison, a trophy, a pool stick, and a knife,\n",
    "- and **four suspects**: Mr. Parkes, Ms. Van Cleve, Mrs. Sparr, and Mr. Kaleh\n",
    "\n",
    "\n",
    "We also know that each weapon corresponds to a particular room, so...\n",
    "- the `poison` belongs to the `ballroom`,\n",
    "- the `trophy` belongs to the `gallery`,\n",
    "- the `pool` stick belongs to the `billiards` room,\n",
    "- and the `knife` belongs to the `dining` room.\n",
    "\n",
    "And we know that each suspect was located in a specific room at the time of the murder.\n",
    "- `Mr. Parkes` was located in the `dining room`.\n",
    "- `Ms. Van Cleve` was located in the `gallery`.\n",
    "- `Mrs. Sparr` was located in the `billiards room`.\n",
    "- `Mr. Kalehoff` was located in the `ballroom`.\n",
    "\n",
    "To help solve this mystery, write a combination of conditional statements that:\n",
    "- sets the value of `weapon` based on the `room` and\n",
    "- sets the value of `solved` to `true` if the value of `room` matches the `suspect's` room\n",
    "\n",
    "\n",
    "Afterwards, use this template to print a message to the console if the mystery was solved:\n",
    "- <code>__________ did it in the __________ with the __________!</code>"
   ]
  },
  {
   "cell_type": "code",
   "execution_count": 18,
   "id": "6ab263e2-8bee-4c28-bafd-c3cd382f877e",
   "metadata": {},
   "outputs": [],
   "source": [
    "/*\n",
    " * Programming Quiz: Murder Mystery (3-4)\n",
    " */\n",
    "\n",
    "/*\n",
    " * QUIZ REQUIREMENTS\n",
    " * 1. Your code should have a variables - `room`, `suspect`, `weapon`, and `solved`\n",
    " * 2. Your code should include a conditional statement\n",
    " * 3. The variable `suspect` should use one of the provided values\n",
    " * 4. The variable `weapon` should be based on the `room`\n",
    " * 5. Your code should produce the expected output: __________ did it in the __________ with the __________!\n",
    " * Example: Mr. Parkes did it in the dining room with the knife!\n",
    " *\n",
    " * 6. For unmatching combination of the suspect and the room, print nothing on the console\n",
    " */\n",
    "\n",
    "/* ****************************************** */\n",
    "/* TESTING LOGIC */ \n",
    "// Change the value of `room` and `suspect` to test your code\n",
    "\n",
    "// A room can be either of - dining room, gallery, ballroom, or billiards room\n",
    "var room = \"billiards room\";\n",
    "\n",
    "// A suspect can be either of - Mr. Parkes, Ms. Van Cleve, Mrs. Sparr, or Mr. Kalehoff\n",
    "// Test your code by giving matching as well as unmatching names of the suspect\n",
    "var suspect = \"Mr. Parkes\"; \n",
    "\n",
    "/* ****************************************** */\n",
    "\n",
    "/* IMPLEMENTATION LOGIC*/\n",
    "\n",
    "// Initial values\n",
    "var weapon = \"\";\n",
    "var solved = false;\n",
    "\n",
    "/*\n",
    "* To help solve this mystery, write a combination of conditional statements that:\n",
    "* 1. sets the value of weapon based on the room and\n",
    "* 2. sets the value of solved to true if the value of room matches the suspect's room\n",
    "*/\n",
    "if (room === 'ballroom') {\n",
    "    weapon = 'poison';\n",
    "    if(suspect===\"Mr. Kalehoff\") \n",
    "        solved = true;\n",
    "}\n",
    "\n",
    "else if (room === 'gallery') {\n",
    "    weapon = 'trophy';    \n",
    "    if(suspect===\"Ms. Van Cleve\") \n",
    "        solved = true;\n",
    "}\n",
    "else if (room === 'billiards room') {\n",
    "    weapon = 'pool stick';\n",
    "    if(suspect===\"Mrs. Sparr\") \n",
    "        solved = true;\n",
    "} \n",
    "else if (room === 'dining room') {\n",
    "    weapon = 'knife';\n",
    "    if(suspect===\"Mr. Parkes\") \n",
    "        solved = true;\n",
    "}   \n",
    "/* ****************************************** */\n",
    "// The code below will run only when `solved` is true\n",
    "if (solved) {\n",
    "\tconsole.log(suspect + \" did it in the \"+ room +\" with the \"+weapon+\"!\");\n",
    "}\n",
    "/* ****************************************** */"
   ]
  },
  {
   "cell_type": "markdown",
   "id": "f0300ed6-4562-432a-827a-b336beb65cca",
   "metadata": {},
   "source": [
    "## Logical Operators"
   ]
  },
  {
   "cell_type": "code",
   "execution_count": 19,
   "id": "ac866ee3-efc8-483f-acfa-caf08fcab6bb",
   "metadata": {},
   "outputs": [
    {
     "name": "stdout",
     "output_type": "stream",
     "text": [
      "go to the park\n"
     ]
    }
   ],
   "source": [
    "var colt = \"not busy\";\n",
    "var weather = \"nice\";\n",
    "\n",
    "if (colt === \"not busy\" && weather === \"nice\") {\n",
    "  console.log(\"go to the park\");\n",
    "}"
   ]
  },
  {
   "cell_type": "markdown",
   "id": "940974fc-5843-47ed-8b59-ac56bed7e0eb",
   "metadata": {},
   "source": [
    "The `&&` symbol is the logical AND operator, and it is used to combine two logical expressions into one larger logical expression. If `both` smaller expressions are true, then the entire expression evaluates to true. If `either one` of the smaller expressions is false, then the whole logical expression is false."
   ]
  },
  {
   "cell_type": "markdown",
   "id": "d345d285-71c1-442b-81aa-371b7058c392",
   "metadata": {},
   "source": [
    "### Logical Expressions\n",
    "**Logical expressions** are similar to mathematical expressions, except logical expressions evaluate to either true or false."
   ]
  },
  {
   "cell_type": "markdown",
   "id": "f8de9290-e685-46e7-871d-e4e0ccd83f32",
   "metadata": {},
   "source": [
    "### Logical Expressions\n",
    "**Logical operators** can be used in conjunction with boolean values (true and false) to create complex logical expressions.\n",
    "\n",
    "By combining two boolean values together with a logical operator, you create a logical expression that returns another boolean value. Here’s a table describing the different logical operators:\n",
    "\n",
    "| Operator | Meaning | Example | How it works ? |\n",
    "| --- | --- | --- | --- |\n",
    "| `&&` | Logical AND | `value1 && value2` | Returns `true` if **both** `value1` **and** `value2` evaluate to `true`. |\n",
    "| `\\|\\|` | Logical OR | `value1 \\|\\| value2` | Returns `true` if **either** `value1` or `value2` (**or even both!**) evaluates to `true`. |\n",
    "| `!` | Logical NOT | `!value1` | Returns the **opposite** of `value1`. If `value1` is `true`, then `!value1` is `false`. |"
   ]
  },
  {
   "attachments": {
    "187e6963-6078-45d8-9fdf-46baf148bfb6.png": {
     "image/png": "[encoded data removed]"
    },
    "7e7b827c-7966-4e16-b0af-af93386190a2.png": {
     "image/png": "[encoded data removed]"
    },
    "bb2f9984-4efb-4509-9171-28efa34aeabb.png": {
     "image/png": "[encoded data removed]"
    },
    "c933be9b-0c48-4718-bc1d-e804db1dd3b0.png": {
     "image/png": "[encoded data removed]"
    }
   },
   "cell_type": "markdown",
   "id": "89bdc8be-4f7b-4d93-b27b-1a82210e1d19",
   "metadata": {},
   "source": [
    "## Truth Tables\n",
    "\n",
    "Truth tables are used to represent the result of all the possible combinations of inputs in a logical expression. A represents the boolean value on the left-side of the expression and B represents the boolean value on the right-side of the expression.\n",
    "\n",
    "Truth tables can be helpful for visualizing the different outcomes from a logical expression. However, do you notice anything peculiar about the truth tables for logical AND and OR?\n",
    "\n",
    "### && (AND)\n",
    "| A     | B     | A && B |\n",
    "|:-------|-------|--------|\n",
    "| true  | true  | true   |\n",
    "| true  | false | false  |\n",
    "| false | true  | false  |\n",
    "| false | false | false  |\n",
    "\n",
    "### \\|\\| (OR)\n",
    "| A     | B     | A \\|\\| B |\n",
    "|-------|-------|----------|\n",
    "| true  | true  | true     |\n",
    "| true  | false | true     |\n",
    "| false | true  | true     |\n",
    "| false | false | false    |\n",
    "\n",
    "### Short Circuiting\n",
    "\n",
    "#### && (AND)\n",
    "![image.png](attachment:7e7b827c-7966-4e16-b0af-af93386190a2.png)![image.png](attachment:bb2f9984-4efb-4509-9171-28efa34aeabb.png)\n",
    "\n",
    "#### \\|\\| (OR)\n",
    "![image.png](attachment:187e6963-6078-45d8-9fdf-46baf148bfb6.png)![image.png](attachment:c933be9b-0c48-4718-bc1d-e804db1dd3b0.png)\n",
    "\n",
    "In both tables, there are specific scenarios where regardless of the value of `B`, the value of `A` is enough to satisfy the condition.\n",
    "\n",
    "For example, if you look at `A AND B`, if `A` is *false*, then regardless of the value `B`, the total expression will always evaluate to *false* because both `A` and `B` must be *true* in order for the entire expression to be *true*.\n",
    "\n",
    "This behavior is called **short-circuiting** because it describes the event when later arguments in a logical expression are not considered because the first argument already satisfies the condition."
   ]
  },
  {
   "cell_type": "markdown",
   "id": "f9eb8a1d-9ac0-4110-a47f-89a399f0d4e8",
   "metadata": {},
   "source": [
    "### Quiz : Checking your balance"
   ]
  },
  {
   "cell_type": "code",
   "execution_count": 34,
   "id": "bd2bdecf-5a64-4709-b1f9-9d7e94aef635",
   "metadata": {},
   "outputs": [
    {
     "name": "stdout",
     "output_type": "stream",
     "text": [
      "Your balance is $325.\n"
     ]
    }
   ],
   "source": [
    "/*\n",
    " * Programming Quiz - Checking Your Balance (3-5)\n",
    " */\n",
    "\n",
    "/*\n",
    " * QUIZ REQUIREMENTS\n",
    " * 1. Your code should have the variables `balance`, `checkBalance`, `isActive`\n",
    " * 2. Your code should include an `if...else` conditional statement\n",
    " * 3. Your code should produce the expected output\n",
    " * 4. Your code should not be empty\n",
    " * 5. BE CAREFUL ABOUT THE PUNCTUATION AND THE EXACT WORDS TO BE PRINTED. \n",
    " */\n",
    " \n",
    "// change the values of `balance`, `checkBalance`, and `isActive` to test your code\n",
    "var balance = -325;\n",
    "var checkBalance = true;\n",
    "var isActive = true;\n",
    "\n",
    "// Start only if checkBalance === true\n",
    "if (checkBalance === true) {\n",
    "    // Cases when account is active. Now, the balance could be <, =, or > zero\n",
    "    if (isActive === true && balance > 0) {\n",
    "        console.log(\"Your balance is $\" + balance.toFixed(2) + \".\");\n",
    "    }\n",
    "    else if (isActive === true && balance === 0){\n",
    "        console.log(\"Your account is empty.\");\n",
    "    } \n",
    "    else if (isActive === true && balance < 0){\n",
    "        console.log(\"Your balance is negative. Please contact bank.\");\n",
    "    }\n",
    "    // Case when account is NOT active\n",
    "    else if (isActive === false) {\n",
    "        console.log(\"Your account is no longer active.\");\n",
    "    }  \n",
    "} \n",
    "else {\n",
    "  console.log(\"Thank you. Have a nice day!\");\n",
    "}"
   ]
  },
  {
   "cell_type": "markdown",
   "id": "e1275b05-183f-4c06-9540-c00ab399715e",
   "metadata": {},
   "source": [
    "### Quiz : Ice Cream"
   ]
  },
  {
   "cell_type": "code",
   "execution_count": 38,
   "id": "eeaa0d4b-a620-4544-b7d7-dccd1a1c340a",
   "metadata": {},
   "outputs": [],
   "source": [
    "/*\n",
    " * Programming Quiz: Ice Cream (3-6)\n",
    " *\n",
    " * Write a single if statement that logs out the message:\n",
    " * \n",
    " * \"I'd like two scoops of __________ ice cream in a __________ with __________.\"\n",
    " * \n",
    " * ...only if:\n",
    " *   - flavor is \"vanilla\" or \"chocolate\"\n",
    " *   - vessel is \"cone\" or \"bowl\"\n",
    " *   - toppings is \"sprinkles\" or \"peanuts\"\n",
    " *\n",
    " * We're only testing the if statement and your boolean operators. \n",
    " * It's okay if the output string doesn't match exactly.\n",
    " */\n",
    "\n",
    "/*\n",
    " * QUIZ REQUIREMENTS\n",
    " * 1. Your code should have the variables `flavor`, `vessel`, and `toppings`\n",
    " * 2. Your code should have an `if` statement\n",
    " * 3. Your code should use logical expressions\n",
    " * 4. Your code should work with \n",
    " *  - `flavor=vanilla`, `vessel=cone`, and `toppings=sprinkles`\n",
    " *  - `flavor=vanilla`, `vessel=cone`, and `toppings=peanuts`\n",
    " *  - `flavor=vanilla`, `vessel=bowl`, and `toppings=sprinkles`\n",
    " *  - `flavor=vanilla`, `vessel=bowl`, and `toppings=peanuts`\n",
    " * \n",
    " *  - `flavor=chocolate`, `vessel=cone`, and `toppings=sprinkles`\n",
    " *  - `flavor=chocolate`, `vessel=cone`, and `toppings=peanuts`\n",
    " *  - `flavor=chocolate`, `vessel=bowl`, and `toppings=sprinkles`\n",
    " *  - `flavor=chocolate`, `vessel=bowl`, and `toppings=peanuts`\n",
    " *   \n",
    " * 5. Your code should NOT log (print) anything when \n",
    " *  - the flavor is something other than \"vanilla\" or \"chocolate\"\n",
    " *  - the vessel is something other than \"cone\" or \"bowl\"\n",
    " *  - the toppings is something other than \"sprinkles\" or \"peanuts\"\n",
    " * \n",
    " * 6. Your code should not be empty\n",
    " */\n",
    " \n",
    "// change the values of `flavor`, `vessel`, and `toppings` to test your code\n",
    "var flavor = \"strawberry\";\n",
    "var vessel = \"cone\";\n",
    "var toppings = \"cookies\";\n",
    "\n",
    "// Add your code here\n",
    "if ((flavor === \"vanilla\" || flavor === \"chocolate\") && (vessel === \"cone\" || vessel === \"bowl\") && (toppings === \"sprinkles\" || toppings === \"peanuts\"))\n",
    "{\n",
    "    console.log (\"I'd like two scoops of \" + flavor + \"ice cream in a \" + vessel + \"with \" + toppings + \".\")\n",
    "}"
   ]
  },
  {
   "cell_type": "markdown",
   "id": "1fdb25b2-22e1-473b-9308-9fa8c0b150e7",
   "metadata": {},
   "source": [
    "### Quiz : What do i wear ?"
   ]
  },
  {
   "cell_type": "code",
   "execution_count": 39,
   "id": "4c4da6f0-c14f-4515-9c06-dfa4e4c15f89",
   "metadata": {},
   "outputs": [
    {
     "name": "stdout",
     "output_type": "stream",
     "text": [
      "L\n"
     ]
    }
   ],
   "source": [
    "/*\n",
    " * Programming Quiz: What do I Wear? (3-7)\n",
    " *\n",
    " * Using if/else statements, create a series of logical expressions that logs the size of a t-shirt based on the measurements of:\n",
    " *   - shirtWidth\n",
    " *   - shirtLength\n",
    " *   - shirtSleeve\n",
    " *\n",
    " * Use the chart above to print out one of the following correct values:\n",
    " *   - S, M, L, XL, 2XL, or 3XL\n",
    " */\n",
    "\n",
    "/*\n",
    " * QUIZ REQUIREMENTS\n",
    " * 1. Your code should have the variables `shirtWidth`, `shirtLength`, and `shirtSleeve`\n",
    " * 2. Your code should include an `if...else` conditional statement\n",
    " * 3. Your code should use logical expressions\n",
    " * 4. Your code should produce the expected output\n",
    " * 6. Your code should not be empty\n",
    " * 7. BE CAREFUL ABOUT THE EXACT CHARACTERS TO BE PRINTED.\n",
    " */\n",
    " \n",
    "\n",
    "\n",
    "// change the values of `shirtWidth`, `shirtLength`, and `shirtSleeve` to test your code\n",
    "var shirtWidth = 23;\n",
    "var shirtLength = 30;\n",
    "var shirtSleeve = 8.71;\n",
    "\n",
    "/*\n",
    " * To gain confidence, check your code for the following combination of [shirtWidth, shirtLength, shirtSleeve, expectedSize]:\n",
    " * [18, 28, 8.13, 'S']\n",
    " * [19.99, 28.99, 8.379, 'S']\n",
    " * [20, 29, 8.38, 'M']\n",
    " * [22, 30, 8.63, 'L']\n",
    " * [24, 31, 8.88, 'XL']\n",
    " * [26, 33, 9.63, '2XL']\n",
    " * [27.99, 33.99, 10.129, '2XL']\n",
    " * [28, 34, 10.13, '3XL']\n",
    " * [18, 29, 8.47, 'NA']\n",
    "*/\n",
    "\n",
    "var size = \"NA\";\n",
    "\n",
    "if ((shirtWidth>=18 && shirtWidth<20) && (shirtLength>=28 && shirtLength<29) && (shirtSleeve>=8.13 && shirtSleeve<8.38) ) {\n",
    "    size = \"S\";\n",
    "}\n",
    "else if ((shirtWidth>=20 && shirtWidth<22) && (shirtLength>=29 && shirtLength<30) && (shirtSleeve>=8.38 && shirtSleeve<8.63) ) {\n",
    "    size = \"M\";\n",
    "}\n",
    "else if ((shirtWidth>=22 && shirtWidth<24) && (shirtLength>=30 && shirtLength<31) && (shirtSleeve>=8.63 && shirtSleeve<8.88) ) {\n",
    "    size = \"L\";\n",
    "}\n",
    "else if ((shirtWidth>=24 && shirtWidth<26) && (shirtLength>=31 && shirtLength<33) && (shirtSleeve>=8.88 && shirtSleeve<9.63) ) {\n",
    "    size = \"XL\";\n",
    "}\n",
    "else if ((shirtWidth>=26 && shirtWidth<28) && (shirtLength>=33 && shirtLength<34) && (shirtSleeve>=9.63 && shirtSleeve<10.13) ) {\n",
    "    size = \"2XL\";\n",
    "}\n",
    "else if ((shirtWidth>=28) && (shirtLength>=34) && (shirtSleeve>=10.13) ) {\n",
    "    size = \"3XL\";\n",
    "}\n",
    "else {\n",
    "    size = \"NA\";\n",
    "}\n",
    "console.log(size);"
   ]
  },
  {
   "cell_type": "markdown",
   "id": "560700e3-2ddd-457f-bc18-8be1b19e1b5c",
   "metadata": {},
   "source": [
    "## Truth and Falsy\n",
    "Every value in JavaScript has an inherent boolean value. When that value is evaluated in the context of a boolean expression, the value will be transformed into that inherent boolean value."
   ]
  },
  {
   "cell_type": "markdown",
   "id": "71c4f338-7c25-4feb-8bce-ae727d45caa7",
   "metadata": {},
   "source": [
    "### Falsy Values\n",
    "A value is **falsy** if it converts to `false` when evaluated in a boolean context. For example, an empty String `\"\"` is falsy because, `\"\"` evaluates to `false`. You already know if...else statements, so let's use them to test the truthy-ness of `\"\"`.\n",
    "\n",
    "Here’s the list of all of the falsy values:\n",
    "- the Boolean value `false`\n",
    "- the `null` type\n",
    "- the `undefined` type\n",
    "- the number `0`\n",
    "- the empty string `\"\"`\n",
    "- the odd value `NaN` (stands for \"not a number\", check out the NaN [MDN article](https://developer.mozilla.org/en-US/docs/Web/JavaScript/Reference/Global_Objects/NaN))"
   ]
  },
  {
   "cell_type": "code",
   "execution_count": 1,
   "id": "e1209bac-6850-4e07-be3d-4f55a070784c",
   "metadata": {},
   "outputs": [
    {
     "name": "stdout",
     "output_type": "stream",
     "text": [
      "the value is falsy\n"
     ]
    }
   ],
   "source": [
    "if (\"\") {\n",
    "    console.log(\"the value is truthy\")\n",
    "} else {\n",
    "    console.log(\"the value is falsy\")\n",
    "}"
   ]
  },
  {
   "cell_type": "markdown",
   "id": "c73a910c-efdf-4f69-9b5b-40497a9116ae",
   "metadata": {},
   "source": [
    "### Truthy Values\n",
    "A value is **truthy** if it converts to `true` when evaluated in a boolean context. For example, the number `1` is truthy because, `1` evaluates to true. Let's use an if...else statement again to test this out:\n",
    "\n",
    "Here are some other examples of truthy values:\n",
    "- true\n",
    "- 42\n",
    "- \"pizza\"\n",
    "- \"0\"\n",
    "- \"null\"\n",
    "- \"undefined\"\n",
    "- {}\n",
    "- []"
   ]
  },
  {
   "cell_type": "code",
   "execution_count": 2,
   "id": "1906fb86-200f-4d1e-920a-3404e8c4746e",
   "metadata": {},
   "outputs": [
    {
     "name": "stdout",
     "output_type": "stream",
     "text": [
      "the value is truthy\n"
     ]
    }
   ],
   "source": [
    "if (1){\n",
    "    console.log(\"the value is truthy\")\n",
    "} else {\n",
    "    console.log(\"the value is falsy\")\n",
    "}"
   ]
  },
  {
   "cell_type": "markdown",
   "id": "35fc4b04-bd33-45dd-9c66-36f4e259f5a1",
   "metadata": {},
   "source": [
    "## Ternary Condition\n",
    "\n",
    "In the below example, the variable `color` is being assigned to either `\"green\"` or `\"red\"` based on the value of `isGoing`. This code works, but it’s a rather lengthy way for assigning a value to a variable. Thankfully, in JavaScript there’s another way.\n",
    "\n",
    "Using `if(isGoing)` is the same as using `if(isGoing === true)`. Alternatively, using `if(!isGoing)` is the same as using `if(isGoing === false)`."
   ]
  },
  {
   "cell_type": "code",
   "execution_count": null,
   "id": "f9f459f0-080e-4b59-bf1a-8b58c94f0038",
   "metadata": {},
   "outputs": [],
   "source": [
    "var isGoing = true;\n",
    "var color;\n",
    "\n",
    "if (isGoing) {\n",
    "  color = \"green\";\n",
    "} else {\n",
    "  color = \"red\";\n",
    "}\n",
    "\n",
    "console.log(color);"
   ]
  },
  {
   "cell_type": "markdown",
   "id": "29879014-7b84-4647-8518-805d08fb1423",
   "metadata": {},
   "source": [
    "The **ternary operator** provides you with a shortcut alternative for writing lengthy if...else statements.\n",
    "\n",
    "<code>conditional ? (if condition is true) : (if condition is false)</code>\n",
    "\n",
    "To use the ternary operator, first provide a conditional statement on the left-side of the `?`. Then, between the `?` and `:` write the code that would run if the condition is `true` and on the right-hand side of the `:` write the code that would run if the condition is `false`. For example, you can rewrite the example code above as:"
   ]
  },
  {
   "cell_type": "code",
   "execution_count": 3,
   "id": "3ce19ba6-3e6b-4614-a71c-498540fc0fec",
   "metadata": {},
   "outputs": [
    {
     "name": "stdout",
     "output_type": "stream",
     "text": [
      "green\n"
     ]
    }
   ],
   "source": [
    "var isGoing = true;\n",
    "var color = isGoing ? \"green\" : \"red\";\n",
    "console.log(color);"
   ]
  },
  {
   "cell_type": "code",
   "execution_count": 4,
   "id": "0672d2b7-655f-4c7c-8776-02aa7b2f4aba",
   "metadata": {},
   "outputs": [
    {
     "name": "stdout",
     "output_type": "stream",
     "text": [
      "It costs $40.00 to attend the concert. Pick up your tickets at the will call.\n"
     ]
    }
   ],
   "source": [
    "var adult = true;\n",
    "var preorder = true;\n",
    "\n",
    "console.log(\"It costs $\" + (adult ? \"40.00\" : \"20.00\") + \" to attend the concert. Pick up your tickets at the \" + (preorder ? \"will call\" : \"gate\") + \".\");"
   ]
  },
  {
   "cell_type": "markdown",
   "id": "9b875bb4-640e-45d2-ba28-613bfa55c862",
   "metadata": {},
   "source": [
    "## Navigating the Food Chain\n",
    "\n",
    "From the smallest of creatures to the largest of animals, inevitably every living, breathing thing must ingest other organisms to survive. This means that all animals will fall within one of the three consumer-based categories based on the types of food that they eat.\n",
    "- Animals that eat only plants are called herbivores\n",
    "- Animals that eat only other animals are called carnivores\n",
    "- Animals that eat both plants and animals are called omnivores\n",
    "\n",
    "### Directions\n",
    "Write a series of ternary statements that sets the variable category equal to:\n",
    "- `\"herbivore\"` if an animal eats plants\n",
    "- `\"carnivore\"` if an animal eats animals\n",
    "- `\"omnivore\"` if an animal eats plants and animals\n",
    "- `\"undefined\"` if an animal doesn't eat plants or animals\n",
    "Use the eatsPlants and eatsAnimals variables to test your code."
   ]
  },
  {
   "cell_type": "code",
   "execution_count": 6,
   "id": "71a009d3-6fb1-4254-b09c-8c66e12050ba",
   "metadata": {},
   "outputs": [
    {
     "name": "stdout",
     "output_type": "stream",
     "text": [
      "carnivore\n"
     ]
    }
   ],
   "source": [
    "/*\n",
    " * Programming Quiz - Navigating the Food Chain (3-8)\n",
    " *\n",
    " * Use a series of ternary operator to set the category to one of the following:\n",
    " *   - \"herbivore\" if an animal eats plants\n",
    " *   - \"carnivore\" if an animal eats animals\n",
    " *   - \"omnivore\" if an animal eats plants and animals\n",
    " *   - undefined if an animal doesn't eat plants or animals\n",
    " *\n",
    " * Notes\n",
    " *   - use the variables `eatsPlants` and `eatsAnimals` in your ternary expressions\n",
    " *   - `if` statements aren't allowed ;-)\n",
    " */\n",
    "\n",
    "/*\n",
    " * QUIZ REQUIREMENTS\n",
    " * - Your code should have the variables `eatsPlants`, `eatsAnimals`\n",
    " * - Your code should include ternary statements. Do not use if....else statement. \n",
    " * - Your code should produce the expected output\n",
    " * - Your code should not be empty\n",
    " * - BE CAREFUL ABOUT THE PUNCTUATION AND THE EXACT WORDS TO BE PRINTED.\n",
    " */\n",
    " \n",
    "// change the values of `eatsPlants` and `eatsAnimals` to test your code\n",
    "var eatsPlants = false;\n",
    "var eatsAnimals = true;\n",
    "\n",
    "/*\n",
    " * Test your code agaist the followig possible input/output combinations of (`eatsPlants`, `eatsAnimals`, expected output):\n",
    " * - (true, true, omnivore)\n",
    " * - (false, true, carnivore)\n",
    " * - (true, false, herbivore)\n",
    " * - (false, false, undefined)\n",
    " */\n",
    "\n",
    "var category =  eatsPlants ? (eatsAnimals ? \"omnivore\" : \"herbivore\") : (eatsAnimals ? \"carnivore\" : \"undefined\");\n",
    "\n",
    "console.log(category);\n"
   ]
  },
  {
   "cell_type": "markdown",
   "id": "783c2c1a-b5c5-46b6-a688-bf802e6ff9c6",
   "metadata": {},
   "source": [
    "## Swith Statements\n",
    "If you find yourself repeating `else if` statements in your code, where each condition is based on the same value, then it might be time to use a switch statement."
   ]
  },
  {
   "cell_type": "code",
   "execution_count": 7,
   "id": "5741d693-7cb2-43ce-909d-054c40799697",
   "metadata": {},
   "outputs": [
    {
     "name": "stdout",
     "output_type": "stream",
     "text": [
      "You selected option 1.\n"
     ]
    }
   ],
   "source": [
    "var option = 1;\n",
    "if (option === 1) {\n",
    "  console.log(\"You selected option 1.\");\n",
    "} else if (option === 2) {\n",
    "  console.log(\"You selected option 2.\");\n",
    "} else if (option === 3) {\n",
    "  console.log(\"You selected option 3.\");\n",
    "} else if (option === 4) {\n",
    "  console.log(\"You selected option 4.\");\n",
    "} else if (option === 5) {\n",
    "  console.log(\"You selected option 5.\");\n",
    "} else if (option === 6) {\n",
    "  console.log(\"You selected option 6.\");\n",
    "}"
   ]
  },
  {
   "cell_type": "markdown",
   "id": "09af23f0-3f49-4ac6-87cb-0443a2ff22fb",
   "metadata": {},
   "source": [
    "A **switch statement** is an another way to chain multiple `else if` statements that are based on the same value `without using conditional statements`. Instead, you just switch which piece of code is executed based on a value."
   ]
  },
  {
   "cell_type": "code",
   "execution_count": 8,
   "id": "b79ce94a-16f1-42d3-8167-d0d9617607c3",
   "metadata": {},
   "outputs": [
    {
     "name": "stdout",
     "output_type": "stream",
     "text": [
      "You selected option 3.\n",
      "You selected option 4.\n",
      "You selected option 5.\n",
      "You selected option 6.\n"
     ]
    }
   ],
   "source": [
    "var option =3 ;\n",
    "\n",
    "switch (option) {\n",
    "  case 1:\n",
    "    console.log(\"You selected option 1.\");\n",
    "  case 2:\n",
    "    console.log(\"You selected option 2.\");\n",
    "  case 3:\n",
    "    console.log(\"You selected option 3.\");\n",
    "  case 4:\n",
    "    console.log(\"You selected option 4.\");\n",
    "  case 5:\n",
    "    console.log(\"You selected option 5.\");\n",
    "  case 6:\n",
    "    console.log(\"You selected option 6.\");\n",
    "}"
   ]
  },
  {
   "cell_type": "markdown",
   "id": "b6ec2631-8e24-4c82-8e57-a839c1f950e4",
   "metadata": {},
   "source": [
    "When the switch statement first evaluates, it looks for the first `case` clause whose expression evaluates to the same value as the result of the expression passed to the switch statement. Then, it transfers control to that `case` clause, executing the associated statements.\n",
    "\n",
    "### Break statement\n",
    "The **break statement** can be used to terminate a switch statement and transfer control to the code following the terminated statement. By adding a break to each case clause, you fix the issue of the switch statement falling-through to other case clauses."
   ]
  },
  {
   "cell_type": "code",
   "execution_count": 9,
   "id": "a04a5c5f-e0f9-48d7-992b-f6fecadb72b7",
   "metadata": {},
   "outputs": [
    {
     "name": "stdout",
     "output_type": "stream",
     "text": [
      "You selected option 3.\n"
     ]
    }
   ],
   "source": [
    "var option = 3;\n",
    "\n",
    "switch (option) {\n",
    "  case 1:\n",
    "    console.log(\"You selected option 1.\");\n",
    "    break;\n",
    "  case 2:\n",
    "    console.log(\"You selected option 2.\");\n",
    "    break;\n",
    "  case 3:\n",
    "    console.log(\"You selected option 3.\");\n",
    "    break;\n",
    "  case 4:\n",
    "    console.log(\"You selected option 4.\");\n",
    "    break;\n",
    "  case 5:\n",
    "    console.log(\"You selected option 5.\");\n",
    "    break;\n",
    "  case 6:\n",
    "    console.log(\"You selected option 6.\");\n",
    "    break; // technically, not needed\n",
    "}"
   ]
  },
  {
   "cell_type": "code",
   "execution_count": 19,
   "id": "7a29063c-a444-4d27-89f2-b18482be8a30",
   "metadata": {},
   "outputs": [
    {
     "name": "stdout",
     "output_type": "stream",
     "text": [
      "In 2015, a person with a Doctoral degree earned an average of $84,396/year.\n"
     ]
    }
   ],
   "source": [
    "/*\n",
    " * Programming Quiz: Back to School (3-9)\n",
    " *\n",
    " * Write a switch statement to set the average salary of a person based on their type of completed education.\n",
    " *\n",
    " */\n",
    "\n",
    "/*\n",
    " * QUIZ REQUIREMENTS\n",
    " * - Your code should have the variables `education`, and `salary`\n",
    " * - Your code should include a switch statement\n",
    " * - Your code should produce the expected output\n",
    " * - Your code should not be empty\n",
    " * - BE CAREFUL ABOUT THE PUNCTUATION AND THE EXACT WORDS TO BE PRINTED.\n",
    " */\n",
    " \n",
    "// change the value of `education` to test your code\n",
    "var education = 'a Doctoral degree';\n",
    "\n",
    "// set the value of this based on a person's education\n",
    "var salary = 0;\n",
    "\n",
    "// your code goes here\n",
    "switch (education) {\n",
    "    case \"no high school diploma\":\n",
    "        salary = '25,636'\n",
    "        console.log(\"In 2015, a person with \" + education + \" earned an average of $\" + salary + \"/year.\")\n",
    "        break;\n",
    "        \n",
    "    case \"a high school diploma\": \n",
    "        salary = '35,256'\n",
    "        console.log(\"In 2015, a person with \" + education + \" earned an average of $\" + salary + \"/year.\")\n",
    "        break;\n",
    "        \n",
    "    case \"an Associate's degree\": \n",
    "        salary = '41,496'\n",
    "        console.log(\"In 2015, a person with \" + education + \" earned an average of $\" + salary + \"/year.\")\n",
    "        break;\n",
    "        \n",
    "    case \"a Bachelor's degree\": \n",
    "        salary = '59,124'\n",
    "        console.log(\"In 2015, a person with \" + education + \" earned an average of $\" + salary + \"/year.\")\n",
    "        break;\n",
    "    \n",
    "    case \"a Master's degree\": \n",
    "        salary = '69,732'\n",
    "        console.log(\"In 2015, a person with \" + education + \" earned an average of $\" + salary + \"/year.\")\n",
    "        break;\n",
    "    \n",
    "    case \"a Professional degree\": \n",
    "        salary = '89,960'\n",
    "        console.log(\"In 2015, a person with \" + education + \" earned an average of $\" + salary + \"/year.\")\n",
    "        break;\n",
    "        \n",
    "    case \"a Doctoral degree\": \n",
    "        salary = '84,396'\n",
    "        console.log(\"In 2015, a person with \" + education + \" earned an average of $\" + salary + \"/year.\")\n",
    "        break;\n",
    "}"
   ]
  },
  {
   "cell_type": "code",
   "execution_count": null,
   "id": "c635fda1-e5eb-442d-89d9-57850e9d8c4b",
   "metadata": {},
   "outputs": [],
   "source": []
  }
 ],
 "metadata": {
  "kernelspec": {
   "display_name": "JavaScript (Node.js)",
   "language": "javascript",
   "name": "javascript"
  },
  "language_info": {
   "file_extension": ".js",
   "mimetype": "application/javascript",
   "name": "javascript",
   "version": "16.15.0"
  }
 },
 "nbformat": 4,
 "nbformat_minor": 5
}
