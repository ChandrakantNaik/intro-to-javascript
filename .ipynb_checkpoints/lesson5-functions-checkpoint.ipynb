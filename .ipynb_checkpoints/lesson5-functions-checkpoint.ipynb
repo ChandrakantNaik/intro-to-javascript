{
 "cells": [
  {
   "cell_type": "markdown",
   "id": "03611303-c37f-4e93-ac5f-f4ff345e642a",
   "metadata": {},
   "source": [
    "## Functions"
   ]
  },
  {
   "cell_type": "code",
   "execution_count": 2,
   "id": "055ee4a9-516a-4310-9ac8-c6faa04e70a6",
   "metadata": {
    "tags": []
   },
   "outputs": [],
   "source": [
    "function reverseStr(reverseMe){\n",
    "    reversed = \"\"\n",
    "    for (var i = reverseMe.length-1; i >=0; i --){\n",
    "        reversed += reverseMe[i];\n",
    "    }\n",
    "   return reversed;\n",
    "}"
   ]
  },
  {
   "cell_type": "code",
   "execution_count": 3,
   "id": "416b36d0-e545-4934-b233-e321b9b1c59f",
   "metadata": {},
   "outputs": [
    {
     "name": "stdout",
     "output_type": "stream",
     "text": [
      "ailuJ\n"
     ]
    }
   ],
   "source": [
    "console.log(reverseStr(\"Julia\"))"
   ]
  },
  {
   "cell_type": "markdown",
   "id": "c5637ca1-f4c7-4456-ba41-b6470c313036",
   "metadata": {
    "tags": []
   },
   "source": [
    "### How to declare functions in javascript\n",
    "Functions allow you to package up lines of code that you can use (and often reuse) in your programs.\n",
    "\n",
    "Sometimes they take **parameters**, parameter is listed as a variable after the function name, inside the parentheses. And, if there were multiple parameters, you would just separate them with commas.\n",
    "\n",
    "<code>\n",
    "function doubleGreeting(name, otherName) {\n",
    "  // code to greet two people!\n",
    "}\n",
    "</code>\n",
    "\n",
    "`undefined` is the default return value on the console when nothing is explicitly returned using the special `return` keyword"
   ]
  },
  {
   "cell_type": "code",
   "execution_count": 3,
   "id": "e8290e47-2346-4a0b-881e-d115c8df7619",
   "metadata": {},
   "outputs": [],
   "source": [
    "function sayHello() {\n",
    "  var message = \"Hello!\"\n",
    "  console.log(message);\n",
    "}"
   ]
  },
  {
   "cell_type": "code",
   "execution_count": 4,
   "id": "3c169b78-b231-4a26-982c-fd8c9a75e9f3",
   "metadata": {},
   "outputs": [
    {
     "name": "stdout",
     "output_type": "stream",
     "text": [
      "Hello!\n"
     ]
    }
   ],
   "source": [
    "sayHello()"
   ]
  },
  {
   "cell_type": "markdown",
   "id": "0281f133-516c-4eda-b86b-a8fd6fb20f5c",
   "metadata": {},
   "source": [
    "### Return Keyword\n",
    "In the sayHello() function below, a value is **printed** to the console with `console.log`, but not explicitly returned with a `return statement`. You can write a return statement by using the `return` keyword followed by the expression or value that you want to return."
   ]
  },
  {
   "cell_type": "code",
   "execution_count": 5,
   "id": "ace760cd-a73e-4281-b855-b00217774ead",
   "metadata": {},
   "outputs": [],
   "source": [
    "// declares the sayHello function\n",
    "function sayHello() {\n",
    "  var message = \"Hello!\"\n",
    "  return message; // returns value instead of printing it\n",
    "}"
   ]
  },
  {
   "cell_type": "code",
   "execution_count": 6,
   "id": "81d55814-aec2-4b66-b548-0f6e018297a3",
   "metadata": {},
   "outputs": [
    {
     "name": "stdout",
     "output_type": "stream",
     "text": [
      "Hello!\n"
     ]
    }
   ],
   "source": [
    "console.log(sayHello());"
   ]
  },
  {
   "cell_type": "markdown",
   "id": "813c038d-467f-48f7-a51c-b9e252c5604a",
   "metadata": {},
   "source": [
    "### Parameters vs. Arguments\n",
    "- A **parameter** is always going to be a variable name and appears in the function declaration. \n",
    "- On the other hand, an **argument** is always going to be a value (i.e. any of the - -JavaScript data types - a number, a string, a boolean, etc.) and will always appear in the code when the function is called or invoked.\n",
    "\n",
    "In the Example below:\n",
    "- `x` and `y` are parameters! They are defined in the function declaration. The values `5`, and `9` are passed in as function arguments."
   ]
  },
  {
   "cell_type": "code",
   "execution_count": 7,
   "id": "0b937118-e20e-4f34-8a7b-578805462444",
   "metadata": {},
   "outputs": [
    {
     "name": "stdout",
     "output_type": "stream",
     "text": [
      "7\n"
     ]
    }
   ],
   "source": [
    "function findAverage(x, y) {\n",
    "  var answer = (x + y) / 2;\n",
    "  return answer;\n",
    "}\n",
    "\n",
    "var avg = findAverage(5, 9);\n",
    "console.log(avg)"
   ]
  },
  {
   "cell_type": "markdown",
   "id": "516ff2b3-f4d1-4449-9483-04725f861d71",
   "metadata": {},
   "source": [
    "### Summary\n",
    "- **Functions** package up code so you can easily use (and reuse) a block of code. \n",
    "- **Parameters** are variables that are used to store the data that's passed into a function for the function to use. \n",
    "- **Arguments** are the actual data that's passed into a function when it is invoked:\n",
    "\n",
    "<code>\n",
    "// x and y are parameters in this function declaration\n",
    "function add(x, y) {\n",
    "  // function body\n",
    "  // Here, `sum` variable has a scope within the function. \n",
    "  // Such variables defined within a function are called Local variables\n",
    "  // You can try giving it another name\n",
    "  var sum = x + y;\n",
    "  return sum; // return statement\n",
    "}\n",
    "\n",
    "// 1 and 2 are passed into the function as arguments, \n",
    "// and the result returned by the function is stored in a new variable `sum`\n",
    "// Here, `sum` is another variable, different from the one used inside the function\n",
    "var sum = add(1, 2);    \n",
    "</code>\n",
    "\n",
    "- The **function body** is enclosed inside curly brackets\n",
    "- **Return statements** explicitly make your function return a value:"
   ]
  },
  {
   "cell_type": "code",
   "execution_count": 10,
   "id": "19ecee1a-82ad-4b46-b623-4fe187c424ba",
   "metadata": {},
   "outputs": [
    {
     "name": "stdout",
     "output_type": "stream",
     "text": [
      "hahahahahahaha!\n"
     ]
    }
   ],
   "source": [
    "/*\n",
    " * Programming Quiz: Laugh it Off 2 (5-2)\n",
    " *\n",
    " * Write a function called `laugh` with a parameter named `num` that represents the number of \"ha\"s to return.\n",
    " *\n",
    " * Note:\n",
    " *  - make sure your the final character is an exclamation mark (\"!\")\n",
    " *  - make sure that your function produces the correct results when it is called multiple times\n",
    " */\n",
    "\n",
    "/*\n",
    " * QUIZ REQUIREMENTS\n",
    " * - Your code should have a `laugh()` function\n",
    " * - Your `laugh()` function should have one parameter named `num`\n",
    " * - Your `laugh()` function should return the correct number of laughs\n",
    " */\n",
    "function laugh(num){\n",
    "    return \"ha\".repeat(num)+\"!\"\n",
    "}\n",
    "\n",
    "console.log(laugh(7))"
   ]
  },
  {
   "cell_type": "markdown",
   "id": "73c034aa-8030-46fa-a103-e5e234e4eab7",
   "metadata": {},
   "source": [
    "## Return Values\n",
    "**undefined** - A function is always going to return some value back to the caller. If a return value is not specified, then the function will just return back `undefined`.\n",
    "\n",
    "When you call `console.log()` and pass the message, you're infact calling the `console.log` function, passing an argument which is a message, and it returns back `undefined`. However the function is also printing back the message to the console\n",
    "\n",
    "It’s important to understand that **return** and **print** are not the same thing. Printing a value to the JavaScript console only displays a value (that you can view for debugging purposes), but the value it displays can't really be used for anything more than that. For this reason, you should remember to only use `console.log` to test your code in the JavaScript console."
   ]
  },
  {
   "cell_type": "code",
   "execution_count": 11,
   "id": "38a0a257-bba8-4d1e-afe4-094cc9970399",
   "metadata": {},
   "outputs": [],
   "source": [
    "function isPrime(integer){\n",
    "    for(var x=2; x<integer; x++){\n",
    "        if(integer % x === 0){\n",
    "            console.log(integer + \" is divisible by \"+ x);\n",
    "            return false;\n",
    "        }\n",
    "    }\n",
    "    return true;\n",
    "}"
   ]
  },
  {
   "cell_type": "code",
   "execution_count": 12,
   "id": "722778f3-1743-4725-a4ff-1c72a794d037",
   "metadata": {},
   "outputs": [
    {
     "data": {
      "text/plain": [
       "true"
      ]
     },
     "execution_count": 12,
     "metadata": {},
     "output_type": "execute_result"
    }
   ],
   "source": [
    "isPrime(11)"
   ]
  },
  {
   "cell_type": "code",
   "execution_count": 13,
   "id": "dce48ba1-f247-4fe9-9dec-4e5f49b74338",
   "metadata": {},
   "outputs": [
    {
     "name": "stdout",
     "output_type": "stream",
     "text": [
      "8 is divisible by 2\n"
     ]
    },
    {
     "data": {
      "text/plain": [
       "false"
      ]
     },
     "execution_count": 13,
     "metadata": {},
     "output_type": "execute_result"
    }
   ],
   "source": [
    "isPrime(8)"
   ]
  },
  {
   "cell_type": "markdown",
   "id": "41f2d6c9-7484-4b4e-9407-c1c56df49f2e",
   "metadata": {},
   "source": [
    "## Using Return Values\n",
    "*A function's return value can be stored in a variable or reused throughout your program as a function argument.* Here, we have a function that adds two numbers together, and another function that divides a number by 2. We can find the average of 5 and 7 by using the `add()` function to add a pair of numbers together, and then by passing the sum of the two numbers `add(5, 7)` into the function `divideByTwo()` as an argument."
   ]
  },
  {
   "cell_type": "code",
   "execution_count": 14,
   "id": "fd9eb075-8e7e-4767-9b75-0d37702d69af",
   "metadata": {},
   "outputs": [],
   "source": [
    "// returns the sum of two numbers\n",
    "function add(x, y) {\n",
    "  return x + y;\n",
    "}\n",
    "\n",
    "// returns the value of a number divided by 2\n",
    "function divideByTwo(num) {\n",
    "  return num / 2;\n",
    "}\n",
    "\n",
    "var sum = add(5, 7); // call the \"add\" function and store the returned value in the \"sum\" variable\n",
    "var average = divideByTwo(sum); // call the \"divideByTwo\" function and store the returned value in the \"average\" variable"
   ]
  },
  {
   "cell_type": "markdown",
   "id": "364f631d-ec7c-4939-bb61-4a7dc650bd63",
   "metadata": {},
   "source": [
    "## Scope\n",
    "- **global scope** : identifiers can be accessed everywhere withing our program. All funcitions in your program can access variables defined in global scope.\n",
    "- **function scope** : identifiers can be accessed everywhere inside the function it was defined in"
   ]
  },
  {
   "cell_type": "markdown",
   "id": "159bdfe2-a03d-4338-b894-0378feafa787",
   "metadata": {},
   "source": [
    "## Shadowing\n",
    "Shadowing a.k.a scope overriding"
   ]
  },
  {
   "cell_type": "code",
   "execution_count": 17,
   "id": "0a3cc32c-3d64-472d-afc5-b172edc38900",
   "metadata": {},
   "outputs": [
    {
     "name": "stdout",
     "output_type": "stream",
     "text": [
      "Le Petit Prince\n",
      "The Little Prince\n",
      "The Little Prince\n"
     ]
    }
   ],
   "source": [
    "var bookTitle = \"Le Petit Prince\"\n",
    "console.log(bookTitle);\n",
    "\n",
    "function displayBookEnglish(){\n",
    "    bookTitle = \"The Little Prince\"\n",
    "    console.log(bookTitle);\n",
    "}\n",
    "\n",
    "displayBookEnglish();\n",
    "console.log(bookTitle);"
   ]
  },
  {
   "cell_type": "code",
   "execution_count": 18,
   "id": "5541ea28-41f4-4483-837b-a2ee2fd28c26",
   "metadata": {},
   "outputs": [
    {
     "name": "stdout",
     "output_type": "stream",
     "text": [
      "Le Petit Prince\n",
      "The Little Prince\n",
      "Le Petit Prince\n"
     ]
    }
   ],
   "source": [
    "var bookTitle = \"Le Petit Prince\"\n",
    "console.log(bookTitle);\n",
    "\n",
    "function displayBookEnglish(){\n",
    "    var bookTitle = \"The Little Prince\"\n",
    "    console.log(bookTitle);\n",
    "}\n",
    "\n",
    "displayBookEnglish();\n",
    "console.log(bookTitle);"
   ]
  },
  {
   "cell_type": "code",
   "execution_count": 19,
   "id": "773807ae-3926-4ce9-a02a-40beb3f072d8",
   "metadata": {},
   "outputs": [
    {
     "name": "stdout",
     "output_type": "stream",
     "text": [
      "4\n"
     ]
    }
   ],
   "source": [
    "var x = 1;\n",
    "\n",
    "function addTwo() {\n",
    "  x = x + 2;\n",
    "}\n",
    "\n",
    "addTwo();\n",
    "x = x + 1;\n",
    "console.log(x);"
   ]
  },
  {
   "cell_type": "markdown",
   "id": "17774334-cde0-4954-85f1-59762a56293f",
   "metadata": {},
   "source": [
    "## Scope Recap\n",
    "What you've learned so far:\n",
    "- If an identifier is declared in **global scope**, it's available everywhere.\n",
    "- If an identifier is declared in **function scope**, it's available in the function it was declared in (even in functions declared inside the function).\n",
    "- When trying to access an identifier, the JavaScript Engine will first look in the current function. If it doesn't find anything, it will continue to the next outer function to see if it can find the identifier there. It will keep doing this until it reaches the global scope.\n",
    "- Global identifiers are a bad idea. They can lead to bad variable names, conflicting variable names, and messy code."
   ]
  },
  {
   "cell_type": "markdown",
   "id": "ed7995c3-0b9d-493c-8e6b-3b7cae904ff8",
   "metadata": {},
   "source": [
    "## Hoisting\n",
    "Before any JavaScript is executed, all function declarations are **hoisted** to the top their current scope"
   ]
  },
  {
   "cell_type": "code",
   "execution_count": 25,
   "id": "7ba10083-57fc-48b4-8611-7b8e3fc53012",
   "metadata": {},
   "outputs": [
    {
     "data": {
      "text/plain": [
       "7"
      ]
     },
     "execution_count": 25,
     "metadata": {},
     "output_type": "execute_result"
    }
   ],
   "source": [
    "findAverage(5,9)\n",
    "\n",
    "function findAverage(x,y){\n",
    "    var answer = (x+y)/2;\n",
    "    return answer;\n",
    "}"
   ]
  },
  {
   "cell_type": "code",
   "execution_count": 26,
   "id": "94499fbb-bccd-4aad-9e44-0c6041f469f9",
   "metadata": {},
   "outputs": [
    {
     "data": {
      "text/plain": [
       "7"
      ]
     },
     "execution_count": 26,
     "metadata": {},
     "output_type": "execute_result"
    }
   ],
   "source": [
    "function findAverage(x,y){\n",
    "    var answer = (x+y)/2;\n",
    "    return answer;\n",
    "}\n",
    "findAverage(5,9)"
   ]
  },
  {
   "cell_type": "code",
   "execution_count": 27,
   "id": "f721cba2-9279-4e6b-9138-548943c4d8b7",
   "metadata": {},
   "outputs": [
    {
     "name": "stdout",
     "output_type": "stream",
     "text": [
      "undefined Julia\n"
     ]
    }
   ],
   "source": [
    "sayHi(\"Julia\");\n",
    "\n",
    "function sayHi(name) {\n",
    "  console.log(greeting + \" \" + name);\n",
    "  var greeting;\n",
    "}"
   ]
  },
  {
   "cell_type": "markdown",
   "id": "eed2296d-a6fa-439f-9560-8538a9945f8f",
   "metadata": {},
   "source": [
    "The function declaration is hoisted to the top of its current scope, and inside the function, the `greeting` variable declaration is also hoisted to the top of its function scope."
   ]
  },
  {
   "cell_type": "code",
   "execution_count": 28,
   "id": "c0631e08-7ef0-4885-ba10-e109589c5b02",
   "metadata": {},
   "outputs": [
    {
     "name": "stdout",
     "output_type": "stream",
     "text": [
      "undefined Julia\n"
     ]
    }
   ],
   "source": [
    "sayHi(\"Julia\");\n",
    "\n",
    "function sayHi(name) {\n",
    "  console.log(greeting + \" \" + name);\n",
    "  var greeting = \"Hello\";\n",
    "}"
   ]
  },
  {
   "cell_type": "markdown",
   "id": "a78f64c4-f670-4bf7-b6be-5b3b9e7b343d",
   "metadata": {},
   "source": [
    "The variable declaration is hoisted to the top of current scope (the top of the function). Remember that the *declaration* is hoisted, not the assignment. The code inside `sayHi` is equivalent to:\n",
    "\n",
    "<code>\n",
    "var greeting;\n",
    "console.log(greeting + \" \" + name);\n",
    "greeting = \"Hello\";\n",
    "</code>"
   ]
  },
  {
   "cell_type": "markdown",
   "id": "182d97a5-9ec0-4d7d-a470-53373e6797ea",
   "metadata": {},
   "source": [
    "## Hoisting Summary\n",
    "- JavaScript hoists function declarations and variable declarations to the top of the current scope.\n",
    "- Variable assignments are not hoisted.\n",
    "- Declare functions and variables at the top of your scripts, so the syntax and behavior are consistent with each other."
   ]
  },
  {
   "cell_type": "code",
   "execution_count": 36,
   "id": "795f3ce6-4a23-4547-b2de-d1f3d71b4c80",
   "metadata": {},
   "outputs": [
    {
     "name": "stdout",
     "output_type": "stream",
     "text": [
      "* \n",
      "* * \n",
      "* * * \n",
      "* * * * \n",
      "* * * * * \n",
      "* * * * * * \n",
      "* * * * * * * \n",
      "* * * * * * * * \n",
      "* * * * * * * * * \n",
      "* * * * * * * * * * \n",
      "\n"
     ]
    }
   ],
   "source": [
    "/*\n",
    " * Programming Quiz: Build A Triangle (5-3)\n",
    " */\n",
    "\n",
    "/*\n",
    " * QUIZ REQUIREMENTS\n",
    " * - Your code should have a `buildTriangle()` function\n",
    " * - Your `buildTriangle()` function should take one argument (or you can say parameter)\n",
    " * - Your `laugh()` function should build the triangle as describe above\n",
    " */\n",
    "\n",
    "\n",
    "// creates a line of * for a given length\n",
    "function makeLine(length) {\n",
    "    var line = \"\";\n",
    "    for (var j = 1; j <= length; j++) {\n",
    "        line += \"* \";\n",
    "    }\n",
    "    return line + \"\\n\";\n",
    "}\n",
    "\n",
    "function buildTriangle(num){\n",
    "    var triangle = \"\";\n",
    "\n",
    "    //Let's start from the topmost line\n",
    "    var lineNumber = 1;\n",
    "\n",
    "    for(lineNumber=1; lineNumber<=num; lineNumber++){\n",
    "        // We will not print one line at a time.\n",
    "        // Rather, we will make a huge string that will comprise the whole triangle\n",
    "        triangle = triangle + makeLine(lineNumber);\n",
    "    }\n",
    "    return triangle;\n",
    "}\n",
    "\n",
    "\n",
    "\n",
    "// test your code by uncommenting the following line\n",
    "console.log(buildTriangle(10));"
   ]
  },
  {
   "cell_type": "markdown",
   "id": "890879c6-8ea8-4e8b-bb19-9878d7d5fe50",
   "metadata": {},
   "source": [
    "## Function Expressions\n",
    "For instance, remember how you can store anything you want in a variable? Well, in JavaScript, you can also store functions in variables. When a function is stored inside a variable it's called a **function expression**."
   ]
  },
  {
   "cell_type": "code",
   "execution_count": 37,
   "id": "5b768ca6-f404-4232-b386-4392c16ee701",
   "metadata": {},
   "outputs": [],
   "source": [
    "var catSays = function(max) {\n",
    "  var catMessage = \"\";\n",
    "  for (var i = 0; i < max; i++) {\n",
    "    catMessage += \"meow \";\n",
    "  }\n",
    "  return catMessage;\n",
    "};"
   ]
  },
  {
   "cell_type": "markdown",
   "id": "4ae85070-3c01-463f-9019-bcc5ad9f0cd5",
   "metadata": {},
   "source": [
    "It's **an anonymous function**, a function with no name, and you've stored it in a variable called catSays.\n",
    "\n",
    "And, if you try accessing the value of the variable `catSays`, you'll even see the function returned back to you."
   ]
  },
  {
   "cell_type": "code",
   "execution_count": 38,
   "id": "1f8ce61b-4641-47f7-aeb1-13a86778ede2",
   "metadata": {},
   "outputs": [
    {
     "data": {
      "text/plain": [
       "[Function: catSays]"
      ]
     },
     "execution_count": 38,
     "metadata": {},
     "output_type": "execute_result"
    }
   ],
   "source": [
    "catSays;"
   ]
  },
  {
   "cell_type": "code",
   "execution_count": 46,
   "id": "7c753034-1f40-4870-90e6-0899c436c2b8",
   "metadata": {},
   "outputs": [
    {
     "name": "stdout",
     "output_type": "stream",
     "text": [
      "meow meow meow meow meow \n"
     ]
    }
   ],
   "source": [
    "msg = catSays(5);\n",
    "console.log(msg)"
   ]
  },
  {
   "cell_type": "markdown",
   "id": "dd09b8a2-23b3-4fe7-8b49-bbccf04cc971",
   "metadata": {},
   "source": [
    "### Function Expression & Hoisting\n",
    "Deciding when to use a function expression and when to use a function declaration can depend on a few things, and you will see some ways to use them in the next section. But, one thing you'll want to be careful of is hoisting\n",
    "\n",
    "All function declarations are hoisted and loaded before the script is actually run. Function expressions are not hoisted, since they involve variable assignment, and only variable declarations are hoisted. The function expression will not be loaded until the interpreter reaches it in the script."
   ]
  },
  {
   "cell_type": "markdown",
   "id": "94b89d4d-2d8c-447b-b644-73d93298f34d",
   "metadata": {},
   "source": [
    "## Patterns with Function Expressions\n",
    "### Functions as Parameters\n",
    "Being able to store a function in a variable makes it really simple to pass the function into another function. A function that is passed into another function is called a **callback**. \n",
    "\n",
    "Let's say you had a `helloCat()` function, and you wanted it to return \"Hello\" followed by a string of \"meows\" like you had with `catSays`. Well, rather than redoing all of your hard work, you can make `helloCat()` accept a callback function, and pass in `catSays`."
   ]
  },
  {
   "cell_type": "code",
   "execution_count": 40,
   "id": "fd30df2c-ddfc-4bcf-a86f-8411bb7330ad",
   "metadata": {},
   "outputs": [
    {
     "data": {
      "text/plain": [
       "'Hello meow meow meow '"
      ]
     },
     "execution_count": 40,
     "metadata": {},
     "output_type": "execute_result"
    }
   ],
   "source": [
    "// function expression catSays\n",
    "var catSays = function(max) {\n",
    "  var catMessage = \"\";\n",
    "  for (var i = 0; i < max; i++) {\n",
    "    catMessage += \"meow \";\n",
    "  }\n",
    "  return catMessage;\n",
    "};\n",
    "\n",
    "// function declaration helloCat accepting a callback\n",
    "function helloCat(callbackFunc) {\n",
    "  return \"Hello \" + callbackFunc(3);\n",
    "}\n",
    "\n",
    "// pass in catSays as a callback function\n",
    "helloCat(catSays);"
   ]
  },
  {
   "cell_type": "markdown",
   "id": "0cc4f04f-1273-4804-8825-f2530509e173",
   "metadata": {},
   "source": [
    "### Named function expressions\n",
    "#### Inline functions\n",
    "A function expression is when a function is assigned to a variable. And, in JavaScript, this can also happen when you pass a function inline as an argument to another function. Take the `favoriteMovie` example for instance:"
   ]
  },
  {
   "cell_type": "code",
   "execution_count": 41,
   "id": "8641e5b0-ec68-460f-8c96-3065599314bf",
   "metadata": {},
   "outputs": [
    {
     "name": "stdout",
     "output_type": "stream",
     "text": [
      "My favorite movie is Finding Nemo\n"
     ]
    }
   ],
   "source": [
    "// Function expression that assigns the function displayFavorite \n",
    "// to the variable favoriteMovie\n",
    "var favoriteMovie = function displayFavorite(movieName) {\n",
    "  console.log(\"My favorite movie is \" + movieName);\n",
    "};\n",
    "\n",
    "// Function declaration that has two parameters: a function for displaying\n",
    "// a message, along with a name of a movie\n",
    "function movies(messageFunction, name) {\n",
    "  messageFunction(name);\n",
    "}\n",
    "\n",
    "// Call the movies function, pass in the favoriteMovie function and name of movie\n",
    "movies(favoriteMovie, \"Finding Nemo\");"
   ]
  },
  {
   "cell_type": "markdown",
   "id": "5e0e5256-bf8c-4ffd-bb81-0b4ee7ab2029",
   "metadata": {},
   "source": [
    "But you could have bypassed the first assignment of the function, by passing the function to the `movies()` function inline."
   ]
  },
  {
   "cell_type": "code",
   "execution_count": 42,
   "id": "bd9482cb-ccaa-459c-af56-d7a7bdb30d05",
   "metadata": {},
   "outputs": [
    {
     "name": "stdout",
     "output_type": "stream",
     "text": [
      "My favorite movie is Finding Nemo\n"
     ]
    }
   ],
   "source": [
    "// Function declaration that takes in two arguments: a function for displaying\n",
    "// a message, along with a name of a movie\n",
    "function movies(messageFunction, name) {\n",
    "  messageFunction(name);\n",
    "}\n",
    "\n",
    "// Call the movies function, pass in the function and name of movie\n",
    "movies(function displayFavorite(movieName) {\n",
    "  console.log(\"My favorite movie is \" + movieName);\n",
    "}, \"Finding Nemo\");"
   ]
  },
  {
   "cell_type": "markdown",
   "id": "cd926662-b475-460c-9307-ad119ffe364e",
   "metadata": {},
   "source": [
    "### Why use anonymous inline function expressions?\n",
    "Using an anonymous inline function expression might seem like a very not-useful thing at first. Why define a function that can only be used once and you can't even call it by name?\n",
    "\n",
    "Anonymous inline function expressions are often used with function callbacks that are probably not going to be reused elsewhere. Yes, you could store the function in a variable, give it a name, and pass it in like you saw in the examples above. However, when you know the function is not going to be reused, it could save you many lines of code to just define it inline."
   ]
  },
  {
   "cell_type": "code",
   "execution_count": 43,
   "id": "9d783e26-0934-4fa2-9087-119427113b7b",
   "metadata": {},
   "outputs": [],
   "source": [
    "// anonymous function expression\n",
    "var doSomething = function(y) {\n",
    "  return y + 1;\n",
    "};"
   ]
  },
  {
   "cell_type": "code",
   "execution_count": 44,
   "id": "21d12555-c901-4a2c-a400-9c46e7c9db49",
   "metadata": {},
   "outputs": [],
   "source": [
    "var doSomething = function addOne(y) {\n",
    "  return y + 1;\n",
    "};"
   ]
  },
  {
   "cell_type": "code",
   "execution_count": 45,
   "id": "017a00af-f946-4628-9531-9f1131807eca",
   "metadata": {},
   "outputs": [
    {
     "data": {
      "text/plain": [
       "6"
      ]
     },
     "execution_count": 45,
     "metadata": {},
     "output_type": "execute_result"
    }
   ],
   "source": [
    "doSomething(5);"
   ]
  },
  {
   "cell_type": "code",
   "execution_count": null,
   "id": "f395dbb8-4d95-4fc8-a1bd-7869614e2cf3",
   "metadata": {},
   "outputs": [],
   "source": []
  }
 ],
 "metadata": {
  "kernelspec": {
   "display_name": "JavaScript (Node.js)",
   "language": "javascript",
   "name": "javascript"
  },
  "language_info": {
   "file_extension": ".js",
   "mimetype": "application/javascript",
   "name": "javascript",
   "version": "16.15.0"
  }
 },
 "nbformat": 4,
 "nbformat_minor": 5
}
