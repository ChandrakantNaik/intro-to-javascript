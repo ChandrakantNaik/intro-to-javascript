{
 "cells": [
  {
   "cell_type": "markdown",
   "id": "203dd545-176d-4776-8051-f1354ccc17f3",
   "metadata": {},
   "source": [
    "# Arrays\n",
    "An array is a data structure that you can use to story **multiple values** and **arrays** are also organized/ordered.\n",
    "\n",
    "You can define a new array by listing values separated with commas between square brackets `[]`.\n",
    "\n",
    "Arrays start with 0."
   ]
  },
  {
   "cell_type": "code",
   "execution_count": 1,
   "id": "cecf8f30-d3ca-4ffc-8492-0ce0f3e7c81c",
   "metadata": {},
   "outputs": [],
   "source": [
    "var friends = ['Piyush Bisht', 'Kalyani', 'Vaishak', 'Yoga', 'Sonali'];"
   ]
  },
  {
   "cell_type": "code",
   "execution_count": 2,
   "id": "f3616f67-199a-4c1d-be4d-158a9bfb8636",
   "metadata": {},
   "outputs": [],
   "source": [
    "// creates a `mixedData` array with mixed data types\n",
    "var mixedData = [\"abcd\", 1, true, undefined, null, \"all the things\"];"
   ]
  },
  {
   "cell_type": "markdown",
   "id": "cb0f04d6-aaaf-466f-84a9-68132fdcb4db",
   "metadata": {},
   "source": [
    "You can even store an array in an array to create a nested array!"
   ]
  },
  {
   "cell_type": "code",
   "execution_count": 3,
   "id": "b3c9b7b4-b86f-4d3d-8ce3-569f748a9419",
   "metadata": {},
   "outputs": [],
   "source": [
    "// creates a `arraysInArrays` array with three arrays\n",
    "var arraysInArrays = [[1, 2, 3], [\"Julia\", \"James\"], [true, false, true, false]];"
   ]
  },
  {
   "cell_type": "markdown",
   "id": "90aa437c-a4a3-4251-bcb5-f1dd0410c475",
   "metadata": {},
   "source": [
    "Nested arrays can be particularly hard to read, so it's common to write them on one line, using a newline after each comma"
   ]
  },
  {
   "cell_type": "code",
   "execution_count": 5,
   "id": "76f5c633-4e5b-4d94-a3f1-4bb40bd189cb",
   "metadata": {},
   "outputs": [],
   "source": [
    "var arraysInArrays = [\n",
    "  [1, 2, 3], \n",
    "  [\"Julia\", \"James\"], \n",
    "  [true, false, true, false]\n",
    "];"
   ]
  },
  {
   "cell_type": "markdown",
   "id": "bde95a7b-f4ec-49f3-b8f0-50de48e414a3",
   "metadata": {},
   "source": [
    "## Accessing Array Elements\n",
    "index : references the location or position, of an element in an array"
   ]
  },
  {
   "cell_type": "code",
   "execution_count": 6,
   "id": "3f368f73-c981-4e0c-b887-0728c9ee04ae",
   "metadata": {},
   "outputs": [
    {
     "name": "stdout",
     "output_type": "stream",
     "text": [
      "Yoga\n"
     ]
    }
   ],
   "source": [
    "console.log(friends[3])"
   ]
  },
  {
   "cell_type": "markdown",
   "id": "d4df58fd-8f7f-4779-b45b-30151f880652",
   "metadata": {},
   "source": [
    "## Indexing\n",
    "Remember that elements in an array are indexed starting at the position `0`. To access an element in an array, use the name of the array immediately followed by square brackets containing the index of the value you want to access.\n",
    "\n",
    "One thing to be aware of is if you try to access an element at an index that does not exist, a value of undefined will be returned back.\n",
    "\n",
    "Avoid accessing elements outside the bounds of an array. If you try to, the missing element will be returned back as `undefined !`"
   ]
  },
  {
   "cell_type": "code",
   "execution_count": 7,
   "id": "21bbd86a-8d7a-4ef1-b53c-23ef2091770a",
   "metadata": {},
   "outputs": [
    {
     "name": "stdout",
     "output_type": "stream",
     "text": [
      "glazed\n"
     ]
    }
   ],
   "source": [
    "var donuts = [\"glazed\", \"powdered\", \"sprinkled\"];\n",
    "console.log(donuts[0]);"
   ]
  },
  {
   "cell_type": "code",
   "execution_count": 8,
   "id": "4f2409be-0576-45ed-a338-be08003b5ac3",
   "metadata": {},
   "outputs": [
    {
     "name": "stdout",
     "output_type": "stream",
     "text": [
      "undefined\n"
     ]
    }
   ],
   "source": [
    "console.log(donuts[3]); "
   ]
  },
  {
   "cell_type": "markdown",
   "id": "de85b886-6156-49e4-8fd6-62c4de9b0175",
   "metadata": {},
   "source": [
    "Finally, if you want to change the value of an element in array, you can do so by setting it equal to a new value."
   ]
  },
  {
   "cell_type": "code",
   "execution_count": 9,
   "id": "8946c772-dd15-4633-a9b8-82dfd5b19f24",
   "metadata": {},
   "outputs": [
    {
     "name": "stdout",
     "output_type": "stream",
     "text": [
      "glazed cruller\n"
     ]
    }
   ],
   "source": [
    "donuts[1] = \"glazed cruller\"; // changes the second element in the `donuts` array to \"glazed cruller\"\n",
    "console.log(donuts[1]);"
   ]
  },
  {
   "cell_type": "code",
   "execution_count": 10,
   "id": "172dd376-7fc6-4dfd-a239-06e6993cd83c",
   "metadata": {},
   "outputs": [
    {
     "name": "stdout",
     "output_type": "stream",
     "text": [
      "[ 'glazed', 'glazed cruller', 'sprinkled' ]\n"
     ]
    }
   ],
   "source": [
    "console.log(donuts)"
   ]
  },
  {
   "cell_type": "markdown",
   "id": "c8d5d2e8-049a-418f-a7b1-73a90b2024ff",
   "metadata": {},
   "source": [
    "## Directions:\n",
    "Create an array called `udaciFamily` and add \"Julia\", \"James\", and your name to the array. Then, print the `udaciFamily` to the console using `console.log`."
   ]
  },
  {
   "cell_type": "code",
   "execution_count": 11,
   "id": "ab546c48-68f6-4e6a-ae03-03039efe871a",
   "metadata": {},
   "outputs": [
    {
     "name": "stdout",
     "output_type": "stream",
     "text": [
      "[ 'Julia', 'James', 'Chandrakant' ]\n"
     ]
    }
   ],
   "source": [
    "/*\n",
    " * Programming Quiz: UdaciFamily (6-1)\n",
    " */\n",
    "\n",
    "/*\n",
    " * QUIZ REQUIREMENTS\n",
    " * - Your code should have a variable `udaciFamily`\n",
    " * - The variable `udaciFamily` should be an array containing the values `\"Julia\"`, `\"James\"`, and one other name\n",
    " * - Your code should print `udaciFamily` to the console\n",
    " * - BE CAREFUL ABOUT THE EXACT WORDS TO BE PRINTED.\n",
    " */\n",
    "\n",
    "udaciFamily = [\"Julia\", \"James\", 'Chandrakant']\n",
    "console.log(udaciFamily)"
   ]
  },
  {
   "cell_type": "markdown",
   "id": "ab202ca3-347b-4da0-832a-d54890e7ce6b",
   "metadata": {},
   "source": [
    "## Directions:\n",
    "Create an array called `crew` to organize the Serenity’s crew and set it equal to the variables below . You don't need to type out the actual strings, just use the provided variables."
   ]
  },
  {
   "cell_type": "code",
   "execution_count": 13,
   "id": "2f748566-2146-4025-95d0-65c7b6dd1298",
   "metadata": {},
   "outputs": [
    {
     "name": "stdout",
     "output_type": "stream",
     "text": [
      "[ 'Mal', 'Zoe', 'Wash', 'Inara', 'Jayne', 'Kaylee' ]\n"
     ]
    }
   ],
   "source": [
    "/*\n",
    " * Programming Quiz: Building the Crew (6-2)\n",
    " */\n",
    "\n",
    "/*\n",
    " * QUIZ REQUIREMENTS\n",
    " * - Your code should have a variable `crew`\n",
    " * - The variable `crew` should be an array containing the Serenity\\'s crew\n",
    " * - Your code should print `crew` to the console as an array. Do not iterate over the elements. \n",
    " * - BE CAREFUL ABOUT THE PUNCTUATION AND THE EXACT WORDS TO BE PRINTED.\n",
    " */\n",
    " \n",
    "var captain = \"Mal\";\n",
    "var second = \"Zoe\";\n",
    "var pilot = \"Wash\";\n",
    "var companion = \"Inara\";\n",
    "var mercenary = \"Jayne\";\n",
    "var mechanic = \"Kaylee\";\n",
    "\n",
    "// your code goes here\n",
    "\n",
    "var crew = [captain, second, pilot, companion, mercenary, mechanic]\n",
    "console.log(crew)"
   ]
  },
  {
   "cell_type": "markdown",
   "id": "4e5e75b0-2e38-4148-955c-4aeb11c77080",
   "metadata": {},
   "source": [
    "## Directions:\n",
    "Starting with this array of `prices`, change the prices of the 1st, 3rd, and 7th elements in the array."
   ]
  },
  {
   "cell_type": "code",
   "execution_count": 14,
   "id": "eef76986-7d49-45f2-b70a-fdd4909a22e2",
   "metadata": {},
   "outputs": [
    {
     "name": "stdout",
     "output_type": "stream",
     "text": [
      "[\n",
      "  1.23, 55.1, 90.11,\n",
      "  55.2, 9.99,     1,\n",
      "   1.1, 55.3\n",
      "]\n"
     ]
    }
   ],
   "source": [
    "/*\n",
    " * Programming Quiz: The Price is Right (6-3)\n",
    " */\n",
    "/*\n",
    " * QUIZ REQUIREMENTS\n",
    " * - Your code should have a variable `prices`\n",
    " * - The variable `prices` should be an array having different values for the 1st, 3rd, and 7th elements\n",
    " * - Your code should print `prices` to the console as an array. Do not iterate over the elements. \n",
    " */\n",
    " \n",
    "var prices = [1.23, 48.11, 90.11, 8.50, 9.99, 1.00, 1.10, 67.00];\n",
    "\n",
    "// your code goes here\n",
    "\n",
    "prices[1] = 55.1;\n",
    "prices[3] = 55.2;\n",
    "prices[7] = 55.3;\n",
    "\n",
    "console.log(prices)"
   ]
  },
  {
   "cell_type": "markdown",
   "id": "c2fa907d-9c31-4f52-b07b-bbc26b0d9448",
   "metadata": {},
   "source": [
    "## Array Properties & methods\n",
    "JavaScript provides a large number of built-in methods for modifying arrays and accessing values in an array, check out the [MDN Documentation](https://developer.mozilla.org/en-US/docs/Web/JavaScript/Reference/Global_Objects/Array), or type `[]`. into the JavaScript console for a list of all the available Array methods.\n",
    "\n",
    "Common array methods :\n",
    "- `reverse` : reverses the order of the elements in an array\n",
    "- `sort` : sorts the elements in an array\n",
    "- `push & pop` : two methods that allow us to add and remove elements from an array"
   ]
  },
  {
   "cell_type": "markdown",
   "id": "52ce4356-f396-4ccb-b261-e1036988f985",
   "metadata": {},
   "source": [
    "## Array.length\n",
    "You can find the length of an array by using its `length` property.\n",
    "\n",
    "***TIP***: *Strings have a `length` property too! You can use it to get the length of any string. For example, `\"supercalifragilisticexpialidocious\".length` returns `34`*"
   ]
  },
  {
   "cell_type": "code",
   "execution_count": 15,
   "id": "973b637a-0b2c-401a-b580-ca7edd803111",
   "metadata": {},
   "outputs": [
    {
     "name": "stdout",
     "output_type": "stream",
     "text": [
      "3\n"
     ]
    }
   ],
   "source": [
    "var donuts = [\"glazed\", \"powdered\", \"sprinkled\"];\n",
    "console.log(donuts.length);"
   ]
  },
  {
   "cell_type": "code",
   "execution_count": 16,
   "id": "a5fd9b6a-3df0-44dd-97e6-ea5817989c34",
   "metadata": {},
   "outputs": [
    {
     "name": "stdout",
     "output_type": "stream",
     "text": [
      "4\n"
     ]
    }
   ],
   "source": [
    "var inventory = [\n",
    "  [\"gold pieces\", 25],\n",
    "  [\"belt\", 4],\n",
    "  [\"ring\", 1],\n",
    "  [\"shoes\", 2]\n",
    "];\n",
    "console.log(inventory.length)"
   ]
  },
  {
   "cell_type": "markdown",
   "id": "68826b16-c940-4cb9-9ff8-2501f356e35f",
   "metadata": {},
   "source": [
    "## Push\n",
    "You can use the `push()` method to add elements to the end of an array.\n",
    "Notice, with the push() method you need to pass the value of the element you want to add to the end of the array. Also, the push() method returns the length of the array after an element has been added."
   ]
  },
  {
   "cell_type": "code",
   "execution_count": 17,
   "id": "6482a561-4afd-4a8c-b75d-3ad576d1df92",
   "metadata": {},
   "outputs": [
    {
     "name": "stdout",
     "output_type": "stream",
     "text": [
      "[\n",
      "  'glazed',\n",
      "  'chocolate frosted',\n",
      "  'Boston creme',\n",
      "  'glazed cruller',\n",
      "  'cinnamon sugar',\n",
      "  'sprinkled'\n",
      "]\n"
     ]
    }
   ],
   "source": [
    "var donuts = [\"glazed\", \"chocolate frosted\", \"Boston creme\", \"glazed cruller\", \"cinnamon sugar\", \"sprinkled\"];\n",
    "console.log(donuts)"
   ]
  },
  {
   "cell_type": "code",
   "execution_count": 18,
   "id": "a8a9169b-8691-4360-8017-281f4555ae5a",
   "metadata": {},
   "outputs": [
    {
     "name": "stdout",
     "output_type": "stream",
     "text": [
      "[\n",
      "  'glazed',\n",
      "  'chocolate frosted',\n",
      "  'Boston creme',\n",
      "  'glazed cruller',\n",
      "  'cinnamon sugar',\n",
      "  'sprinkled',\n",
      "  'powdered'\n",
      "]\n"
     ]
    }
   ],
   "source": [
    "donuts.push(\"powdered\")\n",
    "console.log(donuts)"
   ]
  },
  {
   "cell_type": "code",
   "execution_count": 19,
   "id": "7ad326e6-f852-4f1d-a930-dfee2e7305bd",
   "metadata": {},
   "outputs": [
    {
     "data": {
      "text/plain": [
       "8"
      ]
     },
     "execution_count": 19,
     "metadata": {},
     "output_type": "execute_result"
    }
   ],
   "source": [
    "donuts.push(\"chesse spread donut\")"
   ]
  },
  {
   "cell_type": "markdown",
   "id": "bba95db6-6cc9-48fd-8df3-772125421aae",
   "metadata": {},
   "source": [
    "## Pop\n",
    "Alternatively, you can use the `pop()` method to remove elements from the end of an array.\n",
    "\n",
    "With the `pop()` method you don’t need to pass a value; instead, `pop()` will always remove the last element from the end of the array. \n",
    "\n",
    "Also, `pop()` returns the element that has been removed in case you need to use it."
   ]
  },
  {
   "cell_type": "code",
   "execution_count": 20,
   "id": "2383a24f-62f5-4be6-9c26-f0deeff09078",
   "metadata": {},
   "outputs": [
    {
     "data": {
      "text/plain": [
       "'cinnamon sugar'"
      ]
     },
     "execution_count": 20,
     "metadata": {},
     "output_type": "execute_result"
    }
   ],
   "source": [
    "var donuts = [\"glazed\", \"chocolate frosted\", \"Boston creme\", \"glazed cruller\", \"cinnamon sugar\", \"sprinkled\", \"powdered\"];\n",
    "\n",
    "donuts.pop(); // pops \"powdered\" off the end of the `donuts` array\n",
    "donuts.pop(); // pops \"sprinkled\" off the end of the `donuts` array\n",
    "donuts.pop(); // pops \"cinnamon sugar\" off the end of the `donuts` array"
   ]
  },
  {
   "cell_type": "code",
   "execution_count": 21,
   "id": "aeb17549-4344-4881-a033-b15677d29906",
   "metadata": {},
   "outputs": [
    {
     "name": "stdout",
     "output_type": "stream",
     "text": [
      "[ 'glazed', 'sprinkled' ]\n"
     ]
    }
   ],
   "source": [
    "var donuts = [\"glazed\", \"strawberry frosted\", \"powdered\", \"Boston creme\"];\n",
    "\n",
    "donuts.pop();\n",
    "donuts.pop();\n",
    "donuts.pop();\n",
    "donuts.push(\"maple walnut\");\n",
    "donuts.pop();\n",
    "donuts.push(\"sprinkled\");\n",
    "\n",
    "console.log(donuts)"
   ]
  },
  {
   "cell_type": "markdown",
   "id": "8d558eae-e8df-4213-b25b-d43cf87351f3",
   "metadata": {},
   "source": [
    "## Splice\n",
    "`splice()` is another handy method that allows you to add and remove elements from anywhere within an array.\n",
    "\n",
    "While `push()` and `pop()` limit you to adding and removing elements from the end of an array, `splice()` lets you specify the index location to add new elements, as well as the number of elements you'd like to delete (if any).\n",
    "\n",
    "### Following is the syntax of splice() method: \n",
    "`arrayName.splice(arg1, arg2, item1, ....., itemX); where,`\n",
    "\n",
    "- `arg1` = Mandatory argument. Specifies the starting index position to add/remove items. You can use a negative value to specify the position from the end of the array e.g., -1 specifies the last element.\n",
    "\n",
    "- `arg2` = Optional argument. Specifies the count of elements to be removed. If set to 0, no items will be removed.\n",
    "\n",
    "- `item1, ....., itemX` are the items to be added at index position arg1\n",
    "\n",
    "`splice()` method returns the item(s) that were removed.\n",
    "\n",
    "<code>\n",
    "splice(start)\n",
    "splice(start, deleteCount)\n",
    "splice(start, deleteCount, item1)\n",
    "splice(start, deleteCount, item1, item2, itemN)\n",
    "</code><br/>\n",
    "\n",
    "Take a look at the [MDN documentation](https://developer.mozilla.org/en-US/docs/Web/JavaScript/Reference/Global_Objects/Array/splice) to see a long list of example code snippets demonstrating the power of `splice()` and then try the next set of programming quizzes."
   ]
  },
  {
   "cell_type": "code",
   "execution_count": 22,
   "id": "db612e7c-8972-47f3-abbe-2743e471f74f",
   "metadata": {},
   "outputs": [
    {
     "data": {
      "text/plain": [
       "[ 'chocolate frosted' ]"
      ]
     },
     "execution_count": 22,
     "metadata": {},
     "output_type": "execute_result"
    }
   ],
   "source": [
    "var donuts = [\"glazed\", \"chocolate frosted\", \"Boston creme\", \"glazed cruller\"];\n",
    "donuts.splice(1, 1, \"chocolate cruller\", \"creme de leche\"); // removes \"chocolate frosted\" at index 1 and adds \"chocolate cruller\" and \"creme de leche\" starting at index 1"
   ]
  },
  {
   "cell_type": "code",
   "execution_count": 23,
   "id": "12e87729-c02a-4762-96e6-8ee6c19c6c2b",
   "metadata": {},
   "outputs": [
    {
     "name": "stdout",
     "output_type": "stream",
     "text": [
      "[\n",
      "  'glazed',\n",
      "  'chocolate cruller',\n",
      "  'creme de leche',\n",
      "  'Boston creme',\n",
      "  'glazed cruller'\n",
      "]\n"
     ]
    }
   ],
   "source": [
    "console.log(donuts)"
   ]
  },
  {
   "cell_type": "code",
   "execution_count": 24,
   "id": "b380f1ac-9978-4044-a8be-567e6d8a936b",
   "metadata": {},
   "outputs": [
    {
     "data": {
      "text/plain": [
       "[]"
      ]
     },
     "execution_count": 24,
     "metadata": {},
     "output_type": "execute_result"
    }
   ],
   "source": [
    "var donuts = [\"cookies\", \"cinnamon sugar\", \"creme de leche\"];\n",
    "\n",
    "donuts.splice(-2, 0, \"chocolate frosted\", \"glazed\");"
   ]
  },
  {
   "cell_type": "markdown",
   "id": "6c6ad340-e7d8-41a6-bb2e-c9455fd076cb",
   "metadata": {},
   "source": [
    "Did you look at the [MDN documentation](https://developer.mozilla.org/en-US/docs/Web/JavaScript/Reference/Global_Objects/Array/splice)? Read about what happens when the first argument is negative and the second argument is `0`."
   ]
  },
  {
   "cell_type": "code",
   "execution_count": 25,
   "id": "1af86ebe-0c02-4285-9fb5-de98783a66b2",
   "metadata": {},
   "outputs": [
    {
     "name": "stdout",
     "output_type": "stream",
     "text": [
      "[\n",
      "  'cookies',\n",
      "  'chocolate frosted',\n",
      "  'glazed',\n",
      "  'cinnamon sugar',\n",
      "  'creme de leche'\n",
      "]\n"
     ]
    }
   ],
   "source": [
    "console.log(donuts)"
   ]
  },
  {
   "cell_type": "markdown",
   "id": "7adb8c4a-7ccd-4e5f-91c1-619c7bcb1e01",
   "metadata": {},
   "source": [
    "Directions:\n",
    "James was creating an array with the colors of the rainbow, and he forgot some colors. The standard rainbow colors are usually listed in this order:\n",
    "\n",
    "`var rainbow = [\"Red\", \"Orange\", \"Yellow\", \"Green\", \"Blue\", \"Purple\"];`\n",
    "\n",
    "but James had this:\n",
    "\n",
    "`var rainbow = [\"Red\", \"Orange\", \"Blackberry\", \"Blue\"];`\n",
    "\n",
    "Using only the `splice()` method, insert the missing colors into the array, and remove the color `\"Blackberry\"` by following these steps:\n",
    "\n",
    "- Remove `\"Blackberry\"`\n",
    "- Add `\"Yellow\"` and `\"Green\"`\n",
    "- Add `\"Purple\"`"
   ]
  },
  {
   "cell_type": "code",
   "execution_count": 41,
   "id": "5b592ece-8c22-4033-a0c0-33fa9c395214",
   "metadata": {},
   "outputs": [
    {
     "data": {
      "text/plain": [
       "[]"
      ]
     },
     "execution_count": 41,
     "metadata": {},
     "output_type": "execute_result"
    }
   ],
   "source": [
    "/*\n",
    " * Programming Quiz: Colors of the Rainbow (6-4)\n",
    " *\n",
    " * Use only the splice() method to modify the rainbow variable:\n",
    " *  - remove \"Blackberry\"\n",
    " *  - add \"Yellow\" and \"Green\"\n",
    " *  - add \"Purple\"\n",
    " */\n",
    "//var rainbow = [\"Red\", \"Orange\", \"Yellow\", \"Green\", \"Blue\", \"Purple\"];\n",
    "var rainbow = ['Red', 'Orange', 'Blackberry', 'Blue'];\n",
    "rainbow.splice(2,1,\"Yellow\", \"Green\")\n",
    "rainbow.splice(rainbow.length, 0, \"Purple\")\n",
    "// your code goes here"
   ]
  },
  {
   "cell_type": "code",
   "execution_count": 42,
   "id": "a64b34b5-c7f9-4964-9e4f-f01317705641",
   "metadata": {},
   "outputs": [
    {
     "data": {
      "text/plain": [
       "[ 'Red', 'Orange', 'Yellow', 'Green', 'Blue', 'Purple' ]"
      ]
     },
     "execution_count": 42,
     "metadata": {},
     "output_type": "execute_result"
    }
   ],
   "source": [
    "rainbow"
   ]
  },
  {
   "cell_type": "markdown",
   "id": "96489f0c-5f0e-4652-b4ba-5e90aebe20ce",
   "metadata": {},
   "source": [
    "## Directions:\n",
    "Create a function called `hasEnoughPlayers()` that takes the team array as an argument and returns true or false depending on if the array has at least seven players."
   ]
  },
  {
   "cell_type": "code",
   "execution_count": 44,
   "id": "849b32b1-b93c-4d25-8aff-7df95426b6c6",
   "metadata": {},
   "outputs": [
    {
     "name": "stdout",
     "output_type": "stream",
     "text": [
      "true\n"
     ]
    }
   ],
   "source": [
    "/*\n",
    " * Programming Quiz: Quidditch Cup (6-5)\n",
    " */\n",
    "/*\n",
    " * QUIZ REQUIREMENTS\n",
    " * - Your code should have a function `hasEnoughPlayers()`\n",
    " * - Your function `hasEnoughPlayers()` should accept one parameter\n",
    " * - Your function `hasEnoughPlayers()` should return the expected output - a Boolean value - true or false\n",
    " * - Return true if the array size is atleast 7, otherwise false. \n",
    " */\n",
    " \n",
    "function hasEnoughPlayers(arrTeam){\n",
    "    size = arrTeam.length;\n",
    "    if (size >= 7)\n",
    "        return true\n",
    "    else\n",
    "        return false\n",
    "}\n",
    "var team = [\"Oliver Wood\", \"Angelina Johnson\", \"Katie Bell\", \"Alicia Spinnet\", \"George Weasley\", \"Fred Weasley\", \"Harry Potter\"];\n",
    "console.log(hasEnoughPlayers(team));"
   ]
  },
  {
   "cell_type": "code",
   "execution_count": 46,
   "id": "ec9c3fed-298d-4a2c-a71b-2daff932f3de",
   "metadata": {},
   "outputs": [
    {
     "name": "stdout",
     "output_type": "stream",
     "text": [
      "[\n",
      "  'Mal',   'Zoe',\n",
      "  'Wash',  'Inara',\n",
      "  'Jayne', 'Kaylee',\n",
      "  'Simon', 'River',\n",
      "  'Book'\n",
      "]\n"
     ]
    }
   ],
   "source": [
    "/*\n",
    " * Programming Quiz: Joining the Crew (6-6)\n",
    " */\n",
    "/*\n",
    " * QUIZ REQUIREMENTS\n",
    " * - Your code should have a variable `crew`\n",
    " * - Your `crew` array should contain the Serenity\\'s original crew and the three new crew members\n",
    " * - Your code should use the `push()` method to add new members to the `crew` array\n",
    " * - Print the array on the console at the end\n",
    " */\n",
    "\n",
    "\n",
    "var captain = \"Mal\";\n",
    "var second = \"Zoe\";\n",
    "var pilot = \"Wash\";\n",
    "var companion = \"Inara\";\n",
    "var mercenary = \"Jayne\";\n",
    "var mechanic = \"Kaylee\";\n",
    "\n",
    "var crew = [captain, second, pilot, companion, mercenary, mechanic];\n",
    "\n",
    "var doctor = \"Simon\";\n",
    "var sister = \"River\";\n",
    "var shepherd = \"Book\";\n",
    "\n",
    "crew.push(\"Simon\")\n",
    "crew.push(\"River\")\n",
    "crew.push(\"Book\")\n",
    "console.log(crew)"
   ]
  },
  {
   "cell_type": "markdown",
   "id": "28ffe615-0513-420c-94d2-a78fec0ee4e3",
   "metadata": {},
   "source": [
    "`push() / pop()`— add/remove elements from the end of the array\n",
    "\n",
    "`unshift() / shift()`— add/remove elements from the beginning of the array\n",
    "\n",
    "`concat()`— returns a new array comprised of this array joined with other array(s) and/or value(s)\n",
    "\n",
    "`join()` - you can combine the elements in an array to form a string using the join() method.\n",
    "\n",
    "Take a look at the [Accessor Methods](https://developer.mozilla.org/en-US/docs/Web/JavaScript/Reference/Global_Objects/Array#Accessor_methods)"
   ]
  },
  {
   "cell_type": "markdown",
   "id": "ab201ae3-a1a6-482a-b04f-e3b852bcb25b",
   "metadata": {},
   "source": [
    "## Array Loops\n",
    "To loop through an array, you can use a variable to represent the index in the array, and then loop over that index to perform whatever manipulations your heart desires."
   ]
  },
  {
   "cell_type": "code",
   "execution_count": 51,
   "id": "630ab0c3-d36f-462a-9319-f20dcb2d4aa0",
   "metadata": {},
   "outputs": [
    {
     "name": "stdout",
     "output_type": "stream",
     "text": [
      "[ 'JELLY DONUT HOLE', 'CHOCOLATE DONUT HOLE', 'GLAZED DONUT HOLE' ]\n"
     ]
    }
   ],
   "source": [
    "var donuts = [\"jelly donut\", \"chocolate donut\", \"glazed donut\"];\n",
    "\n",
    "for(var i=0; i < donuts.length; i++){\n",
    "    donuts[i] += ' hole'\n",
    "    donuts[i] = donuts[i].toUpperCase();\n",
    "}\n",
    "console.log(donuts)"
   ]
  },
  {
   "cell_type": "markdown",
   "id": "75d24b4b-807b-458f-8e3a-30e55a5ccc32",
   "metadata": {},
   "source": [
    "## The forEach loop\n",
    "The `forEach()` method gives you an alternative way to iterate over an array, and manipulate each element in the array with an inline function expression.\n",
    "\n",
    "Notice that in the below code block the `forEach()` method iterates over the array without the need of an explicitly defined index."
   ]
  },
  {
   "cell_type": "code",
   "execution_count": 52,
   "id": "d477185f-847a-459e-bdce-3fdf6bbdbd1a",
   "metadata": {},
   "outputs": [
    {
     "name": "stdout",
     "output_type": "stream",
     "text": [
      "JELLY DONUT HOLE\n",
      "CHOCOLATE DONUT HOLE\n",
      "GLAZED DONUT HOLE\n"
     ]
    }
   ],
   "source": [
    "var donuts = [\"jelly donut\", \"chocolate donut\", \"glazed donut\"];\n",
    "\n",
    "function printDonuts(donut) {\n",
    "  donut += \" hole\";\n",
    "  donut = donut.toUpperCase();\n",
    "  console.log(donut);\n",
    "}\n",
    "\n",
    "donuts.forEach(printDonuts);\n"
   ]
  },
  {
   "cell_type": "code",
   "execution_count": 53,
   "id": "37296259-cb4b-47b1-a7e2-497422937f50",
   "metadata": {},
   "outputs": [
    {
     "name": "stdout",
     "output_type": "stream",
     "text": [
      "JELLY DONUT HOLE\n",
      "CHOCOLATE DONUT HOLE\n",
      "GLAZED DONUT HOLE\n"
     ]
    }
   ],
   "source": [
    "var donuts = [\"jelly donut\", \"chocolate donut\", \"glazed donut\"];\n",
    "\n",
    "donuts.forEach(function(donut) {\n",
    "  donut += \" hole\";\n",
    "  donut = donut.toUpperCase();\n",
    "  console.log(donut);\n",
    "});"
   ]
  },
  {
   "cell_type": "markdown",
   "id": "eaa3d1b8-d7b4-484c-932d-bc20cedb2170",
   "metadata": {},
   "source": [
    "### Parameters\n",
    "The function that you pass to the `forEach()` method can take up to three parameters. In the video, these are called `element`, `index`, and `array`, but you can call them whatever you like.\n",
    "\n",
    "The `forEach()` method will call this function once for each element in the array (hence the name `forEach`.) Each time, it will call the function with different arguments.\n",
    "- The `element` parameter will get the value of the array element. \n",
    "- The `index` parameter will get the index of the element (starting with zero). \n",
    "- The `array` parameter will get a reference to the whole array, which is handy if you want to modify the elements."
   ]
  },
  {
   "cell_type": "code",
   "execution_count": 54,
   "id": "4fb95e97-aaaf-49d6-863e-663fa7c2763c",
   "metadata": {},
   "outputs": [
    {
     "name": "stdout",
     "output_type": "stream",
     "text": [
      "Word 0 in cat,in,hat is cat\n",
      "Word 1 in cat,in,hat is in\n",
      "Word 2 in cat,in,hat is hat\n"
     ]
    }
   ],
   "source": [
    "words = [\"cat\", \"in\", \"hat\"];\n",
    "words.forEach(function(word, num, all) {\n",
    "  console.log(\"Word \" + num + \" in \" + all.toString() + \" is \" + word);\n",
    "});"
   ]
  },
  {
   "cell_type": "markdown",
   "id": "02298f2a-b6d7-482e-857a-f4eef4304e3c",
   "metadata": {},
   "source": [
    "## Directions:\n",
    "Use the array's forEach() [method](https://developer.mozilla.org/en-US/docs/Web/JavaScript/Reference/Global_Objects/Array/forEach) to loop over the following array and add 100 to each of the values if the value is divisible by 3."
   ]
  },
  {
   "cell_type": "code",
   "execution_count": 55,
   "id": "4b68ba6f-960e-4749-b49e-b1dea722eda0",
   "metadata": {},
   "outputs": [
    {
     "name": "stdout",
     "output_type": "stream",
     "text": [
      "[\n",
      "  112,  929,  11, 103, 199, 1000,\n",
      "    7,    1, 124,  37,   4,   19,\n",
      "  400, 3775, 299, 136, 209,  148,\n",
      "  169,  299, 106, 109,  20,   58,\n",
      "  139,   59, 103,   1, 139\n",
      "]\n"
     ]
    }
   ],
   "source": [
    "/*\n",
    " * Programming Quiz: Another Type of Loop (6-8)\n",
    " * QUIZ REQUIREMENTS\n",
    " * Use the existing `test` variable and write a `forEach` loop\n",
    " * that adds 100 to each number that is divisible by 3.\n",
    " *\n",
    " * Things to note:\n",
    " *  - Inside the loop, you must use an `if` statement to verify code is divisible by 3\n",
    " *  - Inside the loop, you can updade an element ONLY by using the arrayName[index]\n",
    " *  - Outside the loop, you can use `console.log` to verify the `test` variable \n",
    " */\n",
    "\n",
    "var test = [12, 929, 11, 3, 199, 1000, 7, 1, 24, 37, 4,\n",
    "    19, 300, 3775, 299, 36, 209, 148, 169, 299,\n",
    "    6, 109, 20, 58, 139, 59, 3, 1, 139\n",
    "];\n",
    "\n",
    "test.forEach(function(item, num, all){\n",
    "    if(item % 3 === 0){\n",
    "        all[num] += 100\n",
    "    }\n",
    "});\n",
    "\n",
    "console.log(test)"
   ]
  },
  {
   "cell_type": "markdown",
   "id": "ed31ebd5-150a-4b84-bc21-31cc90004cd1",
   "metadata": {},
   "source": [
    "## map\n",
    "Using `forEach()` will not be useful if you want to permanently modify the original array. `forEach()` always returns `undefined`. However, creating a new array from an existing array is simple with the powerful `map()` method.\n",
    "\n",
    "With the `map()` [method](https://developer.mozilla.org/en-US/docs/Web/JavaScript/Reference/Global_Objects/Array/map), you can take an array, perform some operation on each element of the array, and return a new array."
   ]
  },
  {
   "cell_type": "code",
   "execution_count": 5,
   "id": "d2e4200d-d37f-4b57-b43c-d92c8f683f67",
   "metadata": {},
   "outputs": [
    {
     "name": "stdout",
     "output_type": "stream",
     "text": [
      "1\n",
      "3\n"
     ]
    }
   ],
   "source": [
    "var myArray = [1,2,3,4,5];\n",
    "for(var i=0; i<myArray.length; i=i+2){\n",
    "    console.log(myArray[i])\n",
    "    if(i == 2){\n",
    "        break;\n",
    "    }\n",
    "}"
   ]
  },
  {
   "cell_type": "code",
   "execution_count": 6,
   "id": "6cc55410-3b0d-4b8a-bb97-b9d5aa309efe",
   "metadata": {},
   "outputs": [
    {
     "name": "stdout",
     "output_type": "stream",
     "text": [
      "1\n",
      "2\n",
      "3\n",
      "4\n",
      "5\n"
     ]
    }
   ],
   "source": [
    "var myArray = [1,2,3,4,5];\n",
    "myArray.forEach(function(elem){\n",
    "    console.log(elem);\n",
    "});"
   ]
  },
  {
   "cell_type": "code",
   "execution_count": 9,
   "id": "ccb6dc77-70ef-4274-8eb5-ca6bb419a74c",
   "metadata": {},
   "outputs": [
    {
     "name": "stdout",
     "output_type": "stream",
     "text": [
      "[ 101, 102, 103, 104, 105 ]\n"
     ]
    }
   ],
   "source": [
    "var myArray = [1,2,3,4,5];\n",
    "var newArray = myArray.map(function(elem){\n",
    "    elem = elem + 100;\n",
    "    return elem;\n",
    "});\n",
    "\n",
    "console.log(newArray)"
   ]
  },
  {
   "cell_type": "code",
   "execution_count": 11,
   "id": "65f78c6e-7506-4aed-9b97-d2e93ab5b7d4",
   "metadata": {},
   "outputs": [
    {
     "name": "stdout",
     "output_type": "stream",
     "text": [
      "[ 'JELLY DONUT HOLE', 'CHOCOLATE DONUT HOLE', 'GLAZED DONUT HOLE' ]\n"
     ]
    }
   ],
   "source": [
    "var donuts = [\"jelly donut\", \"chocolate donut\", \"glazed donut\"];\n",
    "\n",
    "var improvedDonuts = donuts.map(function(donut) {\n",
    "  donut += \" hole\";\n",
    "  donut = donut.toUpperCase();\n",
    "  return donut;\n",
    "});\n",
    "\n",
    "console.log(improvedDonuts)"
   ]
  },
  {
   "cell_type": "markdown",
   "id": "54aa5151-094b-4b35-a2e5-39b03fd63fd6",
   "metadata": {},
   "source": [
    "The `map()` method accepts one argument, a function that will be used to manipulate each element in the array. In the above example, we used a function expression to pass that function into `map()`. This function is taking in one argument, `donut` which corresponds to each element in the `donuts` array. You no longer need to iterate over the indices anymore. `map()` does all that work for you."
   ]
  },
  {
   "cell_type": "markdown",
   "id": "a1c5c88e-b14f-4aca-922f-3d074cff4775",
   "metadata": {},
   "source": [
    "## Directions:\n",
    "Use the `map()` [method](https://developer.mozilla.org/en-US/docs/Web/JavaScript/Reference/Global_Objects/Array/map) to take the array of bill amounts shown below, and create a second array of numbers called totals that shows the bill amounts with a 15% tip added."
   ]
  },
  {
   "cell_type": "code",
   "execution_count": 14,
   "id": "59837f33-0f78-4639-b3a4-3f64aa7d7e42",
   "metadata": {},
   "outputs": [
    {
     "name": "stdout",
     "output_type": "stream",
     "text": [
      "[\n",
      "   57.76,  21.99,  39.11,\n",
      "  115.13,  13.97,  11.38,\n",
      "   33.48,  14.94,   11.5,\n",
      "   114.1, 117.53, 115.11,\n",
      "    7.79,   2.55\n",
      "]\n"
     ]
    }
   ],
   "source": [
    "/*\n",
    " * Programming Quiz: I Got Bills (6-9)\n",
    " *\n",
    " * Use the .map() method to take the bills array below and create a second array\n",
    " * of numbers called totals. The totals array should contains each amount from the\n",
    " * bills array but with a 15% tip added. Log the totals array to the console.\n",
    " *\n",
    " * For example, the first two entries in the totals array would be:\n",
    " *\n",
    " * [57.76, 21.99, ... ]\n",
    " *\n",
    " * Things to note:\n",
    " *  - each entry in the totals array must be a number\n",
    " *  - each number must have an accuracy of two decimal points\n",
    " */\n",
    " \n",
    " /*\n",
    " * QUIZ REQUIREMENTS\n",
    " * - Your code should have the variables `bills` and `totals`\n",
    " * - Your `bills` array should call the `map()` method and store the return of `map()` in the `totals` array\n",
    " * - Your `totals` array should be an array of numbers\n",
    " * - Your code should print the `totals` array to the console\n",
    " * - The output must be as described above. \n",
    " */\n",
    "\n",
    "var bills = [50.23, 19.12, 34.01,\n",
    "    100.11, 12.15, 9.90, 29.11, 12.99,\n",
    "    10.00, 99.22, 102.20, 100.10, 6.77, 2.22\n",
    "];\n",
    "\n",
    "var totals = bills.map(function(elem) {\n",
    "    elem = elem * 1.15;\n",
    "    elem = elem.toFixed(2)\n",
    "    elem = Number(elem);\n",
    "    return elem\n",
    "});\n",
    "\n",
    "console.log(totals)"
   ]
  },
  {
   "cell_type": "markdown",
   "id": "610ddc8b-eea4-40ea-9604-945cc7f4a285",
   "metadata": {},
   "source": [
    "## Directions:\n",
    "Use a nested `for` loop to take the numbers array below and replace all of the values that are divisible by `2` (even numbers) with the string \"even\" and all other numbers with the string \"odd\"."
   ]
  },
  {
   "cell_type": "code",
   "execution_count": 16,
   "id": "7aeca3ad-97c1-4258-ad24-b3db6518a2e4",
   "metadata": {},
   "outputs": [
    {
     "name": "stdout",
     "output_type": "stream",
     "text": [
      "[\n",
      "  [\n",
      "    'odd',  'even',\n",
      "    'odd',  'even',\n",
      "    'odd',  'odd',\n",
      "    'even', 'even',\n",
      "    'odd',  'odd'\n",
      "  ],\n",
      "  [\n",
      "    'even', 'even',\n",
      "    'odd',  'odd',\n",
      "    'odd',  'even',\n",
      "    'even', 'odd',\n",
      "    'even', 'odd'\n",
      "  ],\n",
      "  [\n",
      "    'odd',  'even',\n",
      "    'odd',  'odd',\n",
      "    'even', 'odd',\n",
      "    'odd',  'even',\n",
      "    'even', 'odd'\n",
      "  ],\n",
      "  [\n",
      "    'even', 'odd',\n",
      "    'odd',  'odd',\n",
      "    'odd',  'even',\n",
      "    'even', 'even',\n",
      "    'even', 'odd'\n",
      "  ],\n",
      "  [\n",
      "    'even', 'even',\n",
      "    'odd',  'even',\n",
      "    'odd',  'odd',\n",
      "    'even', 'odd',\n",
      "    'odd',  'odd'\n",
      "  ],\n",
      "  [\n",
      "    'odd',  'odd',\n",
      "    'even', 'odd',\n",
      "    'odd',  'even',\n",
      "    'odd',  'odd',\n",
      "    'odd',  'even'\n",
      "  ],\n",
      "  [\n",
      "    'even', 'even',\n",
      "    'even', 'odd',\n",
      "    'odd',  'odd',\n",
      "    'odd',  'odd',\n",
      "    'odd',  'even'\n",
      "  ],\n",
      "  [\n",
      "    'odd', 'even',\n",
      "    'odd', 'even',\n",
      "    'odd', 'even',\n",
      "    'odd', 'even',\n",
      "    'odd', 'even'\n",
      "  ],\n",
      "  [\n",
      "    'odd',  'even',\n",
      "    'odd',  'odd',\n",
      "    'even', 'even',\n",
      "    'even', 'even',\n",
      "    'odd',  'even'\n",
      "  ],\n",
      "  [\n",
      "    'even', 'odd',\n",
      "    'odd',  'even',\n",
      "    'odd',  'odd',\n",
      "    'odd',  'even',\n",
      "    'even', 'even'\n",
      "  ]\n",
      "]\n"
     ]
    }
   ],
   "source": [
    "/*\n",
    " * Programming Quiz: Nested Numbers (6-10)\n",
    " * QUIZ REQUIREMENTS\n",
    " *   - The `numbers` variable is an array of arrays.\n",
    " *   - Use a nested `for` loop to cycle through `numbers`.\n",
    " *   - Convert each even number to the string \"even\"\n",
    " *   - Convert each odd number to the string \"odd\"\n",
    " */\n",
    "\n",
    "\n",
    "var numbers = [\n",
    "    [243, 12, 23, 12, 45, 45, 78, 66, 223, 3],\n",
    "    [34, 2, 1, 553, 23, 4, 66, 23, 4, 55],\n",
    "    [67, 56, 45, 553, 44, 55, 5, 428, 452, 3],\n",
    "    [12, 31, 55, 445, 79, 44, 674, 224, 4, 21],\n",
    "    [4, 2, 3, 52, 13, 51, 44, 1, 67, 5],\n",
    "    [5, 65, 4, 5, 5, 6, 5, 43, 23, 4424],\n",
    "    [74, 532, 6, 7, 35, 17, 89, 43, 43, 66],\n",
    "    [53, 6, 89, 10, 23, 52, 111, 44, 109, 80],\n",
    "    [67, 6, 53, 537, 2, 168, 16, 2, 1, 8],\n",
    "    [76, 7, 9, 6, 3, 73, 77, 100, 56, 100]\n",
    "];\n",
    "\n",
    "for(var i=0; i<numbers.length; i++){\n",
    "    for(var j=0; j<numbers[i].length; j++){\n",
    "        if(numbers[i][j] % 2 === 0){\n",
    "            numbers[i][j] = 'even';\n",
    "        }\n",
    "        else{\n",
    "            numbers[i][j] = 'odd';\n",
    "        }\n",
    "    }\n",
    "}\n",
    "\n",
    "console.log(numbers);"
   ]
  },
  {
   "cell_type": "code",
   "execution_count": null,
   "id": "c3a4651c-69b2-42a5-983d-d4cd0e507267",
   "metadata": {},
   "outputs": [],
   "source": []
  }
 ],
 "metadata": {
  "kernelspec": {
   "display_name": "JavaScript (Node.js)",
   "language": "javascript",
   "name": "javascript"
  },
  "language_info": {
   "file_extension": ".js",
   "mimetype": "application/javascript",
   "name": "javascript",
   "version": "16.15.0"
  }
 },
 "nbformat": 4,
 "nbformat_minor": 5
}
