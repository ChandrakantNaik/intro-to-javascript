{
 "cells": [
  {
   "cell_type": "markdown",
   "id": "e3dc56db-5d06-4507-8c30-89875aa9ec13",
   "metadata": {},
   "source": [
    "# Objects"
   ]
  },
  {
   "cell_type": "code",
   "execution_count": 1,
   "id": "f88fead0-2812-46c0-9df6-69a7786998b7",
   "metadata": {},
   "outputs": [
    {
     "name": "stdout",
     "output_type": "stream",
     "text": [
      "object\n"
     ]
    }
   ],
   "source": [
    "var umbrella = {\n",
    "    color: \"pink\",\n",
    "    isOpen: \"false\",\n",
    "    open: function(){\n",
    "        if(umbrella.isOpen === true){\n",
    "            return \"The umbrella is already opened!\";\n",
    "        } else {\n",
    "            umbrella.isOpen = true;\n",
    "            return \"Julia opens the umbrella\"\n",
    "        }\n",
    "    }\n",
    "};\n",
    "console.log(typeof umbrella)"
   ]
  },
  {
   "cell_type": "code",
   "execution_count": null,
   "id": "18c5733d-7619-425c-9c74-59a8e3cd3b21",
   "metadata": {},
   "outputs": [],
   "source": []
  }
 ],
 "metadata": {
  "kernelspec": {
   "display_name": "JavaScript (Node.js)",
   "language": "javascript",
   "name": "javascript"
  },
  "language_info": {
   "file_extension": ".js",
   "mimetype": "application/javascript",
   "name": "javascript",
   "version": "16.15.0"
  }
 },
 "nbformat": 4,
 "nbformat_minor": 5
}
